{
 "cells": [
  {
   "cell_type": "code",
   "execution_count": 1,
   "metadata": {},
   "outputs": [
    {
     "name": "stderr",
     "output_type": "stream",
     "text": [
      "/home/fg/tensorflow/lib/python3.5/site-packages/sklearn/cross_validation.py:41: DeprecationWarning: This module was deprecated in version 0.18 in favor of the model_selection module into which all the refactored classes and functions are moved. Also note that the interface of the new CV iterators are different from that of this module. This module will be removed in 0.20.\n",
      "  \"This module will be removed in 0.20.\", DeprecationWarning)\n",
      "/home/fg/tensorflow/lib/python3.5/site-packages/sklearn/grid_search.py:42: DeprecationWarning: This module was deprecated in version 0.18 in favor of the model_selection module into which all the refactored classes and functions are moved. This module will be removed in 0.20.\n",
      "  DeprecationWarning)\n",
      "/home/fg/tensorflow/lib/python3.5/site-packages/sklearn/learning_curve.py:22: DeprecationWarning: This module was deprecated in version 0.18 in favor of the model_selection module into which all the functions are moved. This module will be removed in 0.20\n",
      "  DeprecationWarning)\n",
      "/home/fg/tensorflow/lib/python3.5/site-packages/ipykernel_launcher.py:63: SettingWithCopyWarning: \n",
      "A value is trying to be set on a copy of a slice from a DataFrame\n",
      "\n",
      "See the caveats in the documentation: http://pandas.pydata.org/pandas-docs/stable/indexing.html#indexing-view-versus-copy\n",
      "/home/fg/tensorflow/lib/python3.5/site-packages/pandas/core/indexing.py:537: SettingWithCopyWarning: \n",
      "A value is trying to be set on a copy of a slice from a DataFrame.\n",
      "Try using .loc[row_indexer,col_indexer] = value instead\n",
      "\n",
      "See the caveats in the documentation: http://pandas.pydata.org/pandas-docs/stable/indexing.html#indexing-view-versus-copy\n",
      "  self.obj[item] = s\n"
     ]
    }
   ],
   "source": [
    "#coding=utf-8\n",
    "\n",
    "import numpy as np\n",
    "import pandas as pd\n",
    "import matplotlib.pyplot as plt\n",
    "\n",
    "from sklearn.cross_validation import train_test_split\n",
    "from sklearn import  model_selection\n",
    "from sklearn import grid_search\n",
    "\n",
    "from sklearn.ensemble import RandomForestRegressor\n",
    "from sklearn.model_selection import TimeSeriesSplit\n",
    "\n",
    "from sklearn import metrics\n",
    "\n",
    "from sklearn.learning_curve import learning_curve\n",
    "\n",
    "\n",
    "#记录程序运行时间\n",
    "import time\n",
    "\n",
    "#读入数据\n",
    "train = pd.read_csv(\"../feature/train_data_new_payback_loanflag.csv\",encoding=\"utf-8\")\n",
    "columns=['loan_sum','loan_flag_1','loan_flag_2','loan_flag_3','active_date', 'age', '1M_loan_amount_sum', '3M_payback_sum', '2M_loan_amount_sum', '3M_loan_amount_sum', 'loan_period_2', 'loan_period_1', '2M_payback_sum', '1M_pid_param_1016', 'limit', '1M_cost_min', '2M_cost_mean', '1M_loan_amount_max', '2M_cost_min', 'cost_period_1', '3M_cost_mean', '1M_cost_max', '1M_cost_mean', '3M_pid_param_81', '1M_pid_param_1028', '2M_pid_param_1026', '1M_payback_sum', '2M_cost_sum', '2M_cost_max', '3M_cost_min', '1M_loan_amount_min', '3M_loan_amount_min', '3M_payback_max', '3M_cost_max', '3M_loan_amount_max', '2M_pid_param_1016', '2M_loan_amount_max', '2M_payback_max', '2M_pid_param_1028', '3M_pid_param_1016', '1M_cost_sum', '1M_loan_amount_mean', '3M_cost_sum', '1M_pid_param_1030', '1M_plannum_sum', '3M_loan_amount_mean', '2M_loan_amount_mean', '2M_payback_min', '1M_pid_param_81', 'cost_period_2', '2M_loan_amount_min', '1M_payback_max', '2M_plannum_sum', '3M_pid_param_1028', '1M_plannum_mean', '1M_cost_count', '1M_pid_param_1026', '3M_payback_min', '2M_pid_param_81', '2M_pid_param_1030', '1M_cate_id_10', '2M_payback_mean', 'sex', '2M_cost_count', '3M_plannum_sum', '1M_payback_min', '1M_cate_id_26', '1M_cate_id_1', '3M_payback_mean', '1M_cate_id_44', '3M_cate_id_3', '1M_pid_param_41', '3M_cate_id_10', '3M_pid_param_1026', '1M_pid_param_1031', '1M_cate_id_33', '3M_cate_id_26', '2M_cate_id_10', '1M_pid_param_61', '1M_pid_param_1029', '2M_pid_param_510', '2M_cate_id_13', '1M_cate_id_36', '1M_payback_mean', '2M_cate_id_9', '3M_pid_param_1030', '1M_cate_id_25', '1M_cate_id_19', '3M_cate_id_36', '1M_pid_param_510', '1M_pid_param_82', '3M_cost_count', '2M_cate_id_1', '3M_pid_param_82', '1M_pid_param_24', '3M_pid_param_61', '2M_cate_id_26', '1M_cate_id_22', '3M_cate_id_33', '2M_pid_param_144', '1M_pid_param_91', '3M_pid_param_1033', '3M_pid_param_79', '3M_cate_id_25', '3M_pid_param_73', '2M_cate_id_33', '1M_cate_id_15', '1M_cate_id_12', '3M_pid_param_313', '1M_pid_param_83', '2M_cate_id_15', '2M_cate_id_36', '3M_cate_id_44', '3M_pid_param_1031', '1M_pid_param_1033', '3M_cate_id_40', '3M_pid_param_1029', '3M_pid_param_510', '3M_cate_id_21', '3M_pid_param_712', '2M_pid_param_148', '2M_pid_param_1029', '3M_pid_param_78', '2M_pid_param_65', '1M_cate_id_11', '2M_pid_param_1033', '2M_pid_param_26', '2M_cate_id_12', '1M_cate_id_40', '1M_cate_id_3', '1M_pid_param_145', '3M_cate_id_22', '3M_cate_id_7', '2M_pid_param_312', '2M_pid_param_713', '2M_pid_param_91', '3M_pid_param_65', '2M_cate_id_22', '1M_pid_param_130', '2M_pid_param_712', '2M_pid_param_130', '3M_cate_id_43', '3M_plannum_mean', '1M_pid_param_65', '1M_pid_param_74', '1M_cate_id_39', '1M_cate_id_38', '1M_cate_id_9', '1M_pid_param_144', '2M_pid_param_119', '1M_pid_param_78', '1M_pid_param_1018', '3M_pid_param_24', '3M_cate_id_1', '3M_cate_id_14', '2M_cate_id_35', '2M_pid_param_83', '2M_cate_id_44', '3M_cate_id_11', '2M_cate_id_40', '2M_cate_id_6', '1M_pid_param_76', '1M_pid_param_1020', '2M_cate_id_25', '3M_pid_param_92', '3M_pid_param_77', '3M_pid_param_312', '1M_pid_param_1017', '3M_cate_id_9', '2M_pid_param_79', '1M_pid_param_119', '2M_pid_param_92', '3M_pid_param_91', '1M_cate_id_14', '1M_pid_param_73', '3M_pid_param_134', '2M_pid_param_72', '3M_cate_id_38', '1M_pid_param_116', '3M_cate_id_15', '2M_pid_param_77', '2M_cate_id_18', '3M_cate_id_23', '3M_pid_param_116', '2M_pid_param_313', '3M_pid_param_72', '1M_pid_param_313', '2M_plannum_min', '2M_pid_param_41', '2M_pid_param_1031', '3M_pid_param_145', '2M_plannum_mean', '1M_pid_param_31', '3M_cate_id_35', '1M_pid_param_1032', '1M_cate_id_7', '1M_plannum_max', '2M_pid_param_316', '1M_pid_param_114', '2M_cate_id_19', '2M_cate_id_11', '3M_pid_param_513', '3M_pid_param_83', '1M_cate_id_35', '1M_pid_param_1022', '2M_pid_param_61', '3M_pid_param_310', '3M_pid_param_713', '3M_cate_id_19', '3M_cate_id_18', '2M_pid_param_24', '3M_pid_param_41', '3M_pid_param_119', '2M_pid_param_57', '1M_pid_param_312', '3M_pid_param_144', '3M_pid_param_63', '1M_plannum_min', '1M_cate_id_21', '1M_pid_param_79', '3M_pid_param_94', '2M_pid_param_711', '1M_pid_param_126', '2M_pid_param_126', '2M_pid_param_39', '2M_pid_param_25', '3M_pid_param_101', '1M_pid_param_72', '2M_pid_param_17', '3M_pid_param_1038', '1M_pid_param_25', '1M_pid_param_26', '3M_pid_param_25', '3M_plannum_min', '2M_pid_param_76', '2M_pid_param_11', '1M_pid_param_92', '3M_pid_param_1017', '3M_cate_id_13', '2M_cate_id_14', '2M_pid_param_22', '2M_pid_param_1021', '3M_pid_param_131', '1M_pid_param_77', '3M_cate_id_6', '3M_cate_id_12', '2M_pid_param_82', '1M_pid_param_715', '3M_cate_id_2', '1M_cate_id_23', '3M_pid_param_1036', '1M_pid_param_22', '3M_pid_param_26', '2M_pid_param_145', '1M_cate_id_6', '3M_pid_param_311', '3M_cate_id_17', '2M_pid_param_28', '2M_pid_param_78', '2M_pid_param_1032', '3M_pid_param_37', '2M_plannum_max', '2M_pid_param_133', '2M_pid_param_714', '2M_pid_param_73', '1M_cate_id_18', '1M_pid_param_140', '3M_pid_param_715', '3M_pid_param_130', '1M_pid_param_93', '1M_pid_param_134', '3M_pid_param_117', '3M_pid_param_1018', '2M_cate_id_21', '1M_pid_param_138', '2M_pid_param_129', '2M_pid_param_118', '2M_pid_param_63', '3M_plannum_max', '1M_pid_param_21', '3M_pid_param_38', '3M_pid_param_316', '2M_pid_param_93', '3M_pid_param_14', '3M_pid_param_28', '1M_pid_param_102', '3M_pid_param_120', '2M_cate_id_7', '1M_cate_id_13', '2M_pid_param_13', '1M_pid_param_1010', '1M_pid_param_19', '2M_pid_param_37', '3M_pid_param_74', '3M_loan_amount_count', '2M_pid_param_134', '2M_pid_param_310', '1M_pid_param_141', '1M_pid_param_36', '2M_cate_id_3', '1M_pid_param_120', '2M_pid_param_140', '2M_cate_id_32', '3M_pid_param_93', '3M_pid_param_1022', '1M_pid_param_512', '3M_pid_param_39', '2M_cate_id_23', '1M_pid_param_1021', '1M_pid_param_110', '3M_pid_param_19', '2M_pid_param_513', '1M_pid_param_27', '1M_pid_param_314', '3M_pid_param_139', '1M_pid_param_310', '2M_pid_param_36', '1M_pid_param_311', '2M_pid_param_120', '3M_pid_param_132', '3M_pid_param_84', '3M_pid_param_1021', '1M_pid_param_101', '1M_pid_param_117', '2M_cate_id_39', '3M_pid_param_1019', '3M_pid_param_17', '1M_pid_param_28', '3M_pid_param_711', '3M_pid_param_22', '3M_pid_param_1037', '2M_pid_param_56', '2M_pid_param_1019', '1M_pid_param_711', '1M_pid_param_1014', '1M_pid_param_112', '1M_cate_id_2', '1M_pid_param_1027', '1M_cate_id_17', '1M_pid_param_42', '2M_loan_amount_count', '1M_pid_param_39', '3M_pid_param_140', '3M_pid_param_114', '2M_pid_param_75', '3M_pid_param_21', '1M_pid_param_131', '2M_pid_param_311', '2M_pid_param_19', '2M_pid_param_112', '3M_pid_param_27', '1M_pid_param_713', '2M_pid_param_27', '1M_pid_param_123', '1M_pid_param_33', '3M_cate_id_39', '1M_pid_param_128', '2M_pid_param_38', '2M_pid_param_116', '1M_pid_param_1019', '3M_pid_param_148', '3M_pid_param_36', '3M_pid_param_138', '3M_cate_id_31', '3M_pid_param_43', '2M_pid_param_1022', '3M_pid_param_105', '2M_pid_param_710', '1M_pid_param_63', '2M_pid_param_127', '1M_pid_param_23', '1M_pid_param_714', '1M_pid_param_15', '3M_pid_param_56', '2M_pid_param_314', '3M_pid_param_102', '3M_pid_param_1032', '1M_pid_param_75', '2M_cate_id_31', '2M_pid_param_715', '1M_pid_param_113', '2M_cate_id_16', '1M_pid_param_513', '2M_pid_param_128', '2M_pid_param_71', '3M_pid_param_18', '1M_pid_param_712', '3M_pid_param_104', '2M_pid_param_74', '3M_pid_param_126', '1M_pid_param_146', '3M_pid_param_115', '2M_pid_param_18', '2M_cate_id_38', '2M_pid_param_31', '3M_pid_param_71', '1M_pid_param_35', '3M_pid_param_314', '2M_pid_param_132', '1M_pid_param_84', '3M_pid_param_35']\n",
    "train.drop('uid',1,inplace=True)\n",
    "train=train.loc[:,columns]\n",
    "# tests = pd.read_csv(\"../feature/test_data_4_add3.csv\",encoding=\"utf-8\")\n",
    "# online = tests.loc[:,['uid', 'loan_sum']]\n",
    "# tests.drop('uid',1,inplace=True)\n",
    "\n",
    "\n",
    "train_xy_set,offline_test = train_test_split(train, test_size = 0.25,random_state=36)\n",
    "train_xy,val = train_test_split(train_xy_set, test_size = 0.333,random_state=24)\n",
    "\n",
    "#random_state is of big influence for val-auc\n",
    "y = train_xy.loan_sum\n",
    "X = train_xy.drop(['loan_sum'],axis=1)\n",
    "# y = np.log1p(train_xy.loan_sum)\n",
    "numeric_cols = X.columns[X.dtypes != 'object'].values\n",
    "# numeric_cols=np.delete(numeric_cols, [6,7])\n",
    "numeric_cols=numeric_cols.tolist()\n",
    "numeric_cols.remove('cost_period_1')\n",
    "numeric_cols.remove('cost_period_2')\n",
    "numeric_cols.remove('loan_period_2')\n",
    "numeric_cols.remove('loan_period_1')\n",
    "X.loc[:, numeric_cols] = np.log1p(X.loc[:,numeric_cols])\n",
    "\n",
    "\n",
    "val_y = val.loan_sum\n",
    "val_X = val.drop(['loan_sum'],axis=1)\n",
    "# val_y = np.log1p(val.loan_sum)\n",
    "numeric_cols = val_X.columns[val_X.dtypes != 'object'].values\n",
    "# numeric_cols=np.delete(numeric_cols, [6,7])\n",
    "numeric_cols=numeric_cols.tolist()\n",
    "numeric_cols.remove('cost_period_1')\n",
    "numeric_cols.remove('cost_period_2')\n",
    "numeric_cols.remove('loan_period_2')\n",
    "numeric_cols.remove('loan_period_1')\n",
    "val_X.loc[:,numeric_cols] = np.log1p(val_X.loc[:,numeric_cols])\n",
    "\n",
    "\n",
    "offline_test_y = offline_test.loan_sum\n",
    "offline_test.drop(['loan_sum'],axis=1, inplace=True)\n",
    "numeric_cols = offline_test.columns[offline_test.dtypes != 'object'].values\n",
    "# numeric_cols=np.delete(numeric_cols, [6,7])\n",
    "numeric_cols=numeric_cols.tolist()\n",
    "numeric_cols.remove('cost_period_1')\n",
    "numeric_cols.remove('cost_period_2')\n",
    "numeric_cols.remove('loan_period_2')\n",
    "numeric_cols.remove('loan_period_1')\n",
    "offline_test.loc[:,numeric_cols] = np.log1p(offline_test.loc[:,numeric_cols])\n",
    "\n",
    "\n",
    "# yy = train.loan_sum\n",
    "# XX = train.drop(['loan_sum'],axis=1)\n",
    "\n",
    "# XX=XX.append(XX, ignore_index=True)\n",
    "# yy=yy.append(yy, ignore_index=True)\n"
   ]
  },
  {
   "cell_type": "code",
   "execution_count": 2,
   "metadata": {},
   "outputs": [
    {
     "name": "stdout",
     "output_type": "stream",
     "text": [
      "Fitting 3 folds for each of 16 candidates, totalling 48 fits\n"
     ]
    },
    {
     "name": "stderr",
     "output_type": "stream",
     "text": [
      "[Parallel(n_jobs=1)]: Done  48 out of  48 | elapsed:  9.1min finished\n"
     ]
    },
    {
     "name": "stdout",
     "output_type": "stream",
     "text": [
      "--------------------DEBUG RESULTS-----------------\n",
      "{'split1_train_score': array([ 0.39059735,  0.39104832,  0.39042376,  0.39099671,  0.42116439,\n",
      "        0.42256216,  0.42258744,  0.42215689,  0.47386143,  0.47520555,\n",
      "        0.47510748,  0.47558513,  0.54128087,  0.541614  ,  0.54288013,\n",
      "        0.54163031]), 'mean_test_score': array([ 0.38388145,  0.38408122,  0.38423128,  0.38434707,  0.39061223,\n",
      "        0.39112693,  0.39099748,  0.39124835,  0.39098404,  0.39094264,\n",
      "        0.39177847,  0.39176171,  0.38891371,  0.39037444,  0.39114353,\n",
      "        0.390961  ]), 'std_test_score': array([ 0.00864632,  0.00856682,  0.0087496 ,  0.00838568,  0.0075995 ,\n",
      "        0.00798101,  0.00808946,  0.00795998,  0.00778333,  0.00734498,\n",
      "        0.0074424 ,  0.00743506,  0.00674923,  0.00781461,  0.00692538,\n",
      "        0.00727327]), 'param_n_estimators': masked_array(data = [50 100 150 200 50 100 150 200 50 100 150 200 50 100 150 200],\n",
      "             mask = [False False False False False False False False False False False False\n",
      " False False False False],\n",
      "       fill_value = ?)\n",
      ", 'split1_test_score': array([ 0.3858593 ,  0.38554308,  0.38542519,  0.38568951,  0.39129871,\n",
      "        0.39271318,  0.39244858,  0.39263524,  0.3924153 ,  0.39249321,\n",
      "        0.39328689,  0.39359768,  0.38971538,  0.39305456,  0.3919828 ,\n",
      "        0.39212331]), 'param_max_depth': masked_array(data = [4 4 4 4 6 6 6 6 8 8 8 8 10 10 10 10],\n",
      "             mask = [False False False False False False False False False False False False\n",
      " False False False False],\n",
      "       fill_value = ?)\n",
      ", 'mean_score_time': array([ 0.12979571,  0.12459739,  0.1224788 ,  0.19088594,  0.12346935,\n",
      "        0.15778311,  0.18970005,  0.22501238,  0.12589153,  0.12339664,\n",
      "        0.22456797,  0.2257065 ,  0.12569078,  0.22423204,  0.22890353,\n",
      "        0.29289079]), 'split2_train_score': array([ 0.39628236,  0.39663053,  0.39625074,  0.39625818,  0.42656222,\n",
      "        0.42632845,  0.42709061,  0.42691641,  0.47970768,  0.47865637,\n",
      "        0.47925011,  0.47944845,  0.54455964,  0.54586218,  0.54556076,\n",
      "        0.54464357]), 'params': [{'n_estimators': 50, 'max_depth': 4}, {'n_estimators': 100, 'max_depth': 4}, {'n_estimators': 150, 'max_depth': 4}, {'n_estimators': 200, 'max_depth': 4}, {'n_estimators': 50, 'max_depth': 6}, {'n_estimators': 100, 'max_depth': 6}, {'n_estimators': 150, 'max_depth': 6}, {'n_estimators': 200, 'max_depth': 6}, {'n_estimators': 50, 'max_depth': 8}, {'n_estimators': 100, 'max_depth': 8}, {'n_estimators': 150, 'max_depth': 8}, {'n_estimators': 200, 'max_depth': 8}, {'n_estimators': 50, 'max_depth': 10}, {'n_estimators': 100, 'max_depth': 10}, {'n_estimators': 150, 'max_depth': 10}, {'n_estimators': 200, 'max_depth': 10}], 'std_fit_time': array([ 0.1445168 ,  0.05041308,  0.12885511,  0.18801833,  0.09680355,\n",
      "        0.54775079,  0.28631253,  0.40144599,  0.09672551,  0.18528107,\n",
      "        0.1114092 ,  0.0386712 ,  0.1200271 ,  0.30501564,  0.10478753,\n",
      "        1.18755242]), 'std_train_score': array([ 0.00350523,  0.00357245,  0.00350464,  0.00341651,  0.00305095,\n",
      "        0.00327832,  0.00343667,  0.00336003,  0.00407495,  0.00329318,\n",
      "        0.00381746,  0.00341289,  0.0032336 ,  0.00455006,  0.00437156,\n",
      "        0.00307542]), 'rank_test_score': array([16, 15, 14, 13, 10,  5,  6,  3,  7,  9,  1,  2, 12, 11,  4,  8], dtype=int32), 'mean_train_score': array([ 0.39158244,  0.39189407,  0.39151742,  0.39174879,  0.4223713 ,\n",
      "        0.42239796,  0.42278586,  0.42259832,  0.4744491 ,  0.47482616,\n",
      "        0.4747588 ,  0.47537666,  0.54083886,  0.5407636 ,  0.54122771,\n",
      "        0.54114384]), 'split0_test_score': array([ 0.39334261,  0.39376579,  0.39430034,  0.39388015,  0.39955744,\n",
      "        0.40001149,  0.40009943,  0.40022957,  0.39972008,  0.3990623 ,\n",
      "        0.40004521,  0.39980988,  0.39674976,  0.39831957,  0.39917452,\n",
      "        0.39923069]), 'split2_test_score': array([ 0.37244244,  0.37293478,  0.3729683 ,  0.37347154,  0.38098055,\n",
      "        0.38065611,  0.38044443,  0.38088023,  0.38081676,  0.38127241,\n",
      "        0.3820033 ,  0.38187755,  0.380276  ,  0.37974918,  0.38227327,\n",
      "        0.38152901]), 'split0_train_score': array([ 0.38786759,  0.38800334,  0.38787777,  0.38799147,  0.41938728,\n",
      "        0.41830327,  0.41867953,  0.41872165,  0.46977817,  0.47061656,\n",
      "        0.4699188 ,  0.4710964 ,  0.53667606,  0.53481462,  0.53524224,\n",
      "        0.53715763]), 'std_score_time': array([ 0.00544509,  0.00140172,  0.00126487,  0.0502512 ,  0.00241484,\n",
      "        0.04874028,  0.04917985,  0.00209353,  0.00032547,  0.00025404,\n",
      "        0.00161551,  0.00247057,  0.00125321,  0.00163979,  0.00118583,\n",
      "        0.04881299]), 'mean_fit_time': array([  2.9247582 ,   4.89845475,   7.65290523,   9.52765568,\n",
      "         3.72808194,   8.33564393,  11.00740584,  14.43484338,\n",
      "         5.00629671,   9.68371304,  14.60938239,  19.73187447,\n",
      "         6.40726447,  12.3357021 ,  18.96136284,  25.84018461])}\n",
      "{'n_estimators': 150, 'max_depth': 8}\n",
      "0.391778465443\n",
      "--------------------DEBUG RESULTS-----------------\n",
      "--------------------VAL SCORE-----------------\n",
      "0.403493194538\n",
      "preds RMSE: 1.81188447462\n",
      "--------------------VAL SCORE-----------------\n",
      "debug rfr success! \n",
      " cost time: 571.2252459526062 (s)\n"
     ]
    }
   ],
   "source": [
    "from sklearn import metrics\n",
    "\n",
    "start_time = time.time()\n",
    "cv = 3\n",
    "debug_1={'n_estimators':range(50,201,50),\n",
    "                   'max_depth':range(4,11,2)}\n",
    "estimator = RandomForestRegressor(n_estimators = 100, criterion='mse',  max_features=0.2, max_depth=3,n_jobs=4)\n",
    "gsearch1 = model_selection.GridSearchCV(\n",
    "    estimator,\n",
    "    param_grid=debug_1,\n",
    "    #scoring='neg_mean_squared_error',\n",
    "    n_jobs=1,\n",
    "    iid=False,\n",
    "    verbose=1,\n",
    "    #cv=5\n",
    "    cv=TimeSeriesSplit(n_splits=cv).get_n_splits([X, y]))\n",
    "gsearch1.fit(X, y)\n",
    "preds = gsearch1.predict(offline_test)\n",
    "print(\"--------------------DEBUG RESULTS-----------------\")\n",
    "print(gsearch1.cv_results_)\n",
    "print(gsearch1.best_params_)\n",
    "print(gsearch1.best_score_)\n",
    "print(\"--------------------DEBUG RESULTS-----------------\")\n",
    "print(\"--------------------VAL SCORE-----------------\")\n",
    "print( gsearch1.score(val_X, val_y))\n",
    "print (\"preds RMSE:\",np.sqrt(metrics.mean_squared_error(offline_test_y, preds)))\n",
    "print(\"--------------------VAL SCORE-----------------\")\n",
    "cost_time = time.time()-start_time\n",
    "print( \"debug rfr success!\",'\\n',\"cost time:\",cost_time,\"(s)\" )"
   ]
  },
  {
   "cell_type": "code",
   "execution_count": 3,
   "metadata": {},
   "outputs": [
    {
     "name": "stdout",
     "output_type": "stream",
     "text": [
      "Fitting 3 folds for each of 9 candidates, totalling 27 fits\n"
     ]
    },
    {
     "name": "stderr",
     "output_type": "stream",
     "text": [
      "[Parallel(n_jobs=1)]: Done  27 out of  27 | elapsed:  6.8min finished\n"
     ]
    },
    {
     "name": "stdout",
     "output_type": "stream",
     "text": [
      "--------------------DEBUG RESULTS-----------------\n",
      "{'split1_train_score': array([ 0.44613657,  0.44596287,  0.44650731,  0.47551357,  0.474759  ,\n",
      "        0.47586707,  0.50760819,  0.50780708,  0.50877383]), 'mean_test_score': array([ 0.39187384,  0.3919294 ,  0.39190919,  0.3917194 ,  0.39217547,\n",
      "        0.39213673,  0.39125648,  0.39197091,  0.39116252]), 'std_test_score': array([ 0.00762401,  0.00788159,  0.00757859,  0.00722626,  0.00779919,\n",
      "        0.00770948,  0.00763666,  0.00674615,  0.00740214]), 'param_n_estimators': masked_array(data = [130 150 170 130 150 170 130 150 170],\n",
      "             mask = [False False False False False False False False False],\n",
      "       fill_value = ?)\n",
      ", 'split1_test_score': array([ 0.39323669,  0.39260388,  0.39304367,  0.39274116,  0.39385821,\n",
      "        0.39274153,  0.39254683,  0.39334917,  0.39234521]), 'param_max_depth': masked_array(data = [7 7 7 8 8 8 9 9 9],\n",
      "             mask = [False False False False False False False False False],\n",
      "       fill_value = ?)\n",
      ", 'mean_score_time': array([ 0.18938033,  0.22461279,  0.22694047,  0.22450002,  0.22597496,\n",
      "        0.22551552,  0.22603202,  0.22578446,  0.22548374]), 'split2_train_score': array([ 0.4506197 ,  0.45069655,  0.4506532 ,  0.48043166,  0.47955147,\n",
      "        0.47938739,  0.51226376,  0.51071496,  0.51202274]), 'params': [{'n_estimators': 130, 'max_depth': 7}, {'n_estimators': 150, 'max_depth': 7}, {'n_estimators': 170, 'max_depth': 7}, {'n_estimators': 130, 'max_depth': 8}, {'n_estimators': 150, 'max_depth': 8}, {'n_estimators': 170, 'max_depth': 8}, {'n_estimators': 130, 'max_depth': 9}, {'n_estimators': 150, 'max_depth': 9}, {'n_estimators': 170, 'max_depth': 9}], 'std_fit_time': array([ 0.14239088,  0.04842769,  0.08279375,  0.11452126,  0.47733505,\n",
      "        0.18909343,  0.07134475,  0.33611853,  0.44144881]), 'std_train_score': array([ 0.00346553,  0.00375121,  0.00333753,  0.00381966,  0.00343758,\n",
      "        0.00330705,  0.00356615,  0.00365247,  0.00392534]), 'rank_test_score': array([6, 4, 5, 7, 1, 2, 8, 3, 9], dtype=int32), 'mean_train_score': array([ 0.44629725,  0.44605628,  0.44654625,  0.47567494,  0.47515661,\n",
      "        0.47552116,  0.50780232,  0.50681856,  0.5077859 ]), 'split0_test_score': array([ 0.40045499,  0.40122741,  0.40057165,  0.40001451,  0.40077429,\n",
      "        0.40126195,  0.39989727,  0.39945742,  0.39957886]), 'split2_test_score': array([ 0.38192984,  0.38195692,  0.38211226,  0.38240254,  0.3818939 ,\n",
      "        0.38240673,  0.38132534,  0.38310613,  0.38156348]), 'split0_train_score': array([ 0.44213549,  0.44150942,  0.44247824,  0.47107961,  0.47115935,\n",
      "        0.471309  ,  0.503535  ,  0.50193363,  0.50256114]), 'std_score_time': array([ 0.04870492,  0.00219295,  0.00062699,  0.00097831,  0.00172347,\n",
      "        0.00183684,  0.00088682,  0.00129059,  0.0005668 ]), 'mean_fit_time': array([ 10.99538008,  12.44579355,  14.09365877,  12.41769083,\n",
      "        14.64996902,  16.42418321,  14.38043292,  16.9505198 ,  19.32544605])}\n",
      "{'n_estimators': 150, 'max_depth': 8}\n",
      "0.392175468701\n",
      "--------------------DEBUG RESULTS-----------------\n",
      "--------------------VAL SCORE-----------------\n",
      "0.402959046613\n",
      "preds RMSE: 1.81219326258\n",
      "--------------------VAL SCORE-----------------\n",
      "debug rfr success! \n",
      " cost time: 434.3712668418884 (s)\n"
     ]
    }
   ],
   "source": [
    "from sklearn import metrics\n",
    "\n",
    "start_time = time.time()\n",
    "cv = 3\n",
    "debug_1={'n_estimators':range(130,171,20),\n",
    "                   'max_depth':range(7,10,1)}\n",
    "estimator = RandomForestRegressor(n_estimators = 100, criterion='mse',  max_features=0.2, max_depth=3,n_jobs=4)\n",
    "gsearch1 = model_selection.GridSearchCV(\n",
    "    estimator,\n",
    "    param_grid=debug_1,\n",
    "    #scoring='neg_mean_squared_error',\n",
    "    n_jobs=1,\n",
    "    iid=False,\n",
    "    verbose=1,\n",
    "    #cv=5\n",
    "    cv=TimeSeriesSplit(n_splits=cv).get_n_splits([X, y]))\n",
    "gsearch1.fit(X, y)\n",
    "preds = gsearch1.predict(offline_test)\n",
    "print(\"--------------------DEBUG RESULTS-----------------\")\n",
    "print(gsearch1.cv_results_)\n",
    "print(gsearch1.best_params_)\n",
    "print(gsearch1.best_score_)\n",
    "print(\"--------------------DEBUG RESULTS-----------------\")\n",
    "print(\"--------------------VAL SCORE-----------------\")\n",
    "print( gsearch1.score(val_X, val_y))\n",
    "print (\"preds RMSE:\",np.sqrt(metrics.mean_squared_error(offline_test_y, preds)))\n",
    "print(\"--------------------VAL SCORE-----------------\")\n",
    "cost_time = time.time()-start_time\n",
    "print( \"debug rfr success!\",'\\n',\"cost time:\",cost_time,\"(s)\" )"
   ]
  },
  {
   "cell_type": "code",
   "execution_count": 4,
   "metadata": {},
   "outputs": [
    {
     "name": "stdout",
     "output_type": "stream",
     "text": [
      "Fitting 3 folds for each of 9 candidates, totalling 27 fits\n"
     ]
    },
    {
     "name": "stderr",
     "output_type": "stream",
     "text": [
      "[Parallel(n_jobs=1)]: Done  27 out of  27 | elapsed:  7.1min finished\n"
     ]
    },
    {
     "name": "stdout",
     "output_type": "stream",
     "text": [
      "--------------------DEBUG RESULTS-----------------\n",
      "{'split1_train_score': array([ 0.44608527,  0.44641015,  0.44650078,  0.4755802 ,  0.47625867,\n",
      "        0.47445109,  0.50764622,  0.50817093,  0.50801173]), 'mean_test_score': array([ 0.39220747,  0.39178424,  0.39217125,  0.39168184,  0.39185801,\n",
      "        0.39205381,  0.39200336,  0.39076572,  0.39095356]), 'std_test_score': array([ 0.00764902,  0.00783945,  0.00734599,  0.00766739,  0.0076993 ,\n",
      "        0.00718434,  0.0077349 ,  0.0074214 ,  0.00661848]), 'param_n_estimators': masked_array(data = [145 150 155 145 150 155 145 150 155],\n",
      "             mask = [False False False False False False False False False],\n",
      "       fill_value = ?)\n",
      ", 'split1_test_score': array([ 0.39331733,  0.39278529,  0.39346594,  0.39259965,  0.39324731,\n",
      "        0.39342239,  0.3932517 ,  0.3921243 ,  0.39216905]), 'param_max_depth': masked_array(data = [7 7 7 8 8 8 9 9 9],\n",
      "             mask = [False False False False False False False False False],\n",
      "       fill_value = ?)\n",
      ", 'mean_score_time': array([ 0.22125355,  0.22502772,  0.22768887,  0.22188791,  0.22577922,\n",
      "        0.22391629,  0.25703796,  0.22437016,  0.22369258]), 'split2_train_score': array([ 0.45113122,  0.4506346 ,  0.45055572,  0.47970216,  0.47933721,\n",
      "        0.4798835 ,  0.51172665,  0.51177223,  0.5127709 ]), 'params': [{'n_estimators': 145, 'max_depth': 7}, {'n_estimators': 150, 'max_depth': 7}, {'n_estimators': 155, 'max_depth': 7}, {'n_estimators': 145, 'max_depth': 8}, {'n_estimators': 150, 'max_depth': 8}, {'n_estimators': 155, 'max_depth': 8}, {'n_estimators': 145, 'max_depth': 9}, {'n_estimators': 150, 'max_depth': 9}, {'n_estimators': 155, 'max_depth': 9}], 'std_fit_time': array([ 0.1897306 ,  0.94907377,  0.20257976,  0.45036501,  0.98732855,\n",
      "        0.27514541,  0.92680835,  0.22168094,  0.23339988]), 'std_train_score': array([ 0.00391167,  0.00338726,  0.00342822,  0.00369388,  0.00380065,\n",
      "        0.00393018,  0.00362029,  0.00423275,  0.00418157]), 'rank_test_score': array([1, 6, 2, 7, 5, 3, 4, 9, 8], dtype=int32), 'mean_train_score': array([ 0.44625691,  0.44646092,  0.44640549,  0.47531599,  0.47526167,\n",
      "        0.47487298,  0.5074136 ,  0.50716492,  0.50777305]), 'split0_test_score': array([ 0.40097119,  0.40084583,  0.40045072,  0.40057982,  0.40051597,\n",
      "        0.40008831,  0.40079059,  0.39909928,  0.39838312]), 'split2_test_score': array([ 0.38233387,  0.3817216 ,  0.38259708,  0.38186603,  0.38181076,\n",
      "        0.38265073,  0.38196781,  0.38107358,  0.38230851]), 'split0_train_score': array([ 0.44155423,  0.442338  ,  0.44215996,  0.47066562,  0.47018912,\n",
      "        0.47028434,  0.50286794,  0.50155162,  0.50253653]), 'std_score_time': array([ 0.00268546,  0.00212208,  0.00330568,  0.00207082,  0.00205861,\n",
      "        0.00189632,  0.04963279,  0.00252045,  0.00194556]), 'mean_fit_time': array([ 12.65689794,  13.54770343,  13.10505875,  14.25501243,\n",
      "        15.9979682 ,  15.45288626,  16.932748  ,  16.79966148,  17.47278865])}\n",
      "{'n_estimators': 145, 'max_depth': 7}\n",
      "0.392207465858\n",
      "--------------------DEBUG RESULTS-----------------\n",
      "--------------------VAL SCORE-----------------\n",
      "0.402946844856\n",
      "preds RMSE: 1.81228594184\n",
      "--------------------VAL SCORE-----------------\n",
      "debug rfr success! \n",
      " cost time: 444.5558705329895 (s)\n"
     ]
    }
   ],
   "source": [
    "from sklearn import metrics\n",
    "\n",
    "start_time = time.time()\n",
    "cv = 3\n",
    "debug_1={'n_estimators':range(145,156,5),\n",
    "                   'max_depth':range(7,10,1)}\n",
    "estimator = RandomForestRegressor(n_estimators = 100, criterion='mse',  max_features=0.2, max_depth=3,n_jobs=4)\n",
    "gsearch1 = model_selection.GridSearchCV(\n",
    "    estimator,\n",
    "    param_grid=debug_1,\n",
    "    #scoring='neg_mean_squared_error',\n",
    "    n_jobs=1,\n",
    "    iid=False,\n",
    "    verbose=1,\n",
    "    #cv=5\n",
    "    cv=TimeSeriesSplit(n_splits=cv).get_n_splits([X, y]))\n",
    "gsearch1.fit(X, y)\n",
    "preds = gsearch1.predict(offline_test)\n",
    "print(\"--------------------DEBUG RESULTS-----------------\")\n",
    "print(gsearch1.cv_results_)\n",
    "print(gsearch1.best_params_)\n",
    "print(gsearch1.best_score_)\n",
    "print(\"--------------------DEBUG RESULTS-----------------\")\n",
    "print(\"--------------------VAL SCORE-----------------\")\n",
    "print( gsearch1.score(val_X, val_y))\n",
    "print (\"preds RMSE:\",np.sqrt(metrics.mean_squared_error(offline_test_y, preds)))\n",
    "print(\"--------------------VAL SCORE-----------------\")\n",
    "cost_time = time.time()-start_time\n",
    "print( \"debug rfr success!\",'\\n',\"cost time:\",cost_time,\"(s)\" )"
   ]
  },
  {
   "cell_type": "code",
   "execution_count": 5,
   "metadata": {},
   "outputs": [
    {
     "name": "stdout",
     "output_type": "stream",
     "text": [
      "Fitting 3 folds for each of 9 candidates, totalling 27 fits\n"
     ]
    },
    {
     "name": "stderr",
     "output_type": "stream",
     "text": [
      "[Parallel(n_jobs=1)]: Done  27 out of  27 | elapsed:  5.9min finished\n"
     ]
    },
    {
     "name": "stdout",
     "output_type": "stream",
     "text": [
      "--------------------DEBUG RESULTS-----------------\n",
      "{'split1_train_score': array([ 0.42223837,  0.42262649,  0.4222778 ,  0.44613533,  0.44605123,\n",
      "        0.44642732,  0.47533994,  0.47587858,  0.47521793]), 'mean_test_score': array([ 0.39130281,  0.39114774,  0.39115049,  0.39197287,  0.39227879,\n",
      "        0.39242112,  0.39201622,  0.39180195,  0.3921483 ]), 'std_test_score': array([ 0.00748491,  0.00784548,  0.00783246,  0.00762778,  0.00795345,\n",
      "        0.00768847,  0.00722175,  0.0076718 ,  0.00807803]), 'param_n_estimators': masked_array(data = [143 145 147 143 145 147 143 145 147],\n",
      "             mask = [False False False False False False False False False],\n",
      "       fill_value = ?)\n",
      ", 'split1_test_score': array([ 0.3924922 ,  0.39239078,  0.39237014,  0.39333062,  0.39355146,\n",
      "        0.39366865,  0.39389688,  0.39336798,  0.39292545]), 'param_max_depth': masked_array(data = [6 6 6 7 7 7 8 8 8],\n",
      "             mask = [False False False False False False False False False],\n",
      "       fill_value = ?)\n",
      ", 'mean_score_time': array([ 0.15530642,  0.19130993,  0.12277969,  0.2232964 ,  0.224907  ,\n",
      "        0.22612747,  0.22349413,  0.22598004,  0.22658745]), 'split2_train_score': array([ 0.42721151,  0.42722669,  0.42687813,  0.45062422,  0.45025385,\n",
      "        0.45067045,  0.47965222,  0.478918  ,  0.47874484]), 'params': [{'n_estimators': 143, 'max_depth': 6}, {'n_estimators': 145, 'max_depth': 6}, {'n_estimators': 147, 'max_depth': 6}, {'n_estimators': 143, 'max_depth': 7}, {'n_estimators': 145, 'max_depth': 7}, {'n_estimators': 147, 'max_depth': 7}, {'n_estimators': 143, 'max_depth': 8}, {'n_estimators': 145, 'max_depth': 8}, {'n_estimators': 147, 'max_depth': 8}], 'std_fit_time': array([ 0.30987635,  0.6185612 ,  0.18034093,  0.12798544,  0.09930083,\n",
      "        0.14922907,  0.27800442,  0.08224318,  0.22898118]), 'std_train_score': array([ 0.00360286,  0.0035034 ,  0.00333347,  0.00357634,  0.00332659,\n",
      "        0.00324157,  0.00399306,  0.00352487,  0.00323796]), 'rank_test_score': array([7, 9, 8, 5, 2, 1, 4, 6, 3], dtype=int32), 'mean_train_score': array([ 0.42262036,  0.42283531,  0.42263055,  0.44620815,  0.44613728,\n",
      "        0.44661148,  0.47496179,  0.47506537,  0.47493063]), 'split0_test_score': array([ 0.39981716,  0.40007444,  0.4000751 ,  0.40056178,  0.40132085,\n",
      "        0.40115159,  0.39976944,  0.40031654,  0.40163033]), 'split2_test_score': array([ 0.38159906,  0.38097799,  0.38100622,  0.3820262 ,  0.38196406,\n",
      "        0.38244314,  0.38238234,  0.38172133,  0.38188912]), 'split0_train_score': array([ 0.41841119,  0.41865276,  0.41873572,  0.44186491,  0.44210676,\n",
      "        0.44273667,  0.46989321,  0.47039953,  0.47082911]), 'std_score_time': array([ 0.04948755,  0.0489014 ,  0.00059406,  0.00368536,  0.0014126 ,\n",
      "        0.00292681,  0.00457031,  0.00195297,  0.00099682]), 'mean_fit_time': array([ 11.27261591,  11.16175501,  10.4784294 ,  12.07044498,\n",
      "        12.61852558,  12.60318637,  14.20368075,  14.4349072 ,  14.75630784])}\n",
      "{'n_estimators': 147, 'max_depth': 7}\n",
      "0.392421123954\n",
      "--------------------DEBUG RESULTS-----------------\n",
      "--------------------VAL SCORE-----------------\n",
      "0.402672845278\n",
      "preds RMSE: 1.8132903138\n",
      "--------------------VAL SCORE-----------------\n",
      "debug rfr success! \n",
      " cost time: 376.99034690856934 (s)\n"
     ]
    }
   ],
   "source": [
    "from sklearn import metrics\n",
    "\n",
    "start_time = time.time()\n",
    "cv = 3\n",
    "debug_1={'n_estimators':range(143,148,2),\n",
    "                   'max_depth':range(6,9,1)}\n",
    "estimator = RandomForestRegressor(n_estimators = 100, criterion='mse',  max_features=0.2, max_depth=3,n_jobs=4)\n",
    "gsearch1 = model_selection.GridSearchCV(\n",
    "    estimator,\n",
    "    param_grid=debug_1,\n",
    "    #scoring='neg_mean_squared_error',\n",
    "    n_jobs=1,\n",
    "    iid=False,\n",
    "    verbose=1,\n",
    "    #cv=5\n",
    "    cv=TimeSeriesSplit(n_splits=cv).get_n_splits([X, y]))\n",
    "gsearch1.fit(X, y)\n",
    "preds = gsearch1.predict(offline_test)\n",
    "print(\"--------------------DEBUG RESULTS-----------------\")\n",
    "print(gsearch1.cv_results_)\n",
    "print(gsearch1.best_params_)\n",
    "print(gsearch1.best_score_)\n",
    "print(\"--------------------DEBUG RESULTS-----------------\")\n",
    "print(\"--------------------VAL SCORE-----------------\")\n",
    "print( gsearch1.score(val_X, val_y))\n",
    "print (\"preds RMSE:\",np.sqrt(metrics.mean_squared_error(offline_test_y, preds)))\n",
    "print(\"--------------------VAL SCORE-----------------\")\n",
    "cost_time = time.time()-start_time\n",
    "print( \"debug rfr success!\",'\\n',\"cost time:\",cost_time,\"(s)\" )"
   ]
  },
  {
   "cell_type": "code",
   "execution_count": 6,
   "metadata": {},
   "outputs": [
    {
     "name": "stdout",
     "output_type": "stream",
     "text": [
      "Fitting 3 folds for each of 9 candidates, totalling 27 fits\n"
     ]
    },
    {
     "name": "stderr",
     "output_type": "stream",
     "text": [
      "[Parallel(n_jobs=1)]: Done  27 out of  27 | elapsed:  5.9min finished\n"
     ]
    },
    {
     "name": "stdout",
     "output_type": "stream",
     "text": [
      "--------------------DEBUG RESULTS-----------------\n",
      "{'split1_train_score': array([ 0.42239852,  0.42240806,  0.42294159,  0.44637058,  0.44665718,\n",
      "        0.4461602 ,  0.47510865,  0.4753407 ,  0.47581492]), 'mean_test_score': array([ 0.39111107,  0.3914464 ,  0.3911283 ,  0.39205518,  0.39153806,\n",
      "        0.39218126,  0.39215596,  0.39170244,  0.39194973]), 'std_test_score': array([ 0.00795369,  0.00764253,  0.00780722,  0.00760637,  0.00742523,\n",
      "        0.00744786,  0.00761237,  0.00774659,  0.00796589]), 'param_n_estimators': masked_array(data = [146 147 148 146 147 148 146 147 148],\n",
      "             mask = [False False False False False False False False False],\n",
      "       fill_value = ?)\n",
      ", 'split1_test_score': array([ 0.39229887,  0.392452  ,  0.39251772,  0.39348574,  0.39290208,\n",
      "        0.39361315,  0.39329373,  0.39361051,  0.39314379]), 'param_max_depth': masked_array(data = [6 6 6 7 7 7 8 8 8],\n",
      "             mask = [False False False False False False False False False],\n",
      "       fill_value = ?)\n",
      ", 'mean_score_time': array([ 0.19317516,  0.19181212,  0.1541756 ,  0.2211771 ,  0.22615695,\n",
      "        0.22637208,  0.22445552,  0.22360992,  0.22598656]), 'split2_train_score': array([ 0.42681243,  0.42660185,  0.4271553 ,  0.45086881,  0.45023417,\n",
      "        0.45052416,  0.47895088,  0.48019975,  0.47952645]), 'params': [{'n_estimators': 146, 'max_depth': 6}, {'n_estimators': 147, 'max_depth': 6}, {'n_estimators': 148, 'max_depth': 6}, {'n_estimators': 146, 'max_depth': 7}, {'n_estimators': 147, 'max_depth': 7}, {'n_estimators': 148, 'max_depth': 7}, {'n_estimators': 146, 'max_depth': 8}, {'n_estimators': 147, 'max_depth': 8}, {'n_estimators': 148, 'max_depth': 8}], 'std_fit_time': array([ 0.02842635,  0.25475173,  0.28922097,  0.17987928,  0.19751844,\n",
      "        0.00270064,  0.5020213 ,  0.01160511,  0.13657103]), 'std_train_score': array([ 0.00355547,  0.00350478,  0.00354784,  0.00347266,  0.00353518,\n",
      "        0.00334814,  0.00320531,  0.00378901,  0.0037344 ]), 'rank_test_score': array([9, 7, 8, 3, 6, 1, 2, 5, 4], dtype=int32), 'mean_train_score': array([ 0.42243819,  0.42234253,  0.42285437,  0.44653559,  0.44616916,\n",
      "        0.44633768,  0.47505321,  0.47548751,  0.4752572 ]), 'split0_test_score': array([ 0.40020393,  0.40026315,  0.39991943,  0.40057302,  0.39987301,\n",
      "        0.40050237,  0.40085808,  0.40009099,  0.40105393]), 'split2_test_score': array([ 0.38083039,  0.38162406,  0.38094774,  0.38210679,  0.38183908,\n",
      "        0.38242828,  0.38231608,  0.38140581,  0.38165148]), 'split0_train_score': array([ 0.41810361,  0.41801769,  0.4184662 ,  0.44236737,  0.44161614,\n",
      "        0.44232869,  0.47110011,  0.47092209,  0.47043023]), 'std_score_time': array([ 0.04560359,  0.04999552,  0.04787209,  0.00084042,  0.00374281,\n",
      "        0.00110582,  0.00103706,  0.00144669,  0.00076604]), 'mean_fit_time': array([ 10.70605715,  10.98566747,  10.66676943,  12.2475756 ,\n",
      "        12.78071332,  12.50297372,  14.52155654,  14.24021999,  14.36007094])}\n",
      "{'n_estimators': 148, 'max_depth': 7}\n",
      "0.392181264906\n",
      "--------------------DEBUG RESULTS-----------------\n",
      "--------------------VAL SCORE-----------------\n",
      "0.403236315174\n",
      "preds RMSE: 1.81277806168\n",
      "--------------------VAL SCORE-----------------\n",
      "debug rfr success! \n",
      " cost time: 372.7976906299591 (s)\n"
     ]
    }
   ],
   "source": [
    "from sklearn import metrics\n",
    "\n",
    "start_time = time.time()\n",
    "cv = 3\n",
    "debug_1={'n_estimators':range(146,149,1),\n",
    "                   'max_depth':range(6,9,1)}\n",
    "estimator = RandomForestRegressor(n_estimators = 100, criterion='mse',  max_features=0.2, max_depth=3,n_jobs=4)\n",
    "gsearch1 = model_selection.GridSearchCV(\n",
    "    estimator,\n",
    "    param_grid=debug_1,\n",
    "    #scoring='neg_mean_squared_error',\n",
    "    n_jobs=1,\n",
    "    iid=False,\n",
    "    verbose=1,\n",
    "    #cv=5\n",
    "    cv=TimeSeriesSplit(n_splits=cv).get_n_splits([X, y]))\n",
    "gsearch1.fit(X, y)\n",
    "preds = gsearch1.predict(offline_test)\n",
    "print(\"--------------------DEBUG RESULTS-----------------\")\n",
    "print(gsearch1.cv_results_)\n",
    "print(gsearch1.best_params_)\n",
    "print(gsearch1.best_score_)\n",
    "print(\"--------------------DEBUG RESULTS-----------------\")\n",
    "print(\"--------------------VAL SCORE-----------------\")\n",
    "print( gsearch1.score(val_X, val_y))\n",
    "print (\"preds RMSE:\",np.sqrt(metrics.mean_squared_error(offline_test_y, preds)))\n",
    "print(\"--------------------VAL SCORE-----------------\")\n",
    "cost_time = time.time()-start_time\n",
    "print( \"debug rfr success!\",'\\n',\"cost time:\",cost_time,\"(s)\" )"
   ]
  },
  {
   "cell_type": "code",
   "execution_count": 8,
   "metadata": {},
   "outputs": [
    {
     "name": "stdout",
     "output_type": "stream",
     "text": [
      "Fitting 3 folds for each of 4 candidates, totalling 12 fits\n"
     ]
    },
    {
     "name": "stderr",
     "output_type": "stream",
     "text": [
      "[Parallel(n_jobs=1)]: Done  12 out of  12 | elapsed:  3.2min finished\n"
     ]
    },
    {
     "name": "stdout",
     "output_type": "stream",
     "text": [
      "--------------------DEBUG RESULTS-----------------\n",
      "{'split1_train_score': array([ 0.4375621 ,  0.44648154,  0.45033161,  0.4520382 ]), 'mean_test_score': array([ 0.39050553,  0.3919479 ,  0.39205739,  0.39150383]), 'std_test_score': array([ 0.00754514,  0.00745587,  0.00706414,  0.00714996]), 'mean_train_score': array([ 0.43756774,  0.44641547,  0.45005465,  0.45189181]), 'split1_test_score': array([ 0.39171079,  0.3930483 ,  0.39337038,  0.39342093]), 'mean_score_time': array([ 0.22483587,  0.22288593,  0.22424293,  0.22543629]), 'split2_train_score': array([ 0.44204618,  0.45012265,  0.45424809,  0.45607094]), 'params': [{'max_features': 0.1}, {'max_features': 0.2}, {'max_features': 0.3}, {'max_features': 0.4}], 'std_fit_time': array([ 0.18773297,  0.54554298,  0.97567915,  0.23608262]), 'std_train_score': array([ 0.00365433,  0.00305422,  0.00354241,  0.00347356]), 'param_max_features': masked_array(data = [0.1 0.2 0.3 0.4],\n",
      "             mask = [False False False False],\n",
      "       fill_value = ?)\n",
      ", 'rank_test_score': array([4, 2, 1, 3], dtype=int32), 'split0_test_score': array([ 0.39908462,  0.40047937,  0.39997761,  0.39914333]), 'split2_test_score': array([ 0.38072117,  0.38231602,  0.38282417,  0.38194723]), 'split0_train_score': array([ 0.43309494,  0.44264223,  0.44558426,  0.44756628]), 'std_score_time': array([ 0.00344613,  0.00087232,  0.00242218,  0.00097183]), 'mean_fit_time': array([  7.05038357,  12.38911796,  18.44834638,  23.92097592])}\n",
      "{'max_features': 0.3}\n",
      "0.392057386447\n",
      "--------------------DEBUG RESULTS-----------------\n",
      "--------------------VAL SCORE-----------------\n",
      "0.403370277376\n",
      "preds RMSE: 1.81247045252\n",
      "--------------------VAL SCORE-----------------\n",
      "debug rfr success! \n",
      " cost time: 221.76663637161255 (s)\n"
     ]
    }
   ],
   "source": [
    "from sklearn import metrics\n",
    "\n",
    "start_time = time.time()\n",
    "cv = 3\n",
    "debug_1={'n_estimators':range(146,149,1),\n",
    "                   'max_depth':range(6,9,1)}\n",
    "debug_2={ 'max_features':[i/10.0 for i in range(1,5)]}\n",
    "estimator = RandomForestRegressor(n_estimators = 148, criterion='mse',  max_features=0.2, max_depth=7,n_jobs=4)\n",
    "gsearch1 = model_selection.GridSearchCV(\n",
    "    estimator,\n",
    "    param_grid=debug_2,\n",
    "    #scoring='neg_mean_squared_error',\n",
    "    n_jobs=1,\n",
    "    iid=False,\n",
    "    verbose=1,\n",
    "    #cv=5\n",
    "    cv=TimeSeriesSplit(n_splits=cv).get_n_splits([X, y]))\n",
    "gsearch1.fit(X, y)\n",
    "preds = gsearch1.predict(offline_test)\n",
    "print(\"--------------------DEBUG RESULTS-----------------\")\n",
    "print(gsearch1.cv_results_)\n",
    "print(gsearch1.best_params_)\n",
    "print(gsearch1.best_score_)\n",
    "print(\"--------------------DEBUG RESULTS-----------------\")\n",
    "print(\"--------------------VAL SCORE-----------------\")\n",
    "print( gsearch1.score(val_X, val_y))\n",
    "print (\"preds RMSE:\",np.sqrt(metrics.mean_squared_error(offline_test_y, preds)))\n",
    "print(\"--------------------VAL SCORE-----------------\")\n",
    "cost_time = time.time()-start_time\n",
    "print( \"debug rfr success!\",'\\n',\"cost time:\",cost_time,\"(s)\" )"
   ]
  },
  {
   "cell_type": "code",
   "execution_count": 9,
   "metadata": {},
   "outputs": [
    {
     "name": "stdout",
     "output_type": "stream",
     "text": [
      "Fitting 3 folds for each of 4 candidates, totalling 12 fits\n"
     ]
    },
    {
     "name": "stderr",
     "output_type": "stream",
     "text": [
      "[Parallel(n_jobs=1)]: Done  12 out of  12 | elapsed:  3.5min finished\n"
     ]
    },
    {
     "name": "stdout",
     "output_type": "stream",
     "text": [
      "--------------------DEBUG RESULTS-----------------\n",
      "{'split2_train_score': array([ 0.43657488,  0.42902141,  0.42382036,  0.41963039]), 'split1_train_score': array([ 0.43278205,  0.42513122,  0.42019685,  0.41534262]), 'mean_test_score': array([ 0.3930122 ,  0.39283185,  0.39317257,  0.39253001]), 'std_test_score': array([ 0.00775935,  0.00787945,  0.00780806,  0.00752143]), 'mean_train_score': array([ 0.4324388 ,  0.42507911,  0.4196717 ,  0.4153357 ]), 'std_score_time': array([ 0.00194509,  0.00148801,  0.00078596,  0.00205345]), 'mean_score_time': array([ 0.22572549,  0.22544479,  0.22551552,  0.22326215]), 'param_min_samples_leaf': masked_array(data = [30 50 70 90],\n",
      "             mask = [False False False False],\n",
      "       fill_value = ?)\n",
      ", 'params': [{'min_samples_leaf': 30}, {'min_samples_leaf': 50}, {'min_samples_leaf': 70}, {'min_samples_leaf': 90}], 'std_fit_time': array([ 0.51033327,  0.11751246,  0.04932968,  0.17288359]), 'std_train_score': array([ 0.00352559,  0.00324036,  0.00362086,  0.00350942]), 'rank_test_score': array([2, 3, 1, 4], dtype=int32), 'split0_test_score': array([ 0.4012641 ,  0.40140672,  0.40152534,  0.40064264]), 'split2_test_score': array([ 0.382622  ,  0.38238143,  0.38274142,  0.38251578]), 'split0_train_score': array([ 0.42795946,  0.4210847 ,  0.41499788,  0.4110341 ]), 'split1_test_score': array([ 0.39515051,  0.3947074 ,  0.39525095,  0.39443162]), 'mean_fit_time': array([ 17.78579664,  16.96679894,  16.57745878,  16.27298808])}\n",
      "{'min_samples_leaf': 70}\n",
      "0.393172569419\n",
      "--------------------DEBUG RESULTS-----------------\n",
      "--------------------VAL SCORE-----------------\n",
      "0.403793098594\n",
      "preds RMSE: 1.81094833647\n",
      "--------------------VAL SCORE-----------------\n",
      "debug rfr success! \n",
      " cost time: 236.39963173866272 (s)\n"
     ]
    }
   ],
   "source": [
    "from sklearn import metrics\n",
    "\n",
    "start_time = time.time()\n",
    "cv = 3\n",
    "debug_1={'n_estimators':range(146,149,1),\n",
    "                   'max_depth':range(6,9,1)}\n",
    "debug_2={ 'max_features':[i/10.0 for i in range(1,5)]}\n",
    "debug_3={ 'min_samples_leaf':range(30,91,20)}\n",
    "estimator = RandomForestRegressor(n_estimators = 148, criterion='mse',  max_features=0.3, max_depth=7,n_jobs=4)\n",
    "gsearch1 = model_selection.GridSearchCV(\n",
    "    estimator,\n",
    "    param_grid=debug_3,\n",
    "    #scoring='neg_mean_squared_error',\n",
    "    n_jobs=1,\n",
    "    iid=False,\n",
    "    verbose=1,\n",
    "    #cv=5\n",
    "    cv=TimeSeriesSplit(n_splits=cv).get_n_splits([X, y]))\n",
    "gsearch1.fit(X, y)\n",
    "preds = gsearch1.predict(offline_test)\n",
    "print(\"--------------------DEBUG RESULTS-----------------\")\n",
    "print(gsearch1.cv_results_)\n",
    "print(gsearch1.best_params_)\n",
    "print(gsearch1.best_score_)\n",
    "print(\"--------------------DEBUG RESULTS-----------------\")\n",
    "print(\"--------------------VAL SCORE-----------------\")\n",
    "print( gsearch1.score(val_X, val_y))\n",
    "print (\"preds RMSE:\",np.sqrt(metrics.mean_squared_error(offline_test_y, preds)))\n",
    "print(\"--------------------VAL SCORE-----------------\")\n",
    "cost_time = time.time()-start_time\n",
    "print( \"debug rfr success!\",'\\n',\"cost time:\",cost_time,\"(s)\" )"
   ]
  },
  {
   "cell_type": "code",
   "execution_count": 10,
   "metadata": {},
   "outputs": [
    {
     "name": "stdout",
     "output_type": "stream",
     "text": [
      "Fitting 3 folds for each of 3 candidates, totalling 9 fits\n"
     ]
    },
    {
     "name": "stderr",
     "output_type": "stream",
     "text": [
      "[Parallel(n_jobs=1)]: Done   9 out of   9 | elapsed:  2.6min finished\n"
     ]
    },
    {
     "name": "stdout",
     "output_type": "stream",
     "text": [
      "--------------------DEBUG RESULTS-----------------\n",
      "{'split2_train_score': array([ 0.42631371,  0.4236366 ,  0.4217391 ]), 'split1_train_score': array([ 0.42189935,  0.41974135,  0.41747581]), 'mean_test_score': array([ 0.39324347,  0.39289347,  0.39294369]), 'std_test_score': array([ 0.00774664,  0.00783917,  0.00761958]), 'mean_train_score': array([ 0.42207333,  0.41952578,  0.41744817]), 'std_score_time': array([ 0.00154008,  0.00040393,  0.00023672]), 'mean_score_time': array([ 0.2227327 ,  0.22571063,  0.22490017]), 'param_min_samples_leaf': masked_array(data = [60 70 80],\n",
      "             mask = [False False False],\n",
      "       fill_value = ?)\n",
      ", 'params': [{'min_samples_leaf': 60}, {'min_samples_leaf': 70}, {'min_samples_leaf': 80}], 'std_fit_time': array([ 0.18030733,  0.2420982 ,  0.29482407]), 'std_train_score': array([ 0.00339347,  0.00344785,  0.00351487]), 'rank_test_score': array([1, 3, 2], dtype=int32), 'split0_test_score': array([ 0.40175007,  0.4012979 ,  0.40104652]), 'split2_test_score': array([ 0.38301155,  0.38243002,  0.38274044]), 'split0_train_score': array([ 0.41800692,  0.41519938,  0.41312959]), 'split1_test_score': array([ 0.39496878,  0.39495249,  0.39504411]), 'mean_fit_time': array([ 16.83764489,  16.67248019,  16.4559265 ])}\n",
      "{'min_samples_leaf': 60}\n",
      "0.393243466782\n",
      "--------------------DEBUG RESULTS-----------------\n",
      "--------------------VAL SCORE-----------------\n",
      "0.403783503773\n",
      "preds RMSE: 1.8105300824\n",
      "--------------------VAL SCORE-----------------\n",
      "debug rfr success! \n",
      " cost time: 181.78978514671326 (s)\n"
     ]
    }
   ],
   "source": [
    "from sklearn import metrics\n",
    "\n",
    "start_time = time.time()\n",
    "cv = 3\n",
    "debug_1={'n_estimators':range(146,149,1),\n",
    "                   'max_depth':range(6,9,1)}\n",
    "debug_2={ 'max_features':[i/10.0 for i in range(1,5)]}\n",
    "debug_3={ 'min_samples_leaf':range(60,81,10)}\n",
    "estimator = RandomForestRegressor(n_estimators = 148, criterion='mse',  max_features=0.3, max_depth=7,n_jobs=4)\n",
    "gsearch1 = model_selection.GridSearchCV(\n",
    "    estimator,\n",
    "    param_grid=debug_3,\n",
    "    #scoring='neg_mean_squared_error',\n",
    "    n_jobs=1,\n",
    "    iid=False,\n",
    "    verbose=1,\n",
    "    #cv=5\n",
    "    cv=TimeSeriesSplit(n_splits=cv).get_n_splits([X, y]))\n",
    "gsearch1.fit(X, y)\n",
    "preds = gsearch1.predict(offline_test)\n",
    "print(\"--------------------DEBUG RESULTS-----------------\")\n",
    "print(gsearch1.cv_results_)\n",
    "print(gsearch1.best_params_)\n",
    "print(gsearch1.best_score_)\n",
    "print(\"--------------------DEBUG RESULTS-----------------\")\n",
    "print(\"--------------------VAL SCORE-----------------\")\n",
    "print( gsearch1.score(val_X, val_y))\n",
    "print (\"preds RMSE:\",np.sqrt(metrics.mean_squared_error(offline_test_y, preds)))\n",
    "print(\"--------------------VAL SCORE-----------------\")\n",
    "cost_time = time.time()-start_time\n",
    "print( \"debug rfr success!\",'\\n',\"cost time:\",cost_time,\"(s)\" )"
   ]
  },
  {
   "cell_type": "code",
   "execution_count": 11,
   "metadata": {},
   "outputs": [
    {
     "name": "stdout",
     "output_type": "stream",
     "text": [
      "Fitting 3 folds for each of 3 candidates, totalling 9 fits\n"
     ]
    },
    {
     "name": "stderr",
     "output_type": "stream",
     "text": [
      "[Parallel(n_jobs=1)]: Done   9 out of   9 | elapsed:  2.7min finished\n"
     ]
    },
    {
     "name": "stdout",
     "output_type": "stream",
     "text": [
      "--------------------DEBUG RESULTS-----------------\n",
      "{'split2_train_score': array([ 0.42772033,  0.42621484,  0.42474937]), 'split1_train_score': array([ 0.4235849 ,  0.42215124,  0.421118  ]), 'mean_test_score': array([ 0.3928653 ,  0.39284292,  0.39271394]), 'std_test_score': array([ 0.00794669,  0.00766087,  0.00783228]), 'mean_train_score': array([ 0.42358033,  0.42215514,  0.42074356]), 'std_score_time': array([ 0.00238016,  0.00172343,  0.00117317]), 'mean_score_time': array([ 0.22219022,  0.22468487,  0.22505283]), 'param_min_samples_leaf': masked_array(data = [55 60 65],\n",
      "             mask = [False False False],\n",
      "       fill_value = ?)\n",
      ", 'params': [{'min_samples_leaf': 55}, {'min_samples_leaf': 60}, {'min_samples_leaf': 65}], 'std_fit_time': array([ 0.67199475,  0.0917706 ,  0.79255441]), 'std_train_score': array([ 0.00338217,  0.00331314,  0.00343382]), 'rank_test_score': array([1, 2, 3], dtype=int32), 'split0_test_score': array([ 0.40127618,  0.40102191,  0.40092658]), 'split2_test_score': array([ 0.38220482,  0.38260026,  0.3821709 ]), 'split0_train_score': array([ 0.41943575,  0.41809933,  0.41636331]), 'split1_test_score': array([ 0.3951149 ,  0.39490658,  0.39504432]), 'mean_fit_time': array([ 17.36358007,  16.780243  ,  18.25691517])}\n",
      "{'min_samples_leaf': 55}\n",
      "0.392865297494\n",
      "--------------------DEBUG RESULTS-----------------\n",
      "--------------------VAL SCORE-----------------\n",
      "0.40379809186\n",
      "preds RMSE: 1.81061194852\n",
      "--------------------VAL SCORE-----------------\n",
      "debug rfr success! \n",
      " cost time: 191.75310063362122 (s)\n"
     ]
    }
   ],
   "source": [
    "from sklearn import metrics\n",
    "\n",
    "start_time = time.time()\n",
    "cv = 3\n",
    "debug_1={'n_estimators':range(146,149,1),\n",
    "                   'max_depth':range(6,9,1)}\n",
    "debug_2={ 'max_features':[i/10.0 for i in range(1,5)]}\n",
    "debug_3={ 'min_samples_leaf':range(55,66,5)}\n",
    "estimator = RandomForestRegressor(n_estimators = 148, criterion='mse',  max_features=0.3, max_depth=7,n_jobs=4)\n",
    "gsearch1 = model_selection.GridSearchCV(\n",
    "    estimator,\n",
    "    param_grid=debug_3,\n",
    "    #scoring='neg_mean_squared_error',\n",
    "    n_jobs=1,\n",
    "    iid=False,\n",
    "    verbose=1,\n",
    "    #cv=5\n",
    "    cv=TimeSeriesSplit(n_splits=cv).get_n_splits([X, y]))\n",
    "gsearch1.fit(X, y)\n",
    "preds = gsearch1.predict(offline_test)\n",
    "print(\"--------------------DEBUG RESULTS-----------------\")\n",
    "print(gsearch1.cv_results_)\n",
    "print(gsearch1.best_params_)\n",
    "print(gsearch1.best_score_)\n",
    "print(\"--------------------DEBUG RESULTS-----------------\")\n",
    "print(\"--------------------VAL SCORE-----------------\")\n",
    "print( gsearch1.score(val_X, val_y))\n",
    "print (\"preds RMSE:\",np.sqrt(metrics.mean_squared_error(offline_test_y, preds)))\n",
    "print(\"--------------------VAL SCORE-----------------\")\n",
    "cost_time = time.time()-start_time\n",
    "print( \"debug rfr success!\",'\\n',\"cost time:\",cost_time,\"(s)\" )"
   ]
  },
  {
   "cell_type": "code",
   "execution_count": 12,
   "metadata": {},
   "outputs": [
    {
     "name": "stdout",
     "output_type": "stream",
     "text": [
      "Fitting 3 folds for each of 3 candidates, totalling 9 fits\n"
     ]
    },
    {
     "name": "stderr",
     "output_type": "stream",
     "text": [
      "[Parallel(n_jobs=1)]: Done   9 out of   9 | elapsed:  2.9min finished\n"
     ]
    },
    {
     "name": "stdout",
     "output_type": "stream",
     "text": [
      "--------------------DEBUG RESULTS-----------------\n",
      "{'split2_train_score': array([ 0.42811349,  0.42788696,  0.42683802]), 'split1_train_score': array([ 0.42465162,  0.42404819,  0.42374551]), 'mean_test_score': array([ 0.39262381,  0.39278546,  0.39273119]), 'std_test_score': array([ 0.00789036,  0.00762104,  0.00795765]), 'mean_train_score': array([ 0.42439959,  0.42382114,  0.42322719]), 'std_score_time': array([ 0.00251908,  0.00352703,  0.00216968]), 'mean_score_time': array([ 0.22147568,  0.22513906,  0.22251741]), 'param_min_samples_leaf': masked_array(data = [53 55 57],\n",
      "             mask = [False False False],\n",
      "       fill_value = ?)\n",
      ", 'params': [{'min_samples_leaf': 53}, {'min_samples_leaf': 55}, {'min_samples_leaf': 57}], 'std_fit_time': array([ 0.27969828,  0.44019635,  0.60227422]), 'std_train_score': array([ 0.00314034,  0.0034162 ,  0.00318101]), 'rank_test_score': array([3, 1, 2], dtype=int32), 'split0_test_score': array([ 0.401247  ,  0.4010425 ,  0.40136315]), 'split2_test_score': array([ 0.38217893,  0.38265809,  0.38216195]), 'split0_train_score': array([ 0.42043366,  0.41952826,  0.41909805]), 'split1_test_score': array([ 0.3944455 ,  0.39465578,  0.39466846]), 'mean_fit_time': array([ 18.13438241,  19.18497006,  20.03884514])}\n",
      "{'min_samples_leaf': 55}\n",
      "0.392785458693\n",
      "--------------------DEBUG RESULTS-----------------\n",
      "--------------------VAL SCORE-----------------\n",
      "0.404027253936\n",
      "preds RMSE: 1.81085317438\n",
      "--------------------VAL SCORE-----------------\n",
      "debug rfr success! \n",
      " cost time: 207.3144063949585 (s)\n"
     ]
    }
   ],
   "source": [
    "from sklearn import metrics\n",
    "\n",
    "start_time = time.time()\n",
    "cv = 3\n",
    "debug_1={'n_estimators':range(146,149,1),\n",
    "                   'max_depth':range(6,9,1)}\n",
    "debug_2={ 'max_features':[i/10.0 for i in range(1,5)]}\n",
    "debug_3={ 'min_samples_leaf':range(53,58,2)}\n",
    "estimator = RandomForestRegressor(n_estimators = 148, criterion='mse',  max_features=0.3, max_depth=7,n_jobs=4)\n",
    "gsearch1 = model_selection.GridSearchCV(\n",
    "    estimator,\n",
    "    param_grid=debug_3,\n",
    "    #scoring='neg_mean_squared_error',\n",
    "    n_jobs=1,\n",
    "    iid=False,\n",
    "    verbose=1,\n",
    "    #cv=5\n",
    "    cv=TimeSeriesSplit(n_splits=cv).get_n_splits([X, y]))\n",
    "gsearch1.fit(X, y)\n",
    "preds = gsearch1.predict(offline_test)\n",
    "print(\"--------------------DEBUG RESULTS-----------------\")\n",
    "print(gsearch1.cv_results_)\n",
    "print(gsearch1.best_params_)\n",
    "print(gsearch1.best_score_)\n",
    "print(\"--------------------DEBUG RESULTS-----------------\")\n",
    "print(\"--------------------VAL SCORE-----------------\")\n",
    "print( gsearch1.score(val_X, val_y))\n",
    "print (\"preds RMSE:\",np.sqrt(metrics.mean_squared_error(offline_test_y, preds)))\n",
    "print(\"--------------------VAL SCORE-----------------\")\n",
    "cost_time = time.time()-start_time\n",
    "print( \"debug rfr success!\",'\\n',\"cost time:\",cost_time,\"(s)\" )"
   ]
  },
  {
   "cell_type": "code",
   "execution_count": 13,
   "metadata": {},
   "outputs": [
    {
     "name": "stdout",
     "output_type": "stream",
     "text": [
      "Fitting 3 folds for each of 2 candidates, totalling 6 fits\n"
     ]
    },
    {
     "name": "stderr",
     "output_type": "stream",
     "text": [
      "[Parallel(n_jobs=1)]: Done   6 out of   6 | elapsed:  1.8min finished\n"
     ]
    },
    {
     "name": "stdout",
     "output_type": "stream",
     "text": [
      "--------------------DEBUG RESULTS-----------------\n",
      "{'split2_train_score': array([ 0.42821221,  0.42787819]), 'split1_train_score': array([ 0.42422019,  0.42381019]), 'mean_test_score': array([ 0.39302734,  0.39291849]), 'std_test_score': array([ 0.00794674,  0.00782857]), 'mean_train_score': array([ 0.4240633 ,  0.42359425]), 'std_score_time': array([ 0.00032229,  0.00071735]), 'mean_score_time': array([ 0.22657855,  0.22645148]), 'param_min_samples_leaf': masked_array(data = [54 55],\n",
      "             mask = [False False],\n",
      "       fill_value = ?)\n",
      ", 'params': [{'min_samples_leaf': 54}, {'min_samples_leaf': 55}], 'std_fit_time': array([ 0.54131087,  0.32657894]), 'std_train_score': array([ 0.0034534 ,  0.00358922]), 'rank_test_score': array([1, 2], dtype=int32), 'split0_test_score': array([ 0.40174382,  0.40157881]), 'split2_test_score': array([ 0.38252555,  0.38261515]), 'split0_train_score': array([ 0.41975751,  0.41909438]), 'split1_test_score': array([ 0.39481265,  0.3945615 ]), 'mean_fit_time': array([ 17.74288964,  17.04741263])}\n",
      "{'min_samples_leaf': 54}\n",
      "0.39302733872\n",
      "--------------------DEBUG RESULTS-----------------\n",
      "--------------------VAL SCORE-----------------\n",
      "0.403783458294\n",
      "preds RMSE: 1.81046991787\n",
      "--------------------VAL SCORE-----------------\n",
      "debug rfr success! \n",
      " cost time: 137.00630354881287 (s)\n"
     ]
    }
   ],
   "source": [
    "from sklearn import metrics\n",
    "\n",
    "start_time = time.time()\n",
    "cv = 3\n",
    "debug_1={'n_estimators':range(146,149,1),\n",
    "                   'max_depth':range(6,9,1)}\n",
    "debug_2={ 'max_features':[i/10.0 for i in range(1,5)]}\n",
    "debug_3={ 'min_samples_leaf':range(54,56,1)}\n",
    "estimator = RandomForestRegressor(n_estimators = 148, criterion='mse',  max_features=0.3, max_depth=7,n_jobs=4)\n",
    "gsearch1 = model_selection.GridSearchCV(\n",
    "    estimator,\n",
    "    param_grid=debug_3,\n",
    "    #scoring='neg_mean_squared_error',\n",
    "    n_jobs=1,\n",
    "    iid=False,\n",
    "    verbose=1,\n",
    "    #cv=5\n",
    "    cv=TimeSeriesSplit(n_splits=cv).get_n_splits([X, y]))\n",
    "gsearch1.fit(X, y)\n",
    "preds = gsearch1.predict(offline_test)\n",
    "print(\"--------------------DEBUG RESULTS-----------------\")\n",
    "print(gsearch1.cv_results_)\n",
    "print(gsearch1.best_params_)\n",
    "print(gsearch1.best_score_)\n",
    "print(\"--------------------DEBUG RESULTS-----------------\")\n",
    "print(\"--------------------VAL SCORE-----------------\")\n",
    "print( gsearch1.score(val_X, val_y))\n",
    "print (\"preds RMSE:\",np.sqrt(metrics.mean_squared_error(offline_test_y, preds)))\n",
    "print(\"--------------------VAL SCORE-----------------\")\n",
    "cost_time = time.time()-start_time\n",
    "print( \"debug rfr success!\",'\\n',\"cost time:\",cost_time,\"(s)\" )"
   ]
  },
  {
   "cell_type": "code",
   "execution_count": 16,
   "metadata": {},
   "outputs": [
    {
     "name": "stdout",
     "output_type": "stream",
     "text": [
      "Fitting 3 folds for each of 3 candidates, totalling 9 fits\n"
     ]
    },
    {
     "name": "stderr",
     "output_type": "stream",
     "text": [
      "[Parallel(n_jobs=1)]: Done   9 out of   9 | elapsed:  2.8min finished\n"
     ]
    },
    {
     "name": "stdout",
     "output_type": "stream",
     "text": [
      "--------------------DEBUG RESULTS-----------------\n",
      "{'split1_train_score': array([ 0.42378036,  0.42415036,  0.42413589]), 'mean_test_score': array([ 0.39323053,  0.39282751,  0.39320882]), 'std_test_score': array([ 0.00779145,  0.00800681,  0.00775809]), 'mean_train_score': array([ 0.42379009,  0.42373541,  0.42418178]), 'split1_test_score': array([ 0.39529955,  0.39492215,  0.39498885]), 'mean_score_time': array([ 0.22059639,  0.22218927,  0.2222023 ]), 'split2_train_score': array([ 0.42816183,  0.42762404,  0.42814781]), 'params': [{'min_samples_split': 2}, {'min_samples_split': 5}, {'min_samples_split': 8}], 'std_fit_time': array([ 0.07166243,  0.13008872,  0.06717209]), 'std_train_score': array([ 0.00356554,  0.0033573 ,  0.00321968]), 'rank_test_score': array([1, 3, 2], dtype=int32), 'param_min_samples_split': masked_array(data = [2 5 8],\n",
      "             mask = [False False False],\n",
      "       fill_value = ?)\n",
      ", 'split0_test_score': array([ 0.40156882,  0.40141725,  0.4016946 ]), 'split2_test_score': array([ 0.38282321,  0.38214313,  0.382943  ]), 'split0_train_score': array([ 0.41942809,  0.41943183,  0.42026164]), 'std_score_time': array([ 0.00171001,  0.00107044,  0.00183007]), 'mean_fit_time': array([ 18.09710582,  18.00149218,  18.55426129])}\n",
      "{'min_samples_split': 2}\n",
      "0.393230527759\n",
      "--------------------DEBUG RESULTS-----------------\n",
      "--------------------VAL SCORE-----------------\n",
      "0.403873509122\n",
      "preds RMSE: 1.8109571891\n",
      "--------------------VAL SCORE-----------------\n",
      "debug rfr success! \n",
      " cost time: 197.9419686794281 (s)\n"
     ]
    }
   ],
   "source": [
    "from sklearn import metrics\n",
    "\n",
    "start_time = time.time()\n",
    "cv = 3\n",
    "debug_1={'n_estimators':range(146,149,1),\n",
    "                   'max_depth':range(6,9,1)}\n",
    "debug_2={ 'max_features':[i/10.0 for i in range(1,5)]}\n",
    "debug_3={ 'min_samples_leaf':range(54,56,1)}\n",
    "debug_4={ 'min_samples_split':range(2,9,3)}\n",
    "\n",
    "estimator = RandomForestRegressor(n_estimators = 148, criterion='mse',  max_features=0.3, max_depth=7, min_samples_leaf=54,n_jobs=4)\n",
    "gsearch1 = model_selection.GridSearchCV(\n",
    "    estimator,\n",
    "    param_grid=debug_4,\n",
    "    #scoring='neg_mean_squared_error',\n",
    "    n_jobs=1,\n",
    "    iid=False,\n",
    "    verbose=1,\n",
    "    #cv=5\n",
    "    cv=TimeSeriesSplit(n_splits=cv).get_n_splits([X, y]))\n",
    "gsearch1.fit(X, y)\n",
    "preds = gsearch1.predict(offline_test)\n",
    "print(\"--------------------DEBUG RESULTS-----------------\")\n",
    "print(gsearch1.cv_results_)\n",
    "print(gsearch1.best_params_)\n",
    "print(gsearch1.best_score_)\n",
    "print(\"--------------------DEBUG RESULTS-----------------\")\n",
    "print(\"--------------------VAL SCORE-----------------\")\n",
    "print( gsearch1.score(val_X, val_y))\n",
    "print (\"preds RMSE:\",np.sqrt(metrics.mean_squared_error(offline_test_y, preds)))\n",
    "print(\"--------------------VAL SCORE-----------------\")\n",
    "cost_time = time.time()-start_time\n",
    "print( \"debug rfr success!\",'\\n',\"cost time:\",cost_time,\"(s)\" )"
   ]
  },
  {
   "cell_type": "code",
   "execution_count": null,
   "metadata": {},
   "outputs": [],
   "source": []
  },
  {
   "cell_type": "code",
   "execution_count": null,
   "metadata": {},
   "outputs": [],
   "source": []
  },
  {
   "cell_type": "code",
   "execution_count": 4,
   "metadata": {},
   "outputs": [
    {
     "name": "stderr",
     "output_type": "stream",
     "text": [
      "/home/fg/tensorflow/lib/python3.5/site-packages/ipykernel_launcher.py:2: FutureWarning: \n",
      "Passing list-likes to .loc or [] with any missing label will raise\n",
      "KeyError in the future, you can use .reindex() as an alternative.\n",
      "\n",
      "See the documentation here:\n",
      "http://pandas.pydata.org/pandas-docs/stable/indexing.html#deprecate-loc-reindex-listlike\n",
      "  \n",
      "/home/fg/tensorflow/lib/python3.5/site-packages/pandas/core/indexing.py:1367: FutureWarning: \n",
      "Passing list-likes to .loc or [] with any missing label will raise\n",
      "KeyError in the future, you can use .reindex() as an alternative.\n",
      "\n",
      "See the documentation here:\n",
      "http://pandas.pydata.org/pandas-docs/stable/indexing.html#deprecate-loc-reindex-listlike\n",
      "  return self._getitem_tuple(key)\n"
     ]
    }
   ],
   "source": [
    "tests = pd.read_csv(\"../feature/test_data_new.csv\",encoding=\"utf-8\")\n",
    "online = tests.loc[:,['uid', 'loan_sum']]\n",
    "tests.drop('uid',1,inplace=True)"
   ]
  },
  {
   "cell_type": "code",
   "execution_count": 2,
   "metadata": {},
   "outputs": [],
   "source": [
    "def plot_learning_curve(estimator, title, X, y, ylim=None, cv=None,\n",
    "                        n_jobs=1, train_sizes=np.linspace(.1, 1.0, 5)):\n",
    "    \n",
    "    plt.figure()\n",
    "    plt.title(title)\n",
    "    if ylim is not None:\n",
    "        plt.ylim(*ylim)\n",
    "    plt.xlabel(\"Training examples\")\n",
    "    plt.ylabel(\"Score\")\n",
    "    train_sizes, train_scores, test_scores = learning_curve(\n",
    "        estimator, X, y, cv=cv, n_jobs=n_jobs, train_sizes=train_sizes)\n",
    "    train_scores_mean = np.mean(train_scores, axis=1)\n",
    "    train_scores_std = np.std(train_scores, axis=1)\n",
    "    test_scores_mean = np.mean(test_scores, axis=1)\n",
    "    test_scores_std = np.std(test_scores, axis=1)\n",
    "    plt.grid()\n",
    "\n",
    "    plt.fill_between(train_sizes, train_scores_mean - train_scores_std,\n",
    "                     train_scores_mean + train_scores_std, alpha=0.1,\n",
    "                     color=\"r\")\n",
    "    plt.fill_between(train_sizes, test_scores_mean - test_scores_std,\n",
    "                     test_scores_mean + test_scores_std, alpha=0.1, color=\"g\")\n",
    "    plt.plot(train_sizes, train_scores_mean, 'o-', color=\"r\",\n",
    "             label=\"Training score\")\n",
    "    plt.plot(train_sizes, test_scores_mean, 'o-', color=\"g\",\n",
    "             label=\"Cross-validation score\")\n",
    "\n",
    "    plt.legend(loc=\"best\")\n",
    "    return plt"
   ]
  },
  {
   "cell_type": "code",
   "execution_count": 7,
   "metadata": {
    "scrolled": false
   },
   "outputs": [
    {
     "name": "stdout",
     "output_type": "stream",
     "text": [
      "Fitting 3 folds for each of 5 candidates, totalling 15 fits\n"
     ]
    },
    {
     "name": "stderr",
     "output_type": "stream",
     "text": [
      "[Parallel(n_jobs=1)]: Done  15 out of  15 | elapsed:  2.4min finished\n"
     ]
    },
    {
     "name": "stdout",
     "output_type": "stream",
     "text": [
      "--------------------DEBUG RESULTS-----------------\n",
      "{'split0_test_score': array([ 0.38714961,  0.39521611,  0.39814959,  0.39857353,  0.39966614]), 'split2_train_score': array([ 0.38692868,  0.40344937,  0.42316396,  0.44707162,  0.47708251]), 'split1_train_score': array([ 0.38405175,  0.39940534,  0.41888739,  0.44350167,  0.47231989]), 'std_fit_time': array([ 0.17334226,  0.05691734,  0.04458609,  0.14474317,  0.06402986]), 'mean_score_time': array([ 0.14401778,  0.1463023 ,  0.14418379,  0.14635801,  0.14450987]), 'std_score_time': array([ 0.00257597,  0.00114398,  0.00162738,  0.00145646,  0.00087884]), 'params': [{'max_depth': 4}, {'max_depth': 5}, {'max_depth': 6}, {'max_depth': 7}, {'max_depth': 8}], 'rank_test_score': array([5, 4, 3, 2, 1], dtype=int32), 'std_test_score': array([ 0.00898324,  0.00873758,  0.00784955,  0.00766026,  0.00795858]), 'mean_train_score': array([ 0.38306492,  0.39943187,  0.41866931,  0.44303201,  0.47243121]), 'std_train_score': array([ 0.00362541,  0.00326949,  0.00376206,  0.00350584,  0.00375315]), 'split2_test_score': array([ 0.36520204,  0.37381468,  0.37892271,  0.37982152,  0.38017205]), 'split1_test_score': array([ 0.37754389,  0.38471019,  0.38865723,  0.38862355,  0.3900223 ]), 'mean_test_score': array([ 0.37663185,  0.38458033,  0.38857651,  0.3890062 ,  0.3899535 ]), 'split0_train_score': array([ 0.37821432,  0.39544092,  0.41395658,  0.43852273,  0.46789123]), 'param_max_depth': masked_array(data = [4 5 6 7 8],\n",
      "             mask = [False False False False False],\n",
      "       fill_value = ?)\n",
      ", 'mean_fit_time': array([  6.3629663 ,   7.5324688 ,   9.20074455,  10.87754639,  12.5194513 ])}\n",
      "{'max_depth': 8}\n",
      "0.389953495756\n",
      "--------------------DEBUG RESULTS-----------------\n",
      "--------------------VAL SCORE-----------------\n",
      "0.401354907542\n",
      "preds RMSE: 1.81454971985\n",
      "--------------------VAL SCORE-----------------\n",
      "--------------------plot_learning_curve-----------------\n"
     ]
    },
    {
     "data": {
      "image/png": "[encoded data removed]",
      "text/plain": [
       "<matplotlib.figure.Figure at 0x7fadcd9ff3c8>"
      ]
     },
     "metadata": {},
     "output_type": "display_data"
    },
    {
     "name": "stdout",
     "output_type": "stream",
     "text": [
      "--------------------plot_learning_curve-----------------\n",
      "debug rfr success! \n",
      " cost time: 271.93209767341614 (s)\n"
     ]
    }
   ],
   "source": [
    "\n",
    "\n",
    "start_time = time.time()\n",
    "cv = 3\n",
    "debug_1={#'n_estimators':range(70,130,10),\n",
    "                   'max_depth':range(4,9,1)}\n",
    "estimator = RandomForestRegressor(n_estimators = 100, criterion='mse',  max_features=0.2, max_depth=8,n_jobs=4)\n",
    "gsearch1 = model_selection.GridSearchCV(\n",
    "    estimator,\n",
    "    param_grid=debug_1,\n",
    "    #scoring='neg_mean_squared_error',\n",
    "    n_jobs=1,\n",
    "    iid=False,\n",
    "    verbose=1,\n",
    "    #cv=5\n",
    "    cv=TimeSeriesSplit(n_splits=cv).get_n_splits([X, y]))\n",
    "gsearch1.fit(X, y)\n",
    "preds = gsearch1.predict(offline_test)\n",
    "print(\"--------------------DEBUG RESULTS-----------------\")\n",
    "print(gsearch1.cv_results_)\n",
    "print(gsearch1.best_params_)\n",
    "print(gsearch1.best_score_)\n",
    "print(\"--------------------DEBUG RESULTS-----------------\")\n",
    "print(\"--------------------VAL SCORE-----------------\")\n",
    "print( gsearch1.score(val_X, val_y))\n",
    "print (\"preds RMSE:\",np.sqrt(metrics.mean_squared_error(offline_test_y, preds)))\n",
    "print(\"--------------------VAL SCORE-----------------\")\n",
    "print(\"--------------------plot_learning_curve-----------------\")\n",
    "yy = train.loan_sum\n",
    "XX = train.drop(['loan_sum'],axis=1)\n",
    "title = \"Learning Curves (Random Forest, n_estimators = 100)\"\n",
    "plot_learning_curve(estimator, title, XX, yy, (0.35, 0.5), cv=cv, n_jobs=1)\n",
    "plt.show()\n",
    "print(\"--------------------plot_learning_curve-----------------\")\n",
    "# print(\"--------------------test-----------------\")\n",
    "# preds_online = gsearch1.predict(tests)\n",
    "\n",
    "# online['loan_sum']=preds_online\n",
    "\n",
    "# online.to_csv(\"./result_jd_100_rfr_8_new_1.csv\",index=None,encoding='utf-8')\n",
    "# print(\"--------------------test-----------------\")\n",
    "cost_time = time.time()-start_time\n",
    "print( \"debug rfr success!\",'\\n',\"cost time:\",cost_time,\"(s)\" )"
   ]
  },
  {
   "cell_type": "code",
   "execution_count": 9,
   "metadata": {},
   "outputs": [
    {
     "data": {
      "image/png": "[encoded data removed]",
      "text/plain": [
       "<matplotlib.figure.Figure at 0x7fadadd744e0>"
      ]
     },
     "metadata": {},
     "output_type": "display_data"
    }
   ],
   "source": [
    "\n",
    "title = \"Learning Curves (Random Forest, n_estimators = 100)\"\n",
    "plot_learning_curve(estimator, title, XX, yy, (0.35, 1), cv=cv, n_jobs=1)\n",
    "plt.show()"
   ]
  },
  {
   "cell_type": "code",
   "execution_count": 3,
   "metadata": {},
   "outputs": [
    {
     "data": {
      "image/png": "[encoded data removed]",
      "text/plain": [
       "<matplotlib.figure.Figure at 0x7fba62a9ccf8>"
      ]
     },
     "metadata": {},
     "output_type": "display_data"
    }
   ],
   "source": [
    "title = \"Learning Curves (Random Forest, n_estimators = 100)\"\n",
    "estimator = RandomForestRegressor(n_estimators = 120, criterion='mse',  max_features=0.2, max_depth=8,n_jobs=4)\n",
    "plot_learning_curve(estimator, title, XX, yy, (0.35, 1), cv=3, n_jobs=1)\n",
    "plt.show()\n"
   ]
  },
  {
   "cell_type": "code",
   "execution_count": null,
   "metadata": {},
   "outputs": [],
   "source": []
  }
 ],
 "metadata": {
  "kernelspec": {
   "display_name": "Python 3",
   "language": "python",
   "name": "python3"
  },
  "language_info": {
   "codemirror_mode": {
    "name": "ipython",
    "version": 3
   },
   "file_extension": ".py",
   "mimetype": "text/x-python",
   "name": "python",
   "nbconvert_exporter": "python",
   "pygments_lexer": "ipython3",
   "version": "3.5.2"
  }
 },
 "nbformat": 4,
 "nbformat_minor": 2
}
