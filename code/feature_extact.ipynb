{
 "cells": [
  {
   "cell_type": "code",
   "execution_count": 1,
   "metadata": {},
   "outputs": [
    {
     "name": "stdout",
     "output_type": "stream",
     "text": [
      "/home/fg/IdeaProjects/jd/Untitled Folder\n"
     ]
    }
   ],
   "source": [
    "import numpy as np # linear algebra\n",
    "import pandas as pd # data processing, CSV file I/O (e.g. pd.read_csv)\n",
    "import matplotlib.pyplot as plt\n",
    "import datetime\n",
    "import matplotlib as mpl\n",
    "mpl.rcParams['font.sans-serif'] = ['SimHei']\n",
    "mpl.rcParams['font.serif'] = ['SimHei']\n",
    "import seaborn as sns\n",
    "%matplotlib inline\n",
    "p = sns.color_palette()\n",
    "sns.set_style(\"darkgrid\",{\"font.sans-serif\":['simhei', 'Arial']})\n",
    "\n",
    "#https://github.com/mwaskom/seaborn/issues/1009\n",
    "\n",
    "import os\n",
    "print (os.path.abspath(os.curdir))"
   ]
  },
  {
   "cell_type": "code",
   "execution_count": 2,
   "metadata": {},
   "outputs": [],
   "source": [
    "t_user=\"../input/t_user.csv\"\n",
    "t_loan_sum=\"../input/t_loan_sum.csv\"\n",
    "t_loan_info_summary=\"../feature/mid/loan_info_summary.csv\"\n",
    "t_order_info_summary=\"../feature/mid/order_info_summary.csv\"\n",
    "t_click_info_summary=\"../feature/mid/click_info_summary.csv\"\n"
   ]
  },
  {
   "cell_type": "code",
   "execution_count": 3,
   "metadata": {},
   "outputs": [
    {
     "name": "stdout",
     "output_type": "stream",
     "text": [
      "<class 'pandas.core.frame.DataFrame'>\n",
      "RangeIndex: 90993 entries, 0 to 90992\n",
      "Data columns (total 5 columns):\n",
      "uid            90993 non-null uint32\n",
      "age            90993 non-null uint8\n",
      "sex            90993 non-null uint8\n",
      "active_date    90993 non-null datetime64[ns]\n",
      "limit          90993 non-null float64\n",
      "dtypes: datetime64[ns](1), float64(1), uint32(1), uint8(2)\n",
      "memory usage: 1.9 MB\n"
     ]
    }
   ],
   "source": [
    "user_info = pd.read_csv(t_user,low_memory=False)\n",
    "user_info['uid'] = user_info['uid'].astype('uint32')\n",
    "user_info['age'] = user_info['age'].astype('uint8')\n",
    "user_info['sex'] = user_info['sex'].astype('uint8')\n",
    "user_info['active_date'] = user_info['active_date'].astype('datetime64[ns]')\n",
    "user_info.info() #90993\n",
    "user_info.head(3)\n",
    "train_data=user_info\n",
    "test_data=user_info"
   ]
  },
  {
   "cell_type": "code",
   "execution_count": 4,
   "metadata": {},
   "outputs": [
    {
     "name": "stdout",
     "output_type": "stream",
     "text": [
      "<class 'pandas.core.frame.DataFrame'>\n",
      "Int64Index: 90993 entries, 0 to 90992\n",
      "Data columns (total 6 columns):\n",
      "uid            90993 non-null uint32\n",
      "age            90993 non-null uint8\n",
      "sex            90993 non-null uint8\n",
      "active_date    90993 non-null datetime64[ns]\n",
      "limit          90993 non-null float64\n",
      "loan_sum       90993 non-null float64\n",
      "dtypes: datetime64[ns](1), float64(2), uint32(1), uint8(2)\n",
      "memory usage: 3.3 MB\n"
     ]
    },
    {
     "data": {
      "text/html": [
       "<div>\n",
       "<style scoped>\n",
       "    .dataframe tbody tr th:only-of-type {\n",
       "        vertical-align: middle;\n",
       "    }\n",
       "\n",
       "    .dataframe tbody tr th {\n",
       "        vertical-align: top;\n",
       "    }\n",
       "\n",
       "    .dataframe thead th {\n",
       "        text-align: right;\n",
       "    }\n",
       "</style>\n",
       "<table border=\"1\" class=\"dataframe\">\n",
       "  <thead>\n",
       "    <tr style=\"text-align: right;\">\n",
       "      <th></th>\n",
       "      <th>uid</th>\n",
       "      <th>age</th>\n",
       "      <th>sex</th>\n",
       "      <th>active_date</th>\n",
       "      <th>limit</th>\n",
       "      <th>loan_sum</th>\n",
       "    </tr>\n",
       "  </thead>\n",
       "  <tbody>\n",
       "    <tr>\n",
       "      <th>0</th>\n",
       "      <td>26308</td>\n",
       "      <td>30</td>\n",
       "      <td>1</td>\n",
       "      <td>2016-02-16</td>\n",
       "      <td>5.974677</td>\n",
       "      <td>5.50118</td>\n",
       "    </tr>\n",
       "    <tr>\n",
       "      <th>1</th>\n",
       "      <td>78209</td>\n",
       "      <td>40</td>\n",
       "      <td>1</td>\n",
       "      <td>2016-02-21</td>\n",
       "      <td>5.292154</td>\n",
       "      <td>0.00000</td>\n",
       "    </tr>\n",
       "    <tr>\n",
       "      <th>2</th>\n",
       "      <td>51930</td>\n",
       "      <td>35</td>\n",
       "      <td>1</td>\n",
       "      <td>2016-04-19</td>\n",
       "      <td>6.292055</td>\n",
       "      <td>0.00000</td>\n",
       "    </tr>\n",
       "  </tbody>\n",
       "</table>\n",
       "</div>"
      ],
      "text/plain": [
       "     uid  age  sex active_date     limit  loan_sum\n",
       "0  26308   30    1  2016-02-16  5.974677   5.50118\n",
       "1  78209   40    1  2016-02-21  5.292154   0.00000\n",
       "2  51930   35    1  2016-04-19  6.292055   0.00000"
      ]
     },
     "execution_count": 4,
     "metadata": {},
     "output_type": "execute_result"
    }
   ],
   "source": [
    "loan_sum = pd.read_csv(t_loan_sum,low_memory=False)\n",
    "loan_sum['uid'] = loan_sum['uid'].astype('uint32')\n",
    "loan_sum.drop('month',1,inplace=True)\n",
    "train_data=pd.merge(train_data,loan_sum,how='left', on = \"uid\")\n",
    "train_data.fillna({'loan_sum':0.0},inplace=True)\n",
    "#train_data=train_data.query('loan_sum <= limit')\n",
    "train_data.info()\n",
    "train_data.head(3)"
   ]
  },
  {
   "cell_type": "code",
   "execution_count": 5,
   "metadata": {},
   "outputs": [
    {
     "name": "stdout",
     "output_type": "stream",
     "text": [
      "<class 'pandas.core.frame.DataFrame'>\n",
      "RangeIndex: 36697 entries, 0 to 36696\n",
      "Data columns (total 44 columns):\n",
      "uid                      36697 non-null int64\n",
      "8M_loan_amount_sum       36697 non-null float64\n",
      "8M_plannum_sum           36697 non-null float64\n",
      "8M_loan_amount_count     36697 non-null float64\n",
      "8M_plannum_count         36697 non-null float64\n",
      "8M_loan_amount_max       36697 non-null float64\n",
      "8M_plannum_max           36697 non-null float64\n",
      "8M_loan_amount_min       36697 non-null float64\n",
      "8M_plannum_min           36697 non-null float64\n",
      "8M_loan_amount_mean      36697 non-null float64\n",
      "8M_plannum_mean          36697 non-null float64\n",
      "9M_loan_amount_sum       36697 non-null float64\n",
      "9M_plannum_sum           36697 non-null float64\n",
      "9M_loan_amount_count     36697 non-null float64\n",
      "9M_plannum_count         36697 non-null float64\n",
      "9M_loan_amount_max       36697 non-null float64\n",
      "9M_plannum_max           36697 non-null float64\n",
      "9M_loan_amount_min       36697 non-null float64\n",
      "9M_plannum_min           36697 non-null float64\n",
      "9M_loan_amount_mean      36697 non-null float64\n",
      "9M_plannum_mean          36697 non-null float64\n",
      "10M_loan_amount_sum      36697 non-null float64\n",
      "10M_plannum_sum          36697 non-null float64\n",
      "10M_loan_amount_count    36697 non-null float64\n",
      "10M_plannum_count        36697 non-null float64\n",
      "10M_loan_amount_max      36697 non-null float64\n",
      "10M_plannum_max          36697 non-null float64\n",
      "10M_loan_amount_min      36697 non-null float64\n",
      "10M_plannum_min          36697 non-null float64\n",
      "10M_loan_amount_mean     36697 non-null float64\n",
      "10M_plannum_mean         36697 non-null float64\n",
      "11M_loan_amount_sum      36697 non-null float64\n",
      "11M_plannum_sum          36697 non-null float64\n",
      "11M_loan_amount_count    36697 non-null float64\n",
      "11M_plannum_count        36697 non-null float64\n",
      "11M_loan_amount_max      36697 non-null float64\n",
      "11M_plannum_max          36697 non-null float64\n",
      "11M_loan_amount_min      36697 non-null float64\n",
      "11M_plannum_min          36697 non-null float64\n",
      "11M_loan_amount_mean     36697 non-null float64\n",
      "11M_plannum_mean         36697 non-null float64\n",
      "9M_8M_loan_amount        36697 non-null float64\n",
      "10M_9M_loan_amount       36697 non-null float64\n",
      "11M_10M_loan_amount      36697 non-null float64\n",
      "dtypes: float64(43), int64(1)\n",
      "memory usage: 12.3 MB\n"
     ]
    }
   ],
   "source": [
    "loan_info_summary = pd.read_csv(t_loan_info_summary,low_memory=False)\n",
    "loan_info_summary.info()"
   ]
  },
  {
   "cell_type": "code",
   "execution_count": 6,
   "metadata": {},
   "outputs": [
    {
     "name": "stdout",
     "output_type": "stream",
     "text": [
      "<class 'pandas.core.frame.DataFrame'>\n",
      "Index: 90993 entries, 0 to 90992\n",
      "Data columns (total 38 columns):\n",
      "uid                     90993 non-null uint32\n",
      "age                     90993 non-null uint8\n",
      "sex                     90993 non-null uint8\n",
      "active_date             90993 non-null datetime64[ns]\n",
      "limit                   90993 non-null float64\n",
      "loan_sum                90993 non-null float64\n",
      "1M_loan_amount_sum      36697 non-null float64\n",
      "1M_plannum_sum          36697 non-null float64\n",
      "1M_loan_amount_count    36697 non-null float64\n",
      "1M_plannum_count        36697 non-null float64\n",
      "1M_loan_amount_max      36697 non-null float64\n",
      "1M_plannum_max          36697 non-null float64\n",
      "1M_loan_amount_min      36697 non-null float64\n",
      "1M_plannum_min          36697 non-null float64\n",
      "1M_loan_amount_mean     36697 non-null float64\n",
      "1M_plannum_mean         36697 non-null float64\n",
      "2M_loan_amount_sum      36697 non-null float64\n",
      "2M_plannum_sum          36697 non-null float64\n",
      "2M_loan_amount_count    36697 non-null float64\n",
      "2M_plannum_count        36697 non-null float64\n",
      "2M_loan_amount_max      36697 non-null float64\n",
      "2M_plannum_max          36697 non-null float64\n",
      "2M_loan_amount_min      36697 non-null float64\n",
      "2M_plannum_min          36697 non-null float64\n",
      "2M_loan_amount_mean     36697 non-null float64\n",
      "2M_plannum_mean         36697 non-null float64\n",
      "3M_loan_amount_sum      36697 non-null float64\n",
      "3M_plannum_sum          36697 non-null float64\n",
      "3M_loan_amount_count    36697 non-null float64\n",
      "3M_plannum_count        36697 non-null float64\n",
      "3M_loan_amount_max      36697 non-null float64\n",
      "3M_plannum_max          36697 non-null float64\n",
      "3M_loan_amount_min      36697 non-null float64\n",
      "3M_plannum_min          36697 non-null float64\n",
      "3M_loan_amount_mean     36697 non-null float64\n",
      "3M_plannum_mean         36697 non-null float64\n",
      "loan_period_1           36697 non-null float64\n",
      "loan_period_2           36697 non-null float64\n",
      "dtypes: datetime64[ns](1), float64(34), uint32(1), uint8(2)\n",
      "memory usage: 25.5+ MB\n"
     ]
    }
   ],
   "source": [
    "train_data=pd.merge(train_data, loan_info_summary.loc[:,['uid', '8M_loan_amount_sum', '8M_plannum_sum', '8M_loan_amount_count', '8M_plannum_count', '8M_loan_amount_max', '8M_plannum_max', '8M_loan_amount_min', '8M_plannum_min', '8M_loan_amount_mean', '8M_plannum_mean', '9M_loan_amount_sum', '9M_plannum_sum', '9M_loan_amount_count', '9M_plannum_count', '9M_loan_amount_max', '9M_plannum_max', '9M_loan_amount_min', '9M_plannum_min', '9M_loan_amount_mean', '9M_plannum_mean', '10M_loan_amount_sum', '10M_plannum_sum', '10M_loan_amount_count', '10M_plannum_count', '10M_loan_amount_max', '10M_plannum_max', '10M_loan_amount_min', '10M_plannum_min', '10M_loan_amount_mean', '10M_plannum_mean', '9M_8M_loan_amount', '10M_9M_loan_amount']],how='left', on = \"uid\")\n",
    "train_data.rename(index=str, columns={'8M_loan_amount_sum':'1M_loan_amount_sum', '8M_plannum_sum':'1M_plannum_sum', '8M_loan_amount_count':'1M_loan_amount_count', '8M_plannum_count':'1M_plannum_count', '8M_loan_amount_max':'1M_loan_amount_max', '8M_plannum_max':'1M_plannum_max', '8M_loan_amount_min':'1M_loan_amount_min', '8M_plannum_min':'1M_plannum_min', '8M_loan_amount_mean':'1M_loan_amount_mean', '8M_plannum_mean':'1M_plannum_mean', \n",
    "                                      '9M_loan_amount_sum':'2M_loan_amount_sum', '9M_plannum_sum':'2M_plannum_sum', '9M_loan_amount_count':'2M_loan_amount_count', '9M_plannum_count':'2M_plannum_count', '9M_loan_amount_max':'2M_loan_amount_max', '9M_plannum_max':'2M_plannum_max', '9M_loan_amount_min':'2M_loan_amount_min', '9M_plannum_min':'2M_plannum_min', '9M_loan_amount_mean':'2M_loan_amount_mean', '9M_plannum_mean':'2M_plannum_mean', \n",
    "                                      '10M_loan_amount_sum':'3M_loan_amount_sum', '10M_plannum_sum':'3M_plannum_sum', '10M_loan_amount_count':'3M_loan_amount_count', '10M_plannum_count':'3M_plannum_count', '10M_loan_amount_max':'3M_loan_amount_max', '10M_plannum_max':'3M_plannum_max', '10M_loan_amount_min':'3M_loan_amount_min', '10M_plannum_min':'3M_plannum_min', '10M_loan_amount_mean':'3M_loan_amount_mean', '10M_plannum_mean':'3M_plannum_mean',\n",
    "                                      '9M_8M_loan_amount': 'loan_period_1', '10M_9M_loan_amount': 'loan_period_2'},inplace=True)\n",
    "train_data.info()"
   ]
  },
  {
   "cell_type": "code",
   "execution_count": 7,
   "metadata": {},
   "outputs": [
    {
     "name": "stdout",
     "output_type": "stream",
     "text": [
      "<class 'pandas.core.frame.DataFrame'>\n",
      "Index: 90993 entries, 0 to 90992\n",
      "Data columns (total 37 columns):\n",
      "uid                     90993 non-null uint32\n",
      "age                     90993 non-null uint8\n",
      "sex                     90993 non-null uint8\n",
      "active_date             90993 non-null datetime64[ns]\n",
      "limit                   90993 non-null float64\n",
      "1M_loan_amount_sum      36697 non-null float64\n",
      "1M_plannum_sum          36697 non-null float64\n",
      "1M_loan_amount_count    36697 non-null float64\n",
      "1M_plannum_count        36697 non-null float64\n",
      "1M_loan_amount_max      36697 non-null float64\n",
      "1M_plannum_max          36697 non-null float64\n",
      "1M_loan_amount_min      36697 non-null float64\n",
      "1M_plannum_min          36697 non-null float64\n",
      "1M_loan_amount_mean     36697 non-null float64\n",
      "1M_plannum_mean         36697 non-null float64\n",
      "2M_loan_amount_sum      36697 non-null float64\n",
      "2M_plannum_sum          36697 non-null float64\n",
      "2M_loan_amount_count    36697 non-null float64\n",
      "2M_plannum_count        36697 non-null float64\n",
      "2M_loan_amount_max      36697 non-null float64\n",
      "2M_plannum_max          36697 non-null float64\n",
      "2M_loan_amount_min      36697 non-null float64\n",
      "2M_plannum_min          36697 non-null float64\n",
      "2M_loan_amount_mean     36697 non-null float64\n",
      "2M_plannum_mean         36697 non-null float64\n",
      "3M_loan_amount_sum      36697 non-null float64\n",
      "3M_plannum_sum          36697 non-null float64\n",
      "3M_loan_amount_count    36697 non-null float64\n",
      "3M_plannum_count        36697 non-null float64\n",
      "3M_loan_amount_max      36697 non-null float64\n",
      "3M_plannum_max          36697 non-null float64\n",
      "3M_loan_amount_min      36697 non-null float64\n",
      "3M_plannum_min          36697 non-null float64\n",
      "3M_loan_amount_mean     36697 non-null float64\n",
      "3M_plannum_mean         36697 non-null float64\n",
      "loan_period_1           36697 non-null float64\n",
      "loan_period_2           36697 non-null float64\n",
      "dtypes: datetime64[ns](1), float64(33), uint32(1), uint8(2)\n",
      "memory usage: 24.8+ MB\n"
     ]
    }
   ],
   "source": [
    "test_data=pd.merge(test_data, loan_info_summary.loc[:,['uid', '9M_loan_amount_sum', '9M_plannum_sum', '9M_loan_amount_count', '9M_plannum_count', '9M_loan_amount_max', '9M_plannum_max', '9M_loan_amount_min', '9M_plannum_min', '9M_loan_amount_mean', '9M_plannum_mean', '10M_loan_amount_sum', '10M_plannum_sum', '10M_loan_amount_count', '10M_plannum_count', '10M_loan_amount_max', '10M_plannum_max', '10M_loan_amount_min', '10M_plannum_min', '10M_loan_amount_mean', '10M_plannum_mean', '11M_loan_amount_sum', '11M_plannum_sum', '11M_loan_amount_count', '11M_plannum_count', '11M_loan_amount_max', '11M_plannum_max', '11M_loan_amount_min', '11M_plannum_min', '11M_loan_amount_mean', '11M_plannum_mean', '10M_9M_loan_amount', '11M_10M_loan_amount']],how='left', on = \"uid\")\n",
    "test_data.rename(index=str, columns={'9M_loan_amount_sum':'1M_loan_amount_sum', '9M_plannum_sum':'1M_plannum_sum', '9M_loan_amount_count':'1M_loan_amount_count', '9M_plannum_count':'1M_plannum_count', '9M_loan_amount_max':'1M_loan_amount_max', '9M_plannum_max':'1M_plannum_max', '9M_loan_amount_min':'1M_loan_amount_min', '9M_plannum_min':'1M_plannum_min', '9M_loan_amount_mean':'1M_loan_amount_mean', '9M_plannum_mean':'1M_plannum_mean', \n",
    "                                     '10M_loan_amount_sum':'2M_loan_amount_sum', '10M_plannum_sum':'2M_plannum_sum', '10M_loan_amount_count':'2M_loan_amount_count', '10M_plannum_count':'2M_plannum_count', '10M_loan_amount_max':'2M_loan_amount_max', '10M_plannum_max':'2M_plannum_max', '10M_loan_amount_min':'2M_loan_amount_min', '10M_plannum_min':'2M_plannum_min', '10M_loan_amount_mean':'2M_loan_amount_mean', '10M_plannum_mean':'2M_plannum_mean', \n",
    "                                     '11M_loan_amount_sum':'3M_loan_amount_sum', '11M_plannum_sum':'3M_plannum_sum', '11M_loan_amount_count':'3M_loan_amount_count', '11M_plannum_count':'3M_plannum_count', '11M_loan_amount_max':'3M_loan_amount_max', '11M_plannum_max':'3M_plannum_max', '11M_loan_amount_min':'3M_loan_amount_min', '11M_plannum_min':'3M_plannum_min', '11M_loan_amount_mean':'3M_loan_amount_mean', '11M_plannum_mean':'3M_plannum_mean',\n",
    "                                      '10M_9M_loan_amount': 'loan_period_1', '11M_10M_loan_amount': 'loan_period_2'},inplace=True)\n",
    "test_data.info()"
   ]
  },
  {
   "cell_type": "code",
   "execution_count": 8,
   "metadata": {},
   "outputs": [
    {
     "name": "stdout",
     "output_type": "stream",
     "text": [
      "<class 'pandas.core.frame.DataFrame'>\n",
      "RangeIndex: 78439 entries, 0 to 78438\n",
      "Columns: 693 entries, uid to 11M_pid_param_94\n",
      "dtypes: float64(692), int64(1)\n",
      "memory usage: 414.7 MB\n"
     ]
    }
   ],
   "source": [
    "click_info_summary = pd.read_csv(t_click_info_summary,low_memory=False)\n",
    "click_info_summary.info()"
   ]
  },
  {
   "cell_type": "code",
   "execution_count": 9,
   "metadata": {},
   "outputs": [
    {
     "name": "stdout",
     "output_type": "stream",
     "text": [
      "<class 'pandas.core.frame.DataFrame'>\n",
      "Index: 90993 entries, 0 to 90992\n",
      "Columns: 557 entries, uid to 3M_pid_param_94\n",
      "dtypes: datetime64[ns](1), float64(553), uint32(1), uint8(2)\n",
      "memory usage: 385.8+ MB\n"
     ]
    }
   ],
   "source": [
    "train_data=pd.merge(train_data, click_info_summary.loc[:,['uid', '8M_pid_param_101', '8M_pid_param_1010', '8M_pid_param_1011', '8M_pid_param_1012', '8M_pid_param_1013', '8M_pid_param_1014', '8M_pid_param_1015', '8M_pid_param_1016', '8M_pid_param_1017', '8M_pid_param_1018', '8M_pid_param_1019', '8M_pid_param_102', '8M_pid_param_1020', '8M_pid_param_1021', '8M_pid_param_1022', '8M_pid_param_1023', '8M_pid_param_1024', '8M_pid_param_1025', '8M_pid_param_1026', '8M_pid_param_1027', '8M_pid_param_1028', '8M_pid_param_1029', '8M_pid_param_103', '8M_pid_param_1030', '8M_pid_param_1031', '8M_pid_param_1032', '8M_pid_param_1033', '8M_pid_param_1034', '8M_pid_param_1035', '8M_pid_param_1036', '8M_pid_param_1037', '8M_pid_param_1038', '8M_pid_param_104', '8M_pid_param_105', '8M_pid_param_106', '8M_pid_param_107', '8M_pid_param_108', '8M_pid_param_109', '8M_pid_param_11', '8M_pid_param_110', '8M_pid_param_111', '8M_pid_param_112', '8M_pid_param_113', '8M_pid_param_114', '8M_pid_param_115', '8M_pid_param_116', '8M_pid_param_117', '8M_pid_param_118', '8M_pid_param_119', '8M_pid_param_12', '8M_pid_param_120', '8M_pid_param_121', '8M_pid_param_122', '8M_pid_param_123', '8M_pid_param_124', '8M_pid_param_125', '8M_pid_param_126', '8M_pid_param_127', '8M_pid_param_128', '8M_pid_param_129', '8M_pid_param_13', '8M_pid_param_130', '8M_pid_param_131', '8M_pid_param_132', '8M_pid_param_133', '8M_pid_param_134', '8M_pid_param_135', '8M_pid_param_136', '8M_pid_param_137', '8M_pid_param_138', '8M_pid_param_139', '8M_pid_param_14', '8M_pid_param_140', '8M_pid_param_141', '8M_pid_param_142', '8M_pid_param_143', '8M_pid_param_144', '8M_pid_param_145', '8M_pid_param_146', '8M_pid_param_147', '8M_pid_param_148', '8M_pid_param_15', '8M_pid_param_16', '8M_pid_param_17', '8M_pid_param_18', '8M_pid_param_19', '8M_pid_param_21', '8M_pid_param_22', '8M_pid_param_23', '8M_pid_param_24', '8M_pid_param_25', '8M_pid_param_26', '8M_pid_param_27', '8M_pid_param_28', '8M_pid_param_29', '8M_pid_param_31', '8M_pid_param_310', '8M_pid_param_311', '8M_pid_param_312', '8M_pid_param_313', '8M_pid_param_314', '8M_pid_param_315', '8M_pid_param_316', '8M_pid_param_317', '8M_pid_param_32', '8M_pid_param_33', '8M_pid_param_34', '8M_pid_param_35', '8M_pid_param_36', '8M_pid_param_37', '8M_pid_param_38', '8M_pid_param_39', '8M_pid_param_41', '8M_pid_param_42', '8M_pid_param_43', '8M_pid_param_51', '8M_pid_param_510', '8M_pid_param_511', '8M_pid_param_512', '8M_pid_param_513', '8M_pid_param_52', '8M_pid_param_53', '8M_pid_param_54', '8M_pid_param_55', '8M_pid_param_56', '8M_pid_param_57', '8M_pid_param_58', '8M_pid_param_59', '8M_pid_param_61', '8M_pid_param_610', '8M_pid_param_611', '8M_pid_param_62', '8M_pid_param_63', '8M_pid_param_64', '8M_pid_param_65', '8M_pid_param_66', '8M_pid_param_67', '8M_pid_param_68', '8M_pid_param_69', '8M_pid_param_71', '8M_pid_param_710', '8M_pid_param_711', '8M_pid_param_712', '8M_pid_param_713', '8M_pid_param_714', '8M_pid_param_715', '8M_pid_param_716', '8M_pid_param_717', '8M_pid_param_718', '8M_pid_param_719', '8M_pid_param_72', '8M_pid_param_720', '8M_pid_param_721', '8M_pid_param_722', '8M_pid_param_73', '8M_pid_param_74', '8M_pid_param_75', '8M_pid_param_76', '8M_pid_param_77', '8M_pid_param_78', '8M_pid_param_79', '8M_pid_param_81', '8M_pid_param_82', '8M_pid_param_83', '8M_pid_param_84', '8M_pid_param_85', '8M_pid_param_86', '8M_pid_param_87', '8M_pid_param_88', '8M_pid_param_91', '8M_pid_param_92', '8M_pid_param_93', '8M_pid_param_94', \n",
    "                                                                 '9M_pid_param_101', '9M_pid_param_1010', '9M_pid_param_1011', '9M_pid_param_1012', '9M_pid_param_1013', '9M_pid_param_1014', '9M_pid_param_1015', '9M_pid_param_1016', '9M_pid_param_1017', '9M_pid_param_1018', '9M_pid_param_1019', '9M_pid_param_102', '9M_pid_param_1020', '9M_pid_param_1021', '9M_pid_param_1022', '9M_pid_param_1023', '9M_pid_param_1024', '9M_pid_param_1025', '9M_pid_param_1026', '9M_pid_param_1027', '9M_pid_param_1028', '9M_pid_param_1029', '9M_pid_param_103', '9M_pid_param_1030', '9M_pid_param_1031', '9M_pid_param_1032', '9M_pid_param_1033', '9M_pid_param_1034', '9M_pid_param_1035', '9M_pid_param_1036', '9M_pid_param_1037', '9M_pid_param_1038', '9M_pid_param_104', '9M_pid_param_105', '9M_pid_param_106', '9M_pid_param_107', '9M_pid_param_108', '9M_pid_param_109', '9M_pid_param_11', '9M_pid_param_110', '9M_pid_param_111', '9M_pid_param_112', '9M_pid_param_113', '9M_pid_param_114', '9M_pid_param_115', '9M_pid_param_116', '9M_pid_param_117', '9M_pid_param_118', '9M_pid_param_119', '9M_pid_param_12', '9M_pid_param_120', '9M_pid_param_121', '9M_pid_param_122', '9M_pid_param_123', '9M_pid_param_124', '9M_pid_param_125', '9M_pid_param_126', '9M_pid_param_127', '9M_pid_param_128', '9M_pid_param_129', '9M_pid_param_13', '9M_pid_param_130', '9M_pid_param_131', '9M_pid_param_132', '9M_pid_param_133', '9M_pid_param_134', '9M_pid_param_135', '9M_pid_param_136', '9M_pid_param_137', '9M_pid_param_138', '9M_pid_param_139', '9M_pid_param_14', '9M_pid_param_140', '9M_pid_param_141', '9M_pid_param_142', '9M_pid_param_143', '9M_pid_param_144', '9M_pid_param_145', '9M_pid_param_146', '9M_pid_param_147', '9M_pid_param_148', '9M_pid_param_15', '9M_pid_param_16', '9M_pid_param_17', '9M_pid_param_18', '9M_pid_param_19', '9M_pid_param_21', '9M_pid_param_22', '9M_pid_param_23', '9M_pid_param_24', '9M_pid_param_25', '9M_pid_param_26', '9M_pid_param_27', '9M_pid_param_28', '9M_pid_param_29', '9M_pid_param_31', '9M_pid_param_310', '9M_pid_param_311', '9M_pid_param_312', '9M_pid_param_313', '9M_pid_param_314', '9M_pid_param_315', '9M_pid_param_316', '9M_pid_param_317', '9M_pid_param_32', '9M_pid_param_33', '9M_pid_param_34', '9M_pid_param_35', '9M_pid_param_36', '9M_pid_param_37', '9M_pid_param_38', '9M_pid_param_39', '9M_pid_param_41', '9M_pid_param_42', '9M_pid_param_43', '9M_pid_param_51', '9M_pid_param_510', '9M_pid_param_511', '9M_pid_param_512', '9M_pid_param_513', '9M_pid_param_52', '9M_pid_param_53', '9M_pid_param_54', '9M_pid_param_55', '9M_pid_param_56', '9M_pid_param_57', '9M_pid_param_58', '9M_pid_param_59', '9M_pid_param_61', '9M_pid_param_610', '9M_pid_param_611', '9M_pid_param_62', '9M_pid_param_63', '9M_pid_param_64', '9M_pid_param_65', '9M_pid_param_66', '9M_pid_param_67', '9M_pid_param_68', '9M_pid_param_69', '9M_pid_param_71', '9M_pid_param_710', '9M_pid_param_711', '9M_pid_param_712', '9M_pid_param_713', '9M_pid_param_714', '9M_pid_param_715', '9M_pid_param_716', '9M_pid_param_717', '9M_pid_param_718', '9M_pid_param_719', '9M_pid_param_72', '9M_pid_param_720', '9M_pid_param_721', '9M_pid_param_722', '9M_pid_param_73', '9M_pid_param_74', '9M_pid_param_75', '9M_pid_param_76', '9M_pid_param_77', '9M_pid_param_78', '9M_pid_param_79', '9M_pid_param_81', '9M_pid_param_82', '9M_pid_param_83', '9M_pid_param_84', '9M_pid_param_85', '9M_pid_param_86', '9M_pid_param_87', '9M_pid_param_88', '9M_pid_param_91', '9M_pid_param_92', '9M_pid_param_93', '9M_pid_param_94', \n",
    "                                                                 '10M_pid_param_101', '10M_pid_param_1010', '10M_pid_param_1011', '10M_pid_param_1012', '10M_pid_param_1013', '10M_pid_param_1014', '10M_pid_param_1015', '10M_pid_param_1016', '10M_pid_param_1017', '10M_pid_param_1018', '10M_pid_param_1019', '10M_pid_param_102', '10M_pid_param_1020', '10M_pid_param_1021', '10M_pid_param_1022', '10M_pid_param_1023', '10M_pid_param_1024', '10M_pid_param_1025', '10M_pid_param_1026', '10M_pid_param_1027', '10M_pid_param_1028', '10M_pid_param_1029', '10M_pid_param_103', '10M_pid_param_1030', '10M_pid_param_1031', '10M_pid_param_1032', '10M_pid_param_1033', '10M_pid_param_1034', '10M_pid_param_1035', '10M_pid_param_1036', '10M_pid_param_1037', '10M_pid_param_1038', '10M_pid_param_104', '10M_pid_param_105', '10M_pid_param_106', '10M_pid_param_107', '10M_pid_param_108', '10M_pid_param_109', '10M_pid_param_11', '10M_pid_param_110', '10M_pid_param_111', '10M_pid_param_112', '10M_pid_param_113', '10M_pid_param_114', '10M_pid_param_115', '10M_pid_param_116', '10M_pid_param_117', '10M_pid_param_118', '10M_pid_param_119', '10M_pid_param_12', '10M_pid_param_120', '10M_pid_param_121', '10M_pid_param_122', '10M_pid_param_123', '10M_pid_param_124', '10M_pid_param_125', '10M_pid_param_126', '10M_pid_param_127', '10M_pid_param_128', '10M_pid_param_129', '10M_pid_param_13', '10M_pid_param_130', '10M_pid_param_131', '10M_pid_param_132', '10M_pid_param_133', '10M_pid_param_134', '10M_pid_param_135', '10M_pid_param_136', '10M_pid_param_137', '10M_pid_param_138', '10M_pid_param_139', '10M_pid_param_14', '10M_pid_param_140', '10M_pid_param_141', '10M_pid_param_142', '10M_pid_param_143', '10M_pid_param_144', '10M_pid_param_145', '10M_pid_param_146', '10M_pid_param_147', '10M_pid_param_148', '10M_pid_param_15', '10M_pid_param_16', '10M_pid_param_17', '10M_pid_param_18', '10M_pid_param_19', '10M_pid_param_21', '10M_pid_param_22', '10M_pid_param_23', '10M_pid_param_24', '10M_pid_param_25', '10M_pid_param_26', '10M_pid_param_27', '10M_pid_param_28', '10M_pid_param_29', '10M_pid_param_31', '10M_pid_param_310', '10M_pid_param_311', '10M_pid_param_312', '10M_pid_param_313', '10M_pid_param_314', '10M_pid_param_315', '10M_pid_param_316', '10M_pid_param_317', '10M_pid_param_32', '10M_pid_param_33', '10M_pid_param_34', '10M_pid_param_35', '10M_pid_param_36', '10M_pid_param_37', '10M_pid_param_38', '10M_pid_param_39', '10M_pid_param_41', '10M_pid_param_42', '10M_pid_param_43', '10M_pid_param_51', '10M_pid_param_510', '10M_pid_param_511', '10M_pid_param_512', '10M_pid_param_513', '10M_pid_param_52', '10M_pid_param_53', '10M_pid_param_54', '10M_pid_param_55', '10M_pid_param_56', '10M_pid_param_57', '10M_pid_param_58', '10M_pid_param_59', '10M_pid_param_61', '10M_pid_param_610', '10M_pid_param_611', '10M_pid_param_62', '10M_pid_param_63', '10M_pid_param_64', '10M_pid_param_65', '10M_pid_param_66', '10M_pid_param_67', '10M_pid_param_68', '10M_pid_param_69', '10M_pid_param_71', '10M_pid_param_710', '10M_pid_param_711', '10M_pid_param_712', '10M_pid_param_713', '10M_pid_param_714', '10M_pid_param_715', '10M_pid_param_716', '10M_pid_param_717', '10M_pid_param_718', '10M_pid_param_719', '10M_pid_param_72', '10M_pid_param_720', '10M_pid_param_721', '10M_pid_param_722', '10M_pid_param_73', '10M_pid_param_74', '10M_pid_param_75', '10M_pid_param_76', '10M_pid_param_77', '10M_pid_param_78', '10M_pid_param_79', '10M_pid_param_81', '10M_pid_param_82', '10M_pid_param_83', '10M_pid_param_84', '10M_pid_param_85', '10M_pid_param_86', '10M_pid_param_87', '10M_pid_param_88', '10M_pid_param_91', '10M_pid_param_92', '10M_pid_param_93', '10M_pid_param_94']],how='left', on = \"uid\")\n",
    "train_data.rename(index=str, columns={'8M_pid_param_101':'1M_pid_param_101', '8M_pid_param_1010':'1M_pid_param_1010', '8M_pid_param_1011':'1M_pid_param_1011', '8M_pid_param_1012':'1M_pid_param_1012', '8M_pid_param_1013':'1M_pid_param_1013', '8M_pid_param_1014':'1M_pid_param_1014', '8M_pid_param_1015':'1M_pid_param_1015', '8M_pid_param_1016':'1M_pid_param_1016', '8M_pid_param_1017':'1M_pid_param_1017', '8M_pid_param_1018':'1M_pid_param_1018', '8M_pid_param_1019':'1M_pid_param_1019', '8M_pid_param_102':'1M_pid_param_102', '8M_pid_param_1020':'1M_pid_param_1020', '8M_pid_param_1021':'1M_pid_param_1021', '8M_pid_param_1022':'1M_pid_param_1022', '8M_pid_param_1023':'1M_pid_param_1023', '8M_pid_param_1024':'1M_pid_param_1024', '8M_pid_param_1025':'1M_pid_param_1025', '8M_pid_param_1026':'1M_pid_param_1026', '8M_pid_param_1027':'1M_pid_param_1027', '8M_pid_param_1028':'1M_pid_param_1028', '8M_pid_param_1029':'1M_pid_param_1029', '8M_pid_param_103':'1M_pid_param_103', '8M_pid_param_1030':'1M_pid_param_1030', '8M_pid_param_1031':'1M_pid_param_1031', '8M_pid_param_1032':'1M_pid_param_1032', '8M_pid_param_1033':'1M_pid_param_1033', '8M_pid_param_1034':'1M_pid_param_1034', '8M_pid_param_1035':'1M_pid_param_1035', '8M_pid_param_1036':'1M_pid_param_1036', '8M_pid_param_1037':'1M_pid_param_1037', '8M_pid_param_1038':'1M_pid_param_1038', '8M_pid_param_104':'1M_pid_param_104', '8M_pid_param_105':'1M_pid_param_105', '8M_pid_param_106':'1M_pid_param_106', '8M_pid_param_107':'1M_pid_param_107', '8M_pid_param_108':'1M_pid_param_108', '8M_pid_param_109':'1M_pid_param_109', '8M_pid_param_11':'1M_pid_param_11', '8M_pid_param_110':'1M_pid_param_110', '8M_pid_param_111':'1M_pid_param_111', '8M_pid_param_112':'1M_pid_param_112', '8M_pid_param_113':'1M_pid_param_113', '8M_pid_param_114':'1M_pid_param_114', '8M_pid_param_115':'1M_pid_param_115', '8M_pid_param_116':'1M_pid_param_116', '8M_pid_param_117':'1M_pid_param_117', '8M_pid_param_118':'1M_pid_param_118', '8M_pid_param_119':'1M_pid_param_119', '8M_pid_param_12':'1M_pid_param_12', '8M_pid_param_120':'1M_pid_param_120', '8M_pid_param_121':'1M_pid_param_121', '8M_pid_param_122':'1M_pid_param_122', '8M_pid_param_123':'1M_pid_param_123', '8M_pid_param_124':'1M_pid_param_124', '8M_pid_param_125':'1M_pid_param_125', '8M_pid_param_126':'1M_pid_param_126', '8M_pid_param_127':'1M_pid_param_127', '8M_pid_param_128':'1M_pid_param_128', '8M_pid_param_129':'1M_pid_param_129', '8M_pid_param_13':'1M_pid_param_13', '8M_pid_param_130':'1M_pid_param_130', '8M_pid_param_131':'1M_pid_param_131', '8M_pid_param_132':'1M_pid_param_132', '8M_pid_param_133':'1M_pid_param_133', '8M_pid_param_134':'1M_pid_param_134', '8M_pid_param_135':'1M_pid_param_135', '8M_pid_param_136':'1M_pid_param_136', '8M_pid_param_137':'1M_pid_param_137', '8M_pid_param_138':'1M_pid_param_138', '8M_pid_param_139':'1M_pid_param_139', '8M_pid_param_14':'1M_pid_param_14', '8M_pid_param_140':'1M_pid_param_140', '8M_pid_param_141':'1M_pid_param_141', '8M_pid_param_142':'1M_pid_param_142', '8M_pid_param_143':'1M_pid_param_143', '8M_pid_param_144':'1M_pid_param_144', '8M_pid_param_145':'1M_pid_param_145', '8M_pid_param_146':'1M_pid_param_146', '8M_pid_param_147':'1M_pid_param_147', '8M_pid_param_148':'1M_pid_param_148', '8M_pid_param_15':'1M_pid_param_15', '8M_pid_param_16':'1M_pid_param_16', '8M_pid_param_17':'1M_pid_param_17', '8M_pid_param_18':'1M_pid_param_18', '8M_pid_param_19':'1M_pid_param_19', '8M_pid_param_21':'1M_pid_param_21', '8M_pid_param_22':'1M_pid_param_22', '8M_pid_param_23':'1M_pid_param_23', '8M_pid_param_24':'1M_pid_param_24', '8M_pid_param_25':'1M_pid_param_25', '8M_pid_param_26':'1M_pid_param_26', '8M_pid_param_27':'1M_pid_param_27', '8M_pid_param_28':'1M_pid_param_28', '8M_pid_param_29':'1M_pid_param_29', '8M_pid_param_31':'1M_pid_param_31', '8M_pid_param_310':'1M_pid_param_310', '8M_pid_param_311':'1M_pid_param_311', '8M_pid_param_312':'1M_pid_param_312', '8M_pid_param_313':'1M_pid_param_313', '8M_pid_param_314':'1M_pid_param_314', '8M_pid_param_315':'1M_pid_param_315', '8M_pid_param_316':'1M_pid_param_316', '8M_pid_param_317':'1M_pid_param_317', '8M_pid_param_32':'1M_pid_param_32', '8M_pid_param_33':'1M_pid_param_33', '8M_pid_param_34':'1M_pid_param_34', '8M_pid_param_35':'1M_pid_param_35', '8M_pid_param_36':'1M_pid_param_36', '8M_pid_param_37':'1M_pid_param_37', '8M_pid_param_38':'1M_pid_param_38', '8M_pid_param_39':'1M_pid_param_39', '8M_pid_param_41':'1M_pid_param_41', '8M_pid_param_42':'1M_pid_param_42', '8M_pid_param_43':'1M_pid_param_43', '8M_pid_param_51':'1M_pid_param_51', '8M_pid_param_510':'1M_pid_param_510', '8M_pid_param_511':'1M_pid_param_511', '8M_pid_param_512':'1M_pid_param_512', '8M_pid_param_513':'1M_pid_param_513', '8M_pid_param_52':'1M_pid_param_52', '8M_pid_param_53':'1M_pid_param_53', '8M_pid_param_54':'1M_pid_param_54', '8M_pid_param_55':'1M_pid_param_55', '8M_pid_param_56':'1M_pid_param_56', '8M_pid_param_57':'1M_pid_param_57', '8M_pid_param_58':'1M_pid_param_58', '8M_pid_param_59':'1M_pid_param_59', '8M_pid_param_61':'1M_pid_param_61', '8M_pid_param_610':'1M_pid_param_610', '8M_pid_param_611':'1M_pid_param_611', '8M_pid_param_62':'1M_pid_param_62', '8M_pid_param_63':'1M_pid_param_63', '8M_pid_param_64':'1M_pid_param_64', '8M_pid_param_65':'1M_pid_param_65', '8M_pid_param_66':'1M_pid_param_66', '8M_pid_param_67':'1M_pid_param_67', '8M_pid_param_68':'1M_pid_param_68', '8M_pid_param_69':'1M_pid_param_69', '8M_pid_param_71':'1M_pid_param_71', '8M_pid_param_710':'1M_pid_param_710', '8M_pid_param_711':'1M_pid_param_711', '8M_pid_param_712':'1M_pid_param_712', '8M_pid_param_713':'1M_pid_param_713', '8M_pid_param_714':'1M_pid_param_714', '8M_pid_param_715':'1M_pid_param_715', '8M_pid_param_716':'1M_pid_param_716', '8M_pid_param_717':'1M_pid_param_717', '8M_pid_param_718':'1M_pid_param_718', '8M_pid_param_719':'1M_pid_param_719', '8M_pid_param_72':'1M_pid_param_72', '8M_pid_param_720':'1M_pid_param_720', '8M_pid_param_721':'1M_pid_param_721', '8M_pid_param_722':'1M_pid_param_722', '8M_pid_param_73':'1M_pid_param_73', '8M_pid_param_74':'1M_pid_param_74', '8M_pid_param_75':'1M_pid_param_75', '8M_pid_param_76':'1M_pid_param_76', '8M_pid_param_77':'1M_pid_param_77', '8M_pid_param_78':'1M_pid_param_78', '8M_pid_param_79':'1M_pid_param_79', '8M_pid_param_81':'1M_pid_param_81', '8M_pid_param_82':'1M_pid_param_82', '8M_pid_param_83':'1M_pid_param_83', '8M_pid_param_84':'1M_pid_param_84', '8M_pid_param_85':'1M_pid_param_85', '8M_pid_param_86':'1M_pid_param_86', '8M_pid_param_87':'1M_pid_param_87', '8M_pid_param_88':'1M_pid_param_88', '8M_pid_param_91':'1M_pid_param_91', '8M_pid_param_92':'1M_pid_param_92', '8M_pid_param_93':'1M_pid_param_93', '8M_pid_param_94':'1M_pid_param_94', \n",
    "                                      '9M_pid_param_101':'2M_pid_param_101', '9M_pid_param_1010':'2M_pid_param_1010', '9M_pid_param_1011':'2M_pid_param_1011', '9M_pid_param_1012':'2M_pid_param_1012', '9M_pid_param_1013':'2M_pid_param_1013', '9M_pid_param_1014':'2M_pid_param_1014', '9M_pid_param_1015':'2M_pid_param_1015', '9M_pid_param_1016':'2M_pid_param_1016', '9M_pid_param_1017':'2M_pid_param_1017', '9M_pid_param_1018':'2M_pid_param_1018', '9M_pid_param_1019':'2M_pid_param_1019', '9M_pid_param_102':'2M_pid_param_102', '9M_pid_param_1020':'2M_pid_param_1020', '9M_pid_param_1021':'2M_pid_param_1021', '9M_pid_param_1022':'2M_pid_param_1022', '9M_pid_param_1023':'2M_pid_param_1023', '9M_pid_param_1024':'2M_pid_param_1024', '9M_pid_param_1025':'2M_pid_param_1025', '9M_pid_param_1026':'2M_pid_param_1026', '9M_pid_param_1027':'2M_pid_param_1027', '9M_pid_param_1028':'2M_pid_param_1028', '9M_pid_param_1029':'2M_pid_param_1029', '9M_pid_param_103':'2M_pid_param_103', '9M_pid_param_1030':'2M_pid_param_1030', '9M_pid_param_1031':'2M_pid_param_1031', '9M_pid_param_1032':'2M_pid_param_1032', '9M_pid_param_1033':'2M_pid_param_1033', '9M_pid_param_1034':'2M_pid_param_1034', '9M_pid_param_1035':'2M_pid_param_1035', '9M_pid_param_1036':'2M_pid_param_1036', '9M_pid_param_1037':'2M_pid_param_1037', '9M_pid_param_1038':'2M_pid_param_1038', '9M_pid_param_104':'2M_pid_param_104', '9M_pid_param_105':'2M_pid_param_105', '9M_pid_param_106':'2M_pid_param_106', '9M_pid_param_107':'2M_pid_param_107', '9M_pid_param_108':'2M_pid_param_108', '9M_pid_param_109':'2M_pid_param_109', '9M_pid_param_11':'2M_pid_param_11', '9M_pid_param_110':'2M_pid_param_110', '9M_pid_param_111':'2M_pid_param_111', '9M_pid_param_112':'2M_pid_param_112', '9M_pid_param_113':'2M_pid_param_113', '9M_pid_param_114':'2M_pid_param_114', '9M_pid_param_115':'2M_pid_param_115', '9M_pid_param_116':'2M_pid_param_116', '9M_pid_param_117':'2M_pid_param_117', '9M_pid_param_118':'2M_pid_param_118', '9M_pid_param_119':'2M_pid_param_119', '9M_pid_param_12':'2M_pid_param_12', '9M_pid_param_120':'2M_pid_param_120', '9M_pid_param_121':'2M_pid_param_121', '9M_pid_param_122':'2M_pid_param_122', '9M_pid_param_123':'2M_pid_param_123', '9M_pid_param_124':'2M_pid_param_124', '9M_pid_param_125':'2M_pid_param_125', '9M_pid_param_126':'2M_pid_param_126', '9M_pid_param_127':'2M_pid_param_127', '9M_pid_param_128':'2M_pid_param_128', '9M_pid_param_129':'2M_pid_param_129', '9M_pid_param_13':'2M_pid_param_13', '9M_pid_param_130':'2M_pid_param_130', '9M_pid_param_131':'2M_pid_param_131', '9M_pid_param_132':'2M_pid_param_132', '9M_pid_param_133':'2M_pid_param_133', '9M_pid_param_134':'2M_pid_param_134', '9M_pid_param_135':'2M_pid_param_135', '9M_pid_param_136':'2M_pid_param_136', '9M_pid_param_137':'2M_pid_param_137', '9M_pid_param_138':'2M_pid_param_138', '9M_pid_param_139':'2M_pid_param_139', '9M_pid_param_14':'2M_pid_param_14', '9M_pid_param_140':'2M_pid_param_140', '9M_pid_param_141':'2M_pid_param_141', '9M_pid_param_142':'2M_pid_param_142', '9M_pid_param_143':'2M_pid_param_143', '9M_pid_param_144':'2M_pid_param_144', '9M_pid_param_145':'2M_pid_param_145', '9M_pid_param_146':'2M_pid_param_146', '9M_pid_param_147':'2M_pid_param_147', '9M_pid_param_148':'2M_pid_param_148', '9M_pid_param_15':'2M_pid_param_15', '9M_pid_param_16':'2M_pid_param_16', '9M_pid_param_17':'2M_pid_param_17', '9M_pid_param_18':'2M_pid_param_18', '9M_pid_param_19':'2M_pid_param_19', '9M_pid_param_21':'2M_pid_param_21', '9M_pid_param_22':'2M_pid_param_22', '9M_pid_param_23':'2M_pid_param_23', '9M_pid_param_24':'2M_pid_param_24', '9M_pid_param_25':'2M_pid_param_25', '9M_pid_param_26':'2M_pid_param_26', '9M_pid_param_27':'2M_pid_param_27', '9M_pid_param_28':'2M_pid_param_28', '9M_pid_param_29':'2M_pid_param_29', '9M_pid_param_31':'2M_pid_param_31', '9M_pid_param_310':'2M_pid_param_310', '9M_pid_param_311':'2M_pid_param_311', '9M_pid_param_312':'2M_pid_param_312', '9M_pid_param_313':'2M_pid_param_313', '9M_pid_param_314':'2M_pid_param_314', '9M_pid_param_315':'2M_pid_param_315', '9M_pid_param_316':'2M_pid_param_316', '9M_pid_param_317':'2M_pid_param_317', '9M_pid_param_32':'2M_pid_param_32', '9M_pid_param_33':'2M_pid_param_33', '9M_pid_param_34':'2M_pid_param_34', '9M_pid_param_35':'2M_pid_param_35', '9M_pid_param_36':'2M_pid_param_36', '9M_pid_param_37':'2M_pid_param_37', '9M_pid_param_38':'2M_pid_param_38', '9M_pid_param_39':'2M_pid_param_39', '9M_pid_param_41':'2M_pid_param_41', '9M_pid_param_42':'2M_pid_param_42', '9M_pid_param_43':'2M_pid_param_43', '9M_pid_param_51':'2M_pid_param_51', '9M_pid_param_510':'2M_pid_param_510', '9M_pid_param_511':'2M_pid_param_511', '9M_pid_param_512':'2M_pid_param_512', '9M_pid_param_513':'2M_pid_param_513', '9M_pid_param_52':'2M_pid_param_52', '9M_pid_param_53':'2M_pid_param_53', '9M_pid_param_54':'2M_pid_param_54', '9M_pid_param_55':'2M_pid_param_55', '9M_pid_param_56':'2M_pid_param_56', '9M_pid_param_57':'2M_pid_param_57', '9M_pid_param_58':'2M_pid_param_58', '9M_pid_param_59':'2M_pid_param_59', '9M_pid_param_61':'2M_pid_param_61', '9M_pid_param_610':'2M_pid_param_610', '9M_pid_param_611':'2M_pid_param_611', '9M_pid_param_62':'2M_pid_param_62', '9M_pid_param_63':'2M_pid_param_63', '9M_pid_param_64':'2M_pid_param_64', '9M_pid_param_65':'2M_pid_param_65', '9M_pid_param_66':'2M_pid_param_66', '9M_pid_param_67':'2M_pid_param_67', '9M_pid_param_68':'2M_pid_param_68', '9M_pid_param_69':'2M_pid_param_69', '9M_pid_param_71':'2M_pid_param_71', '9M_pid_param_710':'2M_pid_param_710', '9M_pid_param_711':'2M_pid_param_711', '9M_pid_param_712':'2M_pid_param_712', '9M_pid_param_713':'2M_pid_param_713', '9M_pid_param_714':'2M_pid_param_714', '9M_pid_param_715':'2M_pid_param_715', '9M_pid_param_716':'2M_pid_param_716', '9M_pid_param_717':'2M_pid_param_717', '9M_pid_param_718':'2M_pid_param_718', '9M_pid_param_719':'2M_pid_param_719', '9M_pid_param_72':'2M_pid_param_72', '9M_pid_param_720':'2M_pid_param_720', '9M_pid_param_721':'2M_pid_param_721', '9M_pid_param_722':'2M_pid_param_722', '9M_pid_param_73':'2M_pid_param_73', '9M_pid_param_74':'2M_pid_param_74', '9M_pid_param_75':'2M_pid_param_75', '9M_pid_param_76':'2M_pid_param_76', '9M_pid_param_77':'2M_pid_param_77', '9M_pid_param_78':'2M_pid_param_78', '9M_pid_param_79':'2M_pid_param_79', '9M_pid_param_81':'2M_pid_param_81', '9M_pid_param_82':'2M_pid_param_82', '9M_pid_param_83':'2M_pid_param_83', '9M_pid_param_84':'2M_pid_param_84', '9M_pid_param_85':'2M_pid_param_85', '9M_pid_param_86':'2M_pid_param_86', '9M_pid_param_87':'2M_pid_param_87', '9M_pid_param_88':'2M_pid_param_88', '9M_pid_param_91':'2M_pid_param_91', '9M_pid_param_92':'2M_pid_param_92', '9M_pid_param_93':'2M_pid_param_93', '9M_pid_param_94':'2M_pid_param_94', \n",
    "                                      '10M_pid_param_101':'3M_pid_param_101', '10M_pid_param_1010':'3M_pid_param_1010', '10M_pid_param_1011':'3M_pid_param_1011', '10M_pid_param_1012':'3M_pid_param_1012', '10M_pid_param_1013':'3M_pid_param_1013', '10M_pid_param_1014':'3M_pid_param_1014', '10M_pid_param_1015':'3M_pid_param_1015', '10M_pid_param_1016':'3M_pid_param_1016', '10M_pid_param_1017':'3M_pid_param_1017', '10M_pid_param_1018':'3M_pid_param_1018', '10M_pid_param_1019':'3M_pid_param_1019', '10M_pid_param_102':'3M_pid_param_102', '10M_pid_param_1020':'3M_pid_param_1020', '10M_pid_param_1021':'3M_pid_param_1021', '10M_pid_param_1022':'3M_pid_param_1022', '10M_pid_param_1023':'3M_pid_param_1023', '10M_pid_param_1024':'3M_pid_param_1024', '10M_pid_param_1025':'3M_pid_param_1025', '10M_pid_param_1026':'3M_pid_param_1026', '10M_pid_param_1027':'3M_pid_param_1027', '10M_pid_param_1028':'3M_pid_param_1028', '10M_pid_param_1029':'3M_pid_param_1029', '10M_pid_param_103':'3M_pid_param_103', '10M_pid_param_1030':'3M_pid_param_1030', '10M_pid_param_1031':'3M_pid_param_1031', '10M_pid_param_1032':'3M_pid_param_1032', '10M_pid_param_1033':'3M_pid_param_1033', '10M_pid_param_1034':'3M_pid_param_1034', '10M_pid_param_1035':'3M_pid_param_1035', '10M_pid_param_1036':'3M_pid_param_1036', '10M_pid_param_1037':'3M_pid_param_1037', '10M_pid_param_1038':'3M_pid_param_1038', '10M_pid_param_104':'3M_pid_param_104', '10M_pid_param_105':'3M_pid_param_105', '10M_pid_param_106':'3M_pid_param_106', '10M_pid_param_107':'3M_pid_param_107', '10M_pid_param_108':'3M_pid_param_108', '10M_pid_param_109':'3M_pid_param_109', '10M_pid_param_11':'3M_pid_param_11', '10M_pid_param_110':'3M_pid_param_110', '10M_pid_param_111':'3M_pid_param_111', '10M_pid_param_112':'3M_pid_param_112', '10M_pid_param_113':'3M_pid_param_113', '10M_pid_param_114':'3M_pid_param_114', '10M_pid_param_115':'3M_pid_param_115', '10M_pid_param_116':'3M_pid_param_116', '10M_pid_param_117':'3M_pid_param_117', '10M_pid_param_118':'3M_pid_param_118', '10M_pid_param_119':'3M_pid_param_119', '10M_pid_param_12':'3M_pid_param_12', '10M_pid_param_120':'3M_pid_param_120', '10M_pid_param_121':'3M_pid_param_121', '10M_pid_param_122':'3M_pid_param_122', '10M_pid_param_123':'3M_pid_param_123', '10M_pid_param_124':'3M_pid_param_124', '10M_pid_param_125':'3M_pid_param_125', '10M_pid_param_126':'3M_pid_param_126', '10M_pid_param_127':'3M_pid_param_127', '10M_pid_param_128':'3M_pid_param_128', '10M_pid_param_129':'3M_pid_param_129', '10M_pid_param_13':'3M_pid_param_13', '10M_pid_param_130':'3M_pid_param_130', '10M_pid_param_131':'3M_pid_param_131', '10M_pid_param_132':'3M_pid_param_132', '10M_pid_param_133':'3M_pid_param_133', '10M_pid_param_134':'3M_pid_param_134', '10M_pid_param_135':'3M_pid_param_135', '10M_pid_param_136':'3M_pid_param_136', '10M_pid_param_137':'3M_pid_param_137', '10M_pid_param_138':'3M_pid_param_138', '10M_pid_param_139':'3M_pid_param_139', '10M_pid_param_14':'3M_pid_param_14', '10M_pid_param_140':'3M_pid_param_140', '10M_pid_param_141':'3M_pid_param_141', '10M_pid_param_142':'3M_pid_param_142', '10M_pid_param_143':'3M_pid_param_143', '10M_pid_param_144':'3M_pid_param_144', '10M_pid_param_145':'3M_pid_param_145', '10M_pid_param_146':'3M_pid_param_146', '10M_pid_param_147':'3M_pid_param_147', '10M_pid_param_148':'3M_pid_param_148', '10M_pid_param_15':'3M_pid_param_15', '10M_pid_param_16':'3M_pid_param_16', '10M_pid_param_17':'3M_pid_param_17', '10M_pid_param_18':'3M_pid_param_18', '10M_pid_param_19':'3M_pid_param_19', '10M_pid_param_21':'3M_pid_param_21', '10M_pid_param_22':'3M_pid_param_22', '10M_pid_param_23':'3M_pid_param_23', '10M_pid_param_24':'3M_pid_param_24', '10M_pid_param_25':'3M_pid_param_25', '10M_pid_param_26':'3M_pid_param_26', '10M_pid_param_27':'3M_pid_param_27', '10M_pid_param_28':'3M_pid_param_28', '10M_pid_param_29':'3M_pid_param_29', '10M_pid_param_31':'3M_pid_param_31', '10M_pid_param_310':'3M_pid_param_310', '10M_pid_param_311':'3M_pid_param_311', '10M_pid_param_312':'3M_pid_param_312', '10M_pid_param_313':'3M_pid_param_313', '10M_pid_param_314':'3M_pid_param_314', '10M_pid_param_315':'3M_pid_param_315', '10M_pid_param_316':'3M_pid_param_316', '10M_pid_param_317':'3M_pid_param_317', '10M_pid_param_32':'3M_pid_param_32', '10M_pid_param_33':'3M_pid_param_33', '10M_pid_param_34':'3M_pid_param_34', '10M_pid_param_35':'3M_pid_param_35', '10M_pid_param_36':'3M_pid_param_36', '10M_pid_param_37':'3M_pid_param_37', '10M_pid_param_38':'3M_pid_param_38', '10M_pid_param_39':'3M_pid_param_39', '10M_pid_param_41':'3M_pid_param_41', '10M_pid_param_42':'3M_pid_param_42', '10M_pid_param_43':'3M_pid_param_43', '10M_pid_param_51':'3M_pid_param_51', '10M_pid_param_510':'3M_pid_param_510', '10M_pid_param_511':'3M_pid_param_511', '10M_pid_param_512':'3M_pid_param_512', '10M_pid_param_513':'3M_pid_param_513', '10M_pid_param_52':'3M_pid_param_52', '10M_pid_param_53':'3M_pid_param_53', '10M_pid_param_54':'3M_pid_param_54', '10M_pid_param_55':'3M_pid_param_55', '10M_pid_param_56':'3M_pid_param_56', '10M_pid_param_57':'3M_pid_param_57', '10M_pid_param_58':'3M_pid_param_58', '10M_pid_param_59':'3M_pid_param_59', '10M_pid_param_61':'3M_pid_param_61', '10M_pid_param_610':'3M_pid_param_610', '10M_pid_param_611':'3M_pid_param_611', '10M_pid_param_62':'3M_pid_param_62', '10M_pid_param_63':'3M_pid_param_63', '10M_pid_param_64':'3M_pid_param_64', '10M_pid_param_65':'3M_pid_param_65', '10M_pid_param_66':'3M_pid_param_66', '10M_pid_param_67':'3M_pid_param_67', '10M_pid_param_68':'3M_pid_param_68', '10M_pid_param_69':'3M_pid_param_69', '10M_pid_param_71':'3M_pid_param_71', '10M_pid_param_710':'3M_pid_param_710', '10M_pid_param_711':'3M_pid_param_711', '10M_pid_param_712':'3M_pid_param_712', '10M_pid_param_713':'3M_pid_param_713', '10M_pid_param_714':'3M_pid_param_714', '10M_pid_param_715':'3M_pid_param_715', '10M_pid_param_716':'3M_pid_param_716', '10M_pid_param_717':'3M_pid_param_717', '10M_pid_param_718':'3M_pid_param_718', '10M_pid_param_719':'3M_pid_param_719', '10M_pid_param_72':'3M_pid_param_72', '10M_pid_param_720':'3M_pid_param_720', '10M_pid_param_721':'3M_pid_param_721', '10M_pid_param_722':'3M_pid_param_722', '10M_pid_param_73':'3M_pid_param_73', '10M_pid_param_74':'3M_pid_param_74', '10M_pid_param_75':'3M_pid_param_75', '10M_pid_param_76':'3M_pid_param_76', '10M_pid_param_77':'3M_pid_param_77', '10M_pid_param_78':'3M_pid_param_78', '10M_pid_param_79':'3M_pid_param_79', '10M_pid_param_81':'3M_pid_param_81', '10M_pid_param_82':'3M_pid_param_82', '10M_pid_param_83':'3M_pid_param_83', '10M_pid_param_84':'3M_pid_param_84', '10M_pid_param_85':'3M_pid_param_85', '10M_pid_param_86':'3M_pid_param_86', '10M_pid_param_87':'3M_pid_param_87', '10M_pid_param_88':'3M_pid_param_88', '10M_pid_param_91':'3M_pid_param_91', '10M_pid_param_92':'3M_pid_param_92', '10M_pid_param_93':'3M_pid_param_93', '10M_pid_param_94':'3M_pid_param_94'},inplace=True)\n",
    "train_data.info()"
   ]
  },
  {
   "cell_type": "code",
   "execution_count": 10,
   "metadata": {},
   "outputs": [
    {
     "name": "stdout",
     "output_type": "stream",
     "text": [
      "<class 'pandas.core.frame.DataFrame'>\n",
      "Index: 90993 entries, 0 to 90992\n",
      "Columns: 556 entries, uid to 3M_pid_param_94\n",
      "dtypes: datetime64[ns](1), float64(552), uint32(1), uint8(2)\n",
      "memory usage: 385.1+ MB\n"
     ]
    }
   ],
   "source": [
    "test_data=pd.merge(test_data, click_info_summary.loc[:,['uid', '9M_pid_param_101', '9M_pid_param_1010', '9M_pid_param_1011', '9M_pid_param_1012', '9M_pid_param_1013', '9M_pid_param_1014', '9M_pid_param_1015', '9M_pid_param_1016', '9M_pid_param_1017', '9M_pid_param_1018', '9M_pid_param_1019', '9M_pid_param_102', '9M_pid_param_1020', '9M_pid_param_1021', '9M_pid_param_1022', '9M_pid_param_1023', '9M_pid_param_1024', '9M_pid_param_1025', '9M_pid_param_1026', '9M_pid_param_1027', '9M_pid_param_1028', '9M_pid_param_1029', '9M_pid_param_103', '9M_pid_param_1030', '9M_pid_param_1031', '9M_pid_param_1032', '9M_pid_param_1033', '9M_pid_param_1034', '9M_pid_param_1035', '9M_pid_param_1036', '9M_pid_param_1037', '9M_pid_param_1038', '9M_pid_param_104', '9M_pid_param_105', '9M_pid_param_106', '9M_pid_param_107', '9M_pid_param_108', '9M_pid_param_109', '9M_pid_param_11', '9M_pid_param_110', '9M_pid_param_111', '9M_pid_param_112', '9M_pid_param_113', '9M_pid_param_114', '9M_pid_param_115', '9M_pid_param_116', '9M_pid_param_117', '9M_pid_param_118', '9M_pid_param_119', '9M_pid_param_12', '9M_pid_param_120', '9M_pid_param_121', '9M_pid_param_122', '9M_pid_param_123', '9M_pid_param_124', '9M_pid_param_125', '9M_pid_param_126', '9M_pid_param_127', '9M_pid_param_128', '9M_pid_param_129', '9M_pid_param_13', '9M_pid_param_130', '9M_pid_param_131', '9M_pid_param_132', '9M_pid_param_133', '9M_pid_param_134', '9M_pid_param_135', '9M_pid_param_136', '9M_pid_param_137', '9M_pid_param_138', '9M_pid_param_139', '9M_pid_param_14', '9M_pid_param_140', '9M_pid_param_141', '9M_pid_param_142', '9M_pid_param_143', '9M_pid_param_144', '9M_pid_param_145', '9M_pid_param_146', '9M_pid_param_147', '9M_pid_param_148', '9M_pid_param_15', '9M_pid_param_16', '9M_pid_param_17', '9M_pid_param_18', '9M_pid_param_19', '9M_pid_param_21', '9M_pid_param_22', '9M_pid_param_23', '9M_pid_param_24', '9M_pid_param_25', '9M_pid_param_26', '9M_pid_param_27', '9M_pid_param_28', '9M_pid_param_29', '9M_pid_param_31', '9M_pid_param_310', '9M_pid_param_311', '9M_pid_param_312', '9M_pid_param_313', '9M_pid_param_314', '9M_pid_param_315', '9M_pid_param_316', '9M_pid_param_317', '9M_pid_param_32', '9M_pid_param_33', '9M_pid_param_34', '9M_pid_param_35', '9M_pid_param_36', '9M_pid_param_37', '9M_pid_param_38', '9M_pid_param_39', '9M_pid_param_41', '9M_pid_param_42', '9M_pid_param_43', '9M_pid_param_51', '9M_pid_param_510', '9M_pid_param_511', '9M_pid_param_512', '9M_pid_param_513', '9M_pid_param_52', '9M_pid_param_53', '9M_pid_param_54', '9M_pid_param_55', '9M_pid_param_56', '9M_pid_param_57', '9M_pid_param_58', '9M_pid_param_59', '9M_pid_param_61', '9M_pid_param_610', '9M_pid_param_611', '9M_pid_param_62', '9M_pid_param_63', '9M_pid_param_64', '9M_pid_param_65', '9M_pid_param_66', '9M_pid_param_67', '9M_pid_param_68', '9M_pid_param_69', '9M_pid_param_71', '9M_pid_param_710', '9M_pid_param_711', '9M_pid_param_712', '9M_pid_param_713', '9M_pid_param_714', '9M_pid_param_715', '9M_pid_param_716', '9M_pid_param_717', '9M_pid_param_718', '9M_pid_param_719', '9M_pid_param_72', '9M_pid_param_720', '9M_pid_param_721', '9M_pid_param_722', '9M_pid_param_73', '9M_pid_param_74', '9M_pid_param_75', '9M_pid_param_76', '9M_pid_param_77', '9M_pid_param_78', '9M_pid_param_79', '9M_pid_param_81', '9M_pid_param_82', '9M_pid_param_83', '9M_pid_param_84', '9M_pid_param_85', '9M_pid_param_86', '9M_pid_param_87', '9M_pid_param_88', '9M_pid_param_91', '9M_pid_param_92', '9M_pid_param_93', '9M_pid_param_94', \n",
    "                                                                '10M_pid_param_101', '10M_pid_param_1010', '10M_pid_param_1011', '10M_pid_param_1012', '10M_pid_param_1013', '10M_pid_param_1014', '10M_pid_param_1015', '10M_pid_param_1016', '10M_pid_param_1017', '10M_pid_param_1018', '10M_pid_param_1019', '10M_pid_param_102', '10M_pid_param_1020', '10M_pid_param_1021', '10M_pid_param_1022', '10M_pid_param_1023', '10M_pid_param_1024', '10M_pid_param_1025', '10M_pid_param_1026', '10M_pid_param_1027', '10M_pid_param_1028', '10M_pid_param_1029', '10M_pid_param_103', '10M_pid_param_1030', '10M_pid_param_1031', '10M_pid_param_1032', '10M_pid_param_1033', '10M_pid_param_1034', '10M_pid_param_1035', '10M_pid_param_1036', '10M_pid_param_1037', '10M_pid_param_1038', '10M_pid_param_104', '10M_pid_param_105', '10M_pid_param_106', '10M_pid_param_107', '10M_pid_param_108', '10M_pid_param_109', '10M_pid_param_11', '10M_pid_param_110', '10M_pid_param_111', '10M_pid_param_112', '10M_pid_param_113', '10M_pid_param_114', '10M_pid_param_115', '10M_pid_param_116', '10M_pid_param_117', '10M_pid_param_118', '10M_pid_param_119', '10M_pid_param_12', '10M_pid_param_120', '10M_pid_param_121', '10M_pid_param_122', '10M_pid_param_123', '10M_pid_param_124', '10M_pid_param_125', '10M_pid_param_126', '10M_pid_param_127', '10M_pid_param_128', '10M_pid_param_129', '10M_pid_param_13', '10M_pid_param_130', '10M_pid_param_131', '10M_pid_param_132', '10M_pid_param_133', '10M_pid_param_134', '10M_pid_param_135', '10M_pid_param_136', '10M_pid_param_137', '10M_pid_param_138', '10M_pid_param_139', '10M_pid_param_14', '10M_pid_param_140', '10M_pid_param_141', '10M_pid_param_142', '10M_pid_param_143', '10M_pid_param_144', '10M_pid_param_145', '10M_pid_param_146', '10M_pid_param_147', '10M_pid_param_148', '10M_pid_param_15', '10M_pid_param_16', '10M_pid_param_17', '10M_pid_param_18', '10M_pid_param_19', '10M_pid_param_21', '10M_pid_param_22', '10M_pid_param_23', '10M_pid_param_24', '10M_pid_param_25', '10M_pid_param_26', '10M_pid_param_27', '10M_pid_param_28', '10M_pid_param_29', '10M_pid_param_31', '10M_pid_param_310', '10M_pid_param_311', '10M_pid_param_312', '10M_pid_param_313', '10M_pid_param_314', '10M_pid_param_315', '10M_pid_param_316', '10M_pid_param_317', '10M_pid_param_32', '10M_pid_param_33', '10M_pid_param_34', '10M_pid_param_35', '10M_pid_param_36', '10M_pid_param_37', '10M_pid_param_38', '10M_pid_param_39', '10M_pid_param_41', '10M_pid_param_42', '10M_pid_param_43', '10M_pid_param_51', '10M_pid_param_510', '10M_pid_param_511', '10M_pid_param_512', '10M_pid_param_513', '10M_pid_param_52', '10M_pid_param_53', '10M_pid_param_54', '10M_pid_param_55', '10M_pid_param_56', '10M_pid_param_57', '10M_pid_param_58', '10M_pid_param_59', '10M_pid_param_61', '10M_pid_param_610', '10M_pid_param_611', '10M_pid_param_62', '10M_pid_param_63', '10M_pid_param_64', '10M_pid_param_65', '10M_pid_param_66', '10M_pid_param_67', '10M_pid_param_68', '10M_pid_param_69', '10M_pid_param_71', '10M_pid_param_710', '10M_pid_param_711', '10M_pid_param_712', '10M_pid_param_713', '10M_pid_param_714', '10M_pid_param_715', '10M_pid_param_716', '10M_pid_param_717', '10M_pid_param_718', '10M_pid_param_719', '10M_pid_param_72', '10M_pid_param_720', '10M_pid_param_721', '10M_pid_param_722', '10M_pid_param_73', '10M_pid_param_74', '10M_pid_param_75', '10M_pid_param_76', '10M_pid_param_77', '10M_pid_param_78', '10M_pid_param_79', '10M_pid_param_81', '10M_pid_param_82', '10M_pid_param_83', '10M_pid_param_84', '10M_pid_param_85', '10M_pid_param_86', '10M_pid_param_87', '10M_pid_param_88', '10M_pid_param_91', '10M_pid_param_92', '10M_pid_param_93', '10M_pid_param_94', \n",
    "                                                                '11M_pid_param_101', '11M_pid_param_1010', '11M_pid_param_1011', '11M_pid_param_1012', '11M_pid_param_1013', '11M_pid_param_1014', '11M_pid_param_1015', '11M_pid_param_1016', '11M_pid_param_1017', '11M_pid_param_1018', '11M_pid_param_1019', '11M_pid_param_102', '11M_pid_param_1020', '11M_pid_param_1021', '11M_pid_param_1022', '11M_pid_param_1023', '11M_pid_param_1024', '11M_pid_param_1025', '11M_pid_param_1026', '11M_pid_param_1027', '11M_pid_param_1028', '11M_pid_param_1029', '11M_pid_param_103', '11M_pid_param_1030', '11M_pid_param_1031', '11M_pid_param_1032', '11M_pid_param_1033', '11M_pid_param_1034', '11M_pid_param_1035', '11M_pid_param_1036', '11M_pid_param_1037', '11M_pid_param_1038', '11M_pid_param_104', '11M_pid_param_105', '11M_pid_param_106', '11M_pid_param_107', '11M_pid_param_108', '11M_pid_param_109', '11M_pid_param_11', '11M_pid_param_110', '11M_pid_param_111', '11M_pid_param_112', '11M_pid_param_113', '11M_pid_param_114', '11M_pid_param_115', '11M_pid_param_116', '11M_pid_param_117', '11M_pid_param_118', '11M_pid_param_119', '11M_pid_param_12', '11M_pid_param_120', '11M_pid_param_121', '11M_pid_param_122', '11M_pid_param_123', '11M_pid_param_124', '11M_pid_param_125', '11M_pid_param_126', '11M_pid_param_127', '11M_pid_param_128', '11M_pid_param_129', '11M_pid_param_13', '11M_pid_param_130', '11M_pid_param_131', '11M_pid_param_132', '11M_pid_param_133', '11M_pid_param_134', '11M_pid_param_135', '11M_pid_param_136', '11M_pid_param_137', '11M_pid_param_138', '11M_pid_param_139', '11M_pid_param_14', '11M_pid_param_140', '11M_pid_param_141', '11M_pid_param_142', '11M_pid_param_143', '11M_pid_param_144', '11M_pid_param_145', '11M_pid_param_146', '11M_pid_param_147', '11M_pid_param_148', '11M_pid_param_15', '11M_pid_param_16', '11M_pid_param_17', '11M_pid_param_18', '11M_pid_param_19', '11M_pid_param_21', '11M_pid_param_22', '11M_pid_param_23', '11M_pid_param_24', '11M_pid_param_25', '11M_pid_param_26', '11M_pid_param_27', '11M_pid_param_28', '11M_pid_param_29', '11M_pid_param_31', '11M_pid_param_310', '11M_pid_param_311', '11M_pid_param_312', '11M_pid_param_313', '11M_pid_param_314', '11M_pid_param_315', '11M_pid_param_316', '11M_pid_param_317', '11M_pid_param_32', '11M_pid_param_33', '11M_pid_param_34', '11M_pid_param_35', '11M_pid_param_36', '11M_pid_param_37', '11M_pid_param_38', '11M_pid_param_39', '11M_pid_param_41', '11M_pid_param_42', '11M_pid_param_43', '11M_pid_param_51', '11M_pid_param_510', '11M_pid_param_511', '11M_pid_param_512', '11M_pid_param_513', '11M_pid_param_52', '11M_pid_param_53', '11M_pid_param_54', '11M_pid_param_55', '11M_pid_param_56', '11M_pid_param_57', '11M_pid_param_58', '11M_pid_param_59', '11M_pid_param_61', '11M_pid_param_610', '11M_pid_param_611', '11M_pid_param_62', '11M_pid_param_63', '11M_pid_param_64', '11M_pid_param_65', '11M_pid_param_66', '11M_pid_param_67', '11M_pid_param_68', '11M_pid_param_69', '11M_pid_param_71', '11M_pid_param_710', '11M_pid_param_711', '11M_pid_param_712', '11M_pid_param_713', '11M_pid_param_714', '11M_pid_param_715', '11M_pid_param_716', '11M_pid_param_717', '11M_pid_param_718', '11M_pid_param_719', '11M_pid_param_72', '11M_pid_param_720', '11M_pid_param_721', '11M_pid_param_722', '11M_pid_param_73', '11M_pid_param_74', '11M_pid_param_75', '11M_pid_param_76', '11M_pid_param_77', '11M_pid_param_78', '11M_pid_param_79', '11M_pid_param_81', '11M_pid_param_82', '11M_pid_param_83', '11M_pid_param_84', '11M_pid_param_85', '11M_pid_param_86', '11M_pid_param_87', '11M_pid_param_88', '11M_pid_param_91', '11M_pid_param_92', '11M_pid_param_93', '11M_pid_param_94']],how='left', on = \"uid\")\n",
    "test_data.rename(index=str, columns={'9M_pid_param_101':'1M_pid_param_101', '9M_pid_param_1010':'1M_pid_param_1010', '9M_pid_param_1011':'1M_pid_param_1011', '9M_pid_param_1012':'1M_pid_param_1012', '9M_pid_param_1013':'1M_pid_param_1013', '9M_pid_param_1014':'1M_pid_param_1014', '9M_pid_param_1015':'1M_pid_param_1015', '9M_pid_param_1016':'1M_pid_param_1016', '9M_pid_param_1017':'1M_pid_param_1017', '9M_pid_param_1018':'1M_pid_param_1018', '9M_pid_param_1019':'1M_pid_param_1019', '9M_pid_param_102':'1M_pid_param_102', '9M_pid_param_1020':'1M_pid_param_1020', '9M_pid_param_1021':'1M_pid_param_1021', '9M_pid_param_1022':'1M_pid_param_1022', '9M_pid_param_1023':'1M_pid_param_1023', '9M_pid_param_1024':'1M_pid_param_1024', '9M_pid_param_1025':'1M_pid_param_1025', '9M_pid_param_1026':'1M_pid_param_1026', '9M_pid_param_1027':'1M_pid_param_1027', '9M_pid_param_1028':'1M_pid_param_1028', '9M_pid_param_1029':'1M_pid_param_1029', '9M_pid_param_103':'1M_pid_param_103', '9M_pid_param_1030':'1M_pid_param_1030', '9M_pid_param_1031':'1M_pid_param_1031', '9M_pid_param_1032':'1M_pid_param_1032', '9M_pid_param_1033':'1M_pid_param_1033', '9M_pid_param_1034':'1M_pid_param_1034', '9M_pid_param_1035':'1M_pid_param_1035', '9M_pid_param_1036':'1M_pid_param_1036', '9M_pid_param_1037':'1M_pid_param_1037', '9M_pid_param_1038':'1M_pid_param_1038', '9M_pid_param_104':'1M_pid_param_104', '9M_pid_param_105':'1M_pid_param_105', '9M_pid_param_106':'1M_pid_param_106', '9M_pid_param_107':'1M_pid_param_107', '9M_pid_param_108':'1M_pid_param_108', '9M_pid_param_109':'1M_pid_param_109', '9M_pid_param_11':'1M_pid_param_11', '9M_pid_param_110':'1M_pid_param_110', '9M_pid_param_111':'1M_pid_param_111', '9M_pid_param_112':'1M_pid_param_112', '9M_pid_param_113':'1M_pid_param_113', '9M_pid_param_114':'1M_pid_param_114', '9M_pid_param_115':'1M_pid_param_115', '9M_pid_param_116':'1M_pid_param_116', '9M_pid_param_117':'1M_pid_param_117', '9M_pid_param_118':'1M_pid_param_118', '9M_pid_param_119':'1M_pid_param_119', '9M_pid_param_12':'1M_pid_param_12', '9M_pid_param_120':'1M_pid_param_120', '9M_pid_param_121':'1M_pid_param_121', '9M_pid_param_122':'1M_pid_param_122', '9M_pid_param_123':'1M_pid_param_123', '9M_pid_param_124':'1M_pid_param_124', '9M_pid_param_125':'1M_pid_param_125', '9M_pid_param_126':'1M_pid_param_126', '9M_pid_param_127':'1M_pid_param_127', '9M_pid_param_128':'1M_pid_param_128', '9M_pid_param_129':'1M_pid_param_129', '9M_pid_param_13':'1M_pid_param_13', '9M_pid_param_130':'1M_pid_param_130', '9M_pid_param_131':'1M_pid_param_131', '9M_pid_param_132':'1M_pid_param_132', '9M_pid_param_133':'1M_pid_param_133', '9M_pid_param_134':'1M_pid_param_134', '9M_pid_param_135':'1M_pid_param_135', '9M_pid_param_136':'1M_pid_param_136', '9M_pid_param_137':'1M_pid_param_137', '9M_pid_param_138':'1M_pid_param_138', '9M_pid_param_139':'1M_pid_param_139', '9M_pid_param_14':'1M_pid_param_14', '9M_pid_param_140':'1M_pid_param_140', '9M_pid_param_141':'1M_pid_param_141', '9M_pid_param_142':'1M_pid_param_142', '9M_pid_param_143':'1M_pid_param_143', '9M_pid_param_144':'1M_pid_param_144', '9M_pid_param_145':'1M_pid_param_145', '9M_pid_param_146':'1M_pid_param_146', '9M_pid_param_147':'1M_pid_param_147', '9M_pid_param_148':'1M_pid_param_148', '9M_pid_param_15':'1M_pid_param_15', '9M_pid_param_16':'1M_pid_param_16', '9M_pid_param_17':'1M_pid_param_17', '9M_pid_param_18':'1M_pid_param_18', '9M_pid_param_19':'1M_pid_param_19', '9M_pid_param_21':'1M_pid_param_21', '9M_pid_param_22':'1M_pid_param_22', '9M_pid_param_23':'1M_pid_param_23', '9M_pid_param_24':'1M_pid_param_24', '9M_pid_param_25':'1M_pid_param_25', '9M_pid_param_26':'1M_pid_param_26', '9M_pid_param_27':'1M_pid_param_27', '9M_pid_param_28':'1M_pid_param_28', '9M_pid_param_29':'1M_pid_param_29', '9M_pid_param_31':'1M_pid_param_31', '9M_pid_param_310':'1M_pid_param_310', '9M_pid_param_311':'1M_pid_param_311', '9M_pid_param_312':'1M_pid_param_312', '9M_pid_param_313':'1M_pid_param_313', '9M_pid_param_314':'1M_pid_param_314', '9M_pid_param_315':'1M_pid_param_315', '9M_pid_param_316':'1M_pid_param_316', '9M_pid_param_317':'1M_pid_param_317', '9M_pid_param_32':'1M_pid_param_32', '9M_pid_param_33':'1M_pid_param_33', '9M_pid_param_34':'1M_pid_param_34', '9M_pid_param_35':'1M_pid_param_35', '9M_pid_param_36':'1M_pid_param_36', '9M_pid_param_37':'1M_pid_param_37', '9M_pid_param_38':'1M_pid_param_38', '9M_pid_param_39':'1M_pid_param_39', '9M_pid_param_41':'1M_pid_param_41', '9M_pid_param_42':'1M_pid_param_42', '9M_pid_param_43':'1M_pid_param_43', '9M_pid_param_51':'1M_pid_param_51', '9M_pid_param_510':'1M_pid_param_510', '9M_pid_param_511':'1M_pid_param_511', '9M_pid_param_512':'1M_pid_param_512', '9M_pid_param_513':'1M_pid_param_513', '9M_pid_param_52':'1M_pid_param_52', '9M_pid_param_53':'1M_pid_param_53', '9M_pid_param_54':'1M_pid_param_54', '9M_pid_param_55':'1M_pid_param_55', '9M_pid_param_56':'1M_pid_param_56', '9M_pid_param_57':'1M_pid_param_57', '9M_pid_param_58':'1M_pid_param_58', '9M_pid_param_59':'1M_pid_param_59', '9M_pid_param_61':'1M_pid_param_61', '9M_pid_param_610':'1M_pid_param_610', '9M_pid_param_611':'1M_pid_param_611', '9M_pid_param_62':'1M_pid_param_62', '9M_pid_param_63':'1M_pid_param_63', '9M_pid_param_64':'1M_pid_param_64', '9M_pid_param_65':'1M_pid_param_65', '9M_pid_param_66':'1M_pid_param_66', '9M_pid_param_67':'1M_pid_param_67', '9M_pid_param_68':'1M_pid_param_68', '9M_pid_param_69':'1M_pid_param_69', '9M_pid_param_71':'1M_pid_param_71', '9M_pid_param_710':'1M_pid_param_710', '9M_pid_param_711':'1M_pid_param_711', '9M_pid_param_712':'1M_pid_param_712', '9M_pid_param_713':'1M_pid_param_713', '9M_pid_param_714':'1M_pid_param_714', '9M_pid_param_715':'1M_pid_param_715', '9M_pid_param_716':'1M_pid_param_716', '9M_pid_param_717':'1M_pid_param_717', '9M_pid_param_718':'1M_pid_param_718', '9M_pid_param_719':'1M_pid_param_719', '9M_pid_param_72':'1M_pid_param_72', '9M_pid_param_720':'1M_pid_param_720', '9M_pid_param_721':'1M_pid_param_721', '9M_pid_param_722':'1M_pid_param_722', '9M_pid_param_73':'1M_pid_param_73', '9M_pid_param_74':'1M_pid_param_74', '9M_pid_param_75':'1M_pid_param_75', '9M_pid_param_76':'1M_pid_param_76', '9M_pid_param_77':'1M_pid_param_77', '9M_pid_param_78':'1M_pid_param_78', '9M_pid_param_79':'1M_pid_param_79', '9M_pid_param_81':'1M_pid_param_81', '9M_pid_param_82':'1M_pid_param_82', '9M_pid_param_83':'1M_pid_param_83', '9M_pid_param_84':'1M_pid_param_84', '9M_pid_param_85':'1M_pid_param_85', '9M_pid_param_86':'1M_pid_param_86', '9M_pid_param_87':'1M_pid_param_87', '9M_pid_param_88':'1M_pid_param_88', '9M_pid_param_91':'1M_pid_param_91', '9M_pid_param_92':'1M_pid_param_92', '9M_pid_param_93':'1M_pid_param_93', '9M_pid_param_94':'1M_pid_param_94', \n",
    "                                     '10M_pid_param_101':'2M_pid_param_101', '10M_pid_param_1010':'2M_pid_param_1010', '10M_pid_param_1011':'2M_pid_param_1011', '10M_pid_param_1012':'2M_pid_param_1012', '10M_pid_param_1013':'2M_pid_param_1013', '10M_pid_param_1014':'2M_pid_param_1014', '10M_pid_param_1015':'2M_pid_param_1015', '10M_pid_param_1016':'2M_pid_param_1016', '10M_pid_param_1017':'2M_pid_param_1017', '10M_pid_param_1018':'2M_pid_param_1018', '10M_pid_param_1019':'2M_pid_param_1019', '10M_pid_param_102':'2M_pid_param_102', '10M_pid_param_1020':'2M_pid_param_1020', '10M_pid_param_1021':'2M_pid_param_1021', '10M_pid_param_1022':'2M_pid_param_1022', '10M_pid_param_1023':'2M_pid_param_1023', '10M_pid_param_1024':'2M_pid_param_1024', '10M_pid_param_1025':'2M_pid_param_1025', '10M_pid_param_1026':'2M_pid_param_1026', '10M_pid_param_1027':'2M_pid_param_1027', '10M_pid_param_1028':'2M_pid_param_1028', '10M_pid_param_1029':'2M_pid_param_1029', '10M_pid_param_103':'2M_pid_param_103', '10M_pid_param_1030':'2M_pid_param_1030', '10M_pid_param_1031':'2M_pid_param_1031', '10M_pid_param_1032':'2M_pid_param_1032', '10M_pid_param_1033':'2M_pid_param_1033', '10M_pid_param_1034':'2M_pid_param_1034', '10M_pid_param_1035':'2M_pid_param_1035', '10M_pid_param_1036':'2M_pid_param_1036', '10M_pid_param_1037':'2M_pid_param_1037', '10M_pid_param_1038':'2M_pid_param_1038', '10M_pid_param_104':'2M_pid_param_104', '10M_pid_param_105':'2M_pid_param_105', '10M_pid_param_106':'2M_pid_param_106', '10M_pid_param_107':'2M_pid_param_107', '10M_pid_param_108':'2M_pid_param_108', '10M_pid_param_109':'2M_pid_param_109', '10M_pid_param_11':'2M_pid_param_11', '10M_pid_param_110':'2M_pid_param_110', '10M_pid_param_111':'2M_pid_param_111', '10M_pid_param_112':'2M_pid_param_112', '10M_pid_param_113':'2M_pid_param_113', '10M_pid_param_114':'2M_pid_param_114', '10M_pid_param_115':'2M_pid_param_115', '10M_pid_param_116':'2M_pid_param_116', '10M_pid_param_117':'2M_pid_param_117', '10M_pid_param_118':'2M_pid_param_118', '10M_pid_param_119':'2M_pid_param_119', '10M_pid_param_12':'2M_pid_param_12', '10M_pid_param_120':'2M_pid_param_120', '10M_pid_param_121':'2M_pid_param_121', '10M_pid_param_122':'2M_pid_param_122', '10M_pid_param_123':'2M_pid_param_123', '10M_pid_param_124':'2M_pid_param_124', '10M_pid_param_125':'2M_pid_param_125', '10M_pid_param_126':'2M_pid_param_126', '10M_pid_param_127':'2M_pid_param_127', '10M_pid_param_128':'2M_pid_param_128', '10M_pid_param_129':'2M_pid_param_129', '10M_pid_param_13':'2M_pid_param_13', '10M_pid_param_130':'2M_pid_param_130', '10M_pid_param_131':'2M_pid_param_131', '10M_pid_param_132':'2M_pid_param_132', '10M_pid_param_133':'2M_pid_param_133', '10M_pid_param_134':'2M_pid_param_134', '10M_pid_param_135':'2M_pid_param_135', '10M_pid_param_136':'2M_pid_param_136', '10M_pid_param_137':'2M_pid_param_137', '10M_pid_param_138':'2M_pid_param_138', '10M_pid_param_139':'2M_pid_param_139', '10M_pid_param_14':'2M_pid_param_14', '10M_pid_param_140':'2M_pid_param_140', '10M_pid_param_141':'2M_pid_param_141', '10M_pid_param_142':'2M_pid_param_142', '10M_pid_param_143':'2M_pid_param_143', '10M_pid_param_144':'2M_pid_param_144', '10M_pid_param_145':'2M_pid_param_145', '10M_pid_param_146':'2M_pid_param_146', '10M_pid_param_147':'2M_pid_param_147', '10M_pid_param_148':'2M_pid_param_148', '10M_pid_param_15':'2M_pid_param_15', '10M_pid_param_16':'2M_pid_param_16', '10M_pid_param_17':'2M_pid_param_17', '10M_pid_param_18':'2M_pid_param_18', '10M_pid_param_19':'2M_pid_param_19', '10M_pid_param_21':'2M_pid_param_21', '10M_pid_param_22':'2M_pid_param_22', '10M_pid_param_23':'2M_pid_param_23', '10M_pid_param_24':'2M_pid_param_24', '10M_pid_param_25':'2M_pid_param_25', '10M_pid_param_26':'2M_pid_param_26', '10M_pid_param_27':'2M_pid_param_27', '10M_pid_param_28':'2M_pid_param_28', '10M_pid_param_29':'2M_pid_param_29', '10M_pid_param_31':'2M_pid_param_31', '10M_pid_param_310':'2M_pid_param_310', '10M_pid_param_311':'2M_pid_param_311', '10M_pid_param_312':'2M_pid_param_312', '10M_pid_param_313':'2M_pid_param_313', '10M_pid_param_314':'2M_pid_param_314', '10M_pid_param_315':'2M_pid_param_315', '10M_pid_param_316':'2M_pid_param_316', '10M_pid_param_317':'2M_pid_param_317', '10M_pid_param_32':'2M_pid_param_32', '10M_pid_param_33':'2M_pid_param_33', '10M_pid_param_34':'2M_pid_param_34', '10M_pid_param_35':'2M_pid_param_35', '10M_pid_param_36':'2M_pid_param_36', '10M_pid_param_37':'2M_pid_param_37', '10M_pid_param_38':'2M_pid_param_38', '10M_pid_param_39':'2M_pid_param_39', '10M_pid_param_41':'2M_pid_param_41', '10M_pid_param_42':'2M_pid_param_42', '10M_pid_param_43':'2M_pid_param_43', '10M_pid_param_51':'2M_pid_param_51', '10M_pid_param_510':'2M_pid_param_510', '10M_pid_param_511':'2M_pid_param_511', '10M_pid_param_512':'2M_pid_param_512', '10M_pid_param_513':'2M_pid_param_513', '10M_pid_param_52':'2M_pid_param_52', '10M_pid_param_53':'2M_pid_param_53', '10M_pid_param_54':'2M_pid_param_54', '10M_pid_param_55':'2M_pid_param_55', '10M_pid_param_56':'2M_pid_param_56', '10M_pid_param_57':'2M_pid_param_57', '10M_pid_param_58':'2M_pid_param_58', '10M_pid_param_59':'2M_pid_param_59', '10M_pid_param_61':'2M_pid_param_61', '10M_pid_param_610':'2M_pid_param_610', '10M_pid_param_611':'2M_pid_param_611', '10M_pid_param_62':'2M_pid_param_62', '10M_pid_param_63':'2M_pid_param_63', '10M_pid_param_64':'2M_pid_param_64', '10M_pid_param_65':'2M_pid_param_65', '10M_pid_param_66':'2M_pid_param_66', '10M_pid_param_67':'2M_pid_param_67', '10M_pid_param_68':'2M_pid_param_68', '10M_pid_param_69':'2M_pid_param_69', '10M_pid_param_71':'2M_pid_param_71', '10M_pid_param_710':'2M_pid_param_710', '10M_pid_param_711':'2M_pid_param_711', '10M_pid_param_712':'2M_pid_param_712', '10M_pid_param_713':'2M_pid_param_713', '10M_pid_param_714':'2M_pid_param_714', '10M_pid_param_715':'2M_pid_param_715', '10M_pid_param_716':'2M_pid_param_716', '10M_pid_param_717':'2M_pid_param_717', '10M_pid_param_718':'2M_pid_param_718', '10M_pid_param_719':'2M_pid_param_719', '10M_pid_param_72':'2M_pid_param_72', '10M_pid_param_720':'2M_pid_param_720', '10M_pid_param_721':'2M_pid_param_721', '10M_pid_param_722':'2M_pid_param_722', '10M_pid_param_73':'2M_pid_param_73', '10M_pid_param_74':'2M_pid_param_74', '10M_pid_param_75':'2M_pid_param_75', '10M_pid_param_76':'2M_pid_param_76', '10M_pid_param_77':'2M_pid_param_77', '10M_pid_param_78':'2M_pid_param_78', '10M_pid_param_79':'2M_pid_param_79', '10M_pid_param_81':'2M_pid_param_81', '10M_pid_param_82':'2M_pid_param_82', '10M_pid_param_83':'2M_pid_param_83', '10M_pid_param_84':'2M_pid_param_84', '10M_pid_param_85':'2M_pid_param_85', '10M_pid_param_86':'2M_pid_param_86', '10M_pid_param_87':'2M_pid_param_87', '10M_pid_param_88':'2M_pid_param_88', '10M_pid_param_91':'2M_pid_param_91', '10M_pid_param_92':'2M_pid_param_92', '10M_pid_param_93':'2M_pid_param_93', '10M_pid_param_94':'2M_pid_param_94', \n",
    "                                     '11M_pid_param_101':'3M_pid_param_101', '11M_pid_param_1010':'3M_pid_param_1010', '11M_pid_param_1011':'3M_pid_param_1011', '11M_pid_param_1012':'3M_pid_param_1012', '11M_pid_param_1013':'3M_pid_param_1013', '11M_pid_param_1014':'3M_pid_param_1014', '11M_pid_param_1015':'3M_pid_param_1015', '11M_pid_param_1016':'3M_pid_param_1016', '11M_pid_param_1017':'3M_pid_param_1017', '11M_pid_param_1018':'3M_pid_param_1018', '11M_pid_param_1019':'3M_pid_param_1019', '11M_pid_param_102':'3M_pid_param_102', '11M_pid_param_1020':'3M_pid_param_1020', '11M_pid_param_1021':'3M_pid_param_1021', '11M_pid_param_1022':'3M_pid_param_1022', '11M_pid_param_1023':'3M_pid_param_1023', '11M_pid_param_1024':'3M_pid_param_1024', '11M_pid_param_1025':'3M_pid_param_1025', '11M_pid_param_1026':'3M_pid_param_1026', '11M_pid_param_1027':'3M_pid_param_1027', '11M_pid_param_1028':'3M_pid_param_1028', '11M_pid_param_1029':'3M_pid_param_1029', '11M_pid_param_103':'3M_pid_param_103', '11M_pid_param_1030':'3M_pid_param_1030', '11M_pid_param_1031':'3M_pid_param_1031', '11M_pid_param_1032':'3M_pid_param_1032', '11M_pid_param_1033':'3M_pid_param_1033', '11M_pid_param_1034':'3M_pid_param_1034', '11M_pid_param_1035':'3M_pid_param_1035', '11M_pid_param_1036':'3M_pid_param_1036', '11M_pid_param_1037':'3M_pid_param_1037', '11M_pid_param_1038':'3M_pid_param_1038', '11M_pid_param_104':'3M_pid_param_104', '11M_pid_param_105':'3M_pid_param_105', '11M_pid_param_106':'3M_pid_param_106', '11M_pid_param_107':'3M_pid_param_107', '11M_pid_param_108':'3M_pid_param_108', '11M_pid_param_109':'3M_pid_param_109', '11M_pid_param_11':'3M_pid_param_11', '11M_pid_param_110':'3M_pid_param_110', '11M_pid_param_111':'3M_pid_param_111', '11M_pid_param_112':'3M_pid_param_112', '11M_pid_param_113':'3M_pid_param_113', '11M_pid_param_114':'3M_pid_param_114', '11M_pid_param_115':'3M_pid_param_115', '11M_pid_param_116':'3M_pid_param_116', '11M_pid_param_117':'3M_pid_param_117', '11M_pid_param_118':'3M_pid_param_118', '11M_pid_param_119':'3M_pid_param_119', '11M_pid_param_12':'3M_pid_param_12', '11M_pid_param_120':'3M_pid_param_120', '11M_pid_param_121':'3M_pid_param_121', '11M_pid_param_122':'3M_pid_param_122', '11M_pid_param_123':'3M_pid_param_123', '11M_pid_param_124':'3M_pid_param_124', '11M_pid_param_125':'3M_pid_param_125', '11M_pid_param_126':'3M_pid_param_126', '11M_pid_param_127':'3M_pid_param_127', '11M_pid_param_128':'3M_pid_param_128', '11M_pid_param_129':'3M_pid_param_129', '11M_pid_param_13':'3M_pid_param_13', '11M_pid_param_130':'3M_pid_param_130', '11M_pid_param_131':'3M_pid_param_131', '11M_pid_param_132':'3M_pid_param_132', '11M_pid_param_133':'3M_pid_param_133', '11M_pid_param_134':'3M_pid_param_134', '11M_pid_param_135':'3M_pid_param_135', '11M_pid_param_136':'3M_pid_param_136', '11M_pid_param_137':'3M_pid_param_137', '11M_pid_param_138':'3M_pid_param_138', '11M_pid_param_139':'3M_pid_param_139', '11M_pid_param_14':'3M_pid_param_14', '11M_pid_param_140':'3M_pid_param_140', '11M_pid_param_141':'3M_pid_param_141', '11M_pid_param_142':'3M_pid_param_142', '11M_pid_param_143':'3M_pid_param_143', '11M_pid_param_144':'3M_pid_param_144', '11M_pid_param_145':'3M_pid_param_145', '11M_pid_param_146':'3M_pid_param_146', '11M_pid_param_147':'3M_pid_param_147', '11M_pid_param_148':'3M_pid_param_148', '11M_pid_param_15':'3M_pid_param_15', '11M_pid_param_16':'3M_pid_param_16', '11M_pid_param_17':'3M_pid_param_17', '11M_pid_param_18':'3M_pid_param_18', '11M_pid_param_19':'3M_pid_param_19', '11M_pid_param_21':'3M_pid_param_21', '11M_pid_param_22':'3M_pid_param_22', '11M_pid_param_23':'3M_pid_param_23', '11M_pid_param_24':'3M_pid_param_24', '11M_pid_param_25':'3M_pid_param_25', '11M_pid_param_26':'3M_pid_param_26', '11M_pid_param_27':'3M_pid_param_27', '11M_pid_param_28':'3M_pid_param_28', '11M_pid_param_29':'3M_pid_param_29', '11M_pid_param_31':'3M_pid_param_31', '11M_pid_param_310':'3M_pid_param_310', '11M_pid_param_311':'3M_pid_param_311', '11M_pid_param_312':'3M_pid_param_312', '11M_pid_param_313':'3M_pid_param_313', '11M_pid_param_314':'3M_pid_param_314', '11M_pid_param_315':'3M_pid_param_315', '11M_pid_param_316':'3M_pid_param_316', '11M_pid_param_317':'3M_pid_param_317', '11M_pid_param_32':'3M_pid_param_32', '11M_pid_param_33':'3M_pid_param_33', '11M_pid_param_34':'3M_pid_param_34', '11M_pid_param_35':'3M_pid_param_35', '11M_pid_param_36':'3M_pid_param_36', '11M_pid_param_37':'3M_pid_param_37', '11M_pid_param_38':'3M_pid_param_38', '11M_pid_param_39':'3M_pid_param_39', '11M_pid_param_41':'3M_pid_param_41', '11M_pid_param_42':'3M_pid_param_42', '11M_pid_param_43':'3M_pid_param_43', '11M_pid_param_51':'3M_pid_param_51', '11M_pid_param_510':'3M_pid_param_510', '11M_pid_param_511':'3M_pid_param_511', '11M_pid_param_512':'3M_pid_param_512', '11M_pid_param_513':'3M_pid_param_513', '11M_pid_param_52':'3M_pid_param_52', '11M_pid_param_53':'3M_pid_param_53', '11M_pid_param_54':'3M_pid_param_54', '11M_pid_param_55':'3M_pid_param_55', '11M_pid_param_56':'3M_pid_param_56', '11M_pid_param_57':'3M_pid_param_57', '11M_pid_param_58':'3M_pid_param_58', '11M_pid_param_59':'3M_pid_param_59', '11M_pid_param_61':'3M_pid_param_61', '11M_pid_param_610':'3M_pid_param_610', '11M_pid_param_611':'3M_pid_param_611', '11M_pid_param_62':'3M_pid_param_62', '11M_pid_param_63':'3M_pid_param_63', '11M_pid_param_64':'3M_pid_param_64', '11M_pid_param_65':'3M_pid_param_65', '11M_pid_param_66':'3M_pid_param_66', '11M_pid_param_67':'3M_pid_param_67', '11M_pid_param_68':'3M_pid_param_68', '11M_pid_param_69':'3M_pid_param_69', '11M_pid_param_71':'3M_pid_param_71', '11M_pid_param_710':'3M_pid_param_710', '11M_pid_param_711':'3M_pid_param_711', '11M_pid_param_712':'3M_pid_param_712', '11M_pid_param_713':'3M_pid_param_713', '11M_pid_param_714':'3M_pid_param_714', '11M_pid_param_715':'3M_pid_param_715', '11M_pid_param_716':'3M_pid_param_716', '11M_pid_param_717':'3M_pid_param_717', '11M_pid_param_718':'3M_pid_param_718', '11M_pid_param_719':'3M_pid_param_719', '11M_pid_param_72':'3M_pid_param_72', '11M_pid_param_720':'3M_pid_param_720', '11M_pid_param_721':'3M_pid_param_721', '11M_pid_param_722':'3M_pid_param_722', '11M_pid_param_73':'3M_pid_param_73', '11M_pid_param_74':'3M_pid_param_74', '11M_pid_param_75':'3M_pid_param_75', '11M_pid_param_76':'3M_pid_param_76', '11M_pid_param_77':'3M_pid_param_77', '11M_pid_param_78':'3M_pid_param_78', '11M_pid_param_79':'3M_pid_param_79', '11M_pid_param_81':'3M_pid_param_81', '11M_pid_param_82':'3M_pid_param_82', '11M_pid_param_83':'3M_pid_param_83', '11M_pid_param_84':'3M_pid_param_84', '11M_pid_param_85':'3M_pid_param_85', '11M_pid_param_86':'3M_pid_param_86', '11M_pid_param_87':'3M_pid_param_87', '11M_pid_param_88':'3M_pid_param_88', '11M_pid_param_91':'3M_pid_param_91', '11M_pid_param_92':'3M_pid_param_92', '11M_pid_param_93':'3M_pid_param_93', '11M_pid_param_94':'3M_pid_param_94'},inplace=True)\n",
    "test_data.info()"
   ]
  },
  {
   "cell_type": "code",
   "execution_count": 11,
   "metadata": {},
   "outputs": [
    {
     "name": "stdout",
     "output_type": "stream",
     "text": [
      "<class 'pandas.core.frame.DataFrame'>\n",
      "RangeIndex: 89240 entries, 0 to 89239\n",
      "Columns: 200 entries, uid to 11M_cate_id_9\n",
      "dtypes: float64(199), int64(1)\n",
      "memory usage: 136.2 MB\n"
     ]
    }
   ],
   "source": [
    "order_info_summary = pd.read_csv(t_order_info_summary,low_memory=False)\n",
    "order_info_summary.info()"
   ]
  },
  {
   "cell_type": "code",
   "execution_count": 12,
   "metadata": {},
   "outputs": [
    {
     "name": "stdout",
     "output_type": "stream",
     "text": [
      "<class 'pandas.core.frame.DataFrame'>\n",
      "Index: 90993 entries, 0 to 90992\n",
      "Columns: 706 entries, uid to 3M_cate_id_9\n",
      "dtypes: datetime64[ns](1), float64(702), uint32(1), uint8(2)\n",
      "memory usage: 489.3+ MB\n"
     ]
    }
   ],
   "source": [
    "train_data=pd.merge(train_data, order_info_summary.loc[:,['uid', '8M_cost_sum', '8M_cost_count', '8M_cost_max', '8M_cost_min', '8M_cost_mean', \n",
    "                                                                 '9M_cost_sum', '9M_cost_count', '9M_cost_max', '9M_cost_min', '9M_cost_mean', \n",
    "                                                                 '10M_cost_sum', '10M_cost_count', '10M_cost_max', '10M_cost_min', '10M_cost_mean', \n",
    "                                                                 '9M_8M_cost', '10M_9M_cost', \n",
    "                                                                 '8M_cate_id_1', '8M_cate_id_10', '8M_cate_id_11', '8M_cate_id_12', '8M_cate_id_13', '8M_cate_id_14', '8M_cate_id_15', '8M_cate_id_16', '8M_cate_id_17', '8M_cate_id_18', '8M_cate_id_19', '8M_cate_id_2', '8M_cate_id_20', '8M_cate_id_21', '8M_cate_id_22', '8M_cate_id_23', '8M_cate_id_24', '8M_cate_id_25', '8M_cate_id_26', '8M_cate_id_27', '8M_cate_id_28', '8M_cate_id_29', '8M_cate_id_3', '8M_cate_id_30', '8M_cate_id_31', '8M_cate_id_32', '8M_cate_id_33', '8M_cate_id_34', '8M_cate_id_35', '8M_cate_id_36', '8M_cate_id_37', '8M_cate_id_38', '8M_cate_id_39', '8M_cate_id_4', '8M_cate_id_40', '8M_cate_id_41', '8M_cate_id_42', '8M_cate_id_43', '8M_cate_id_44', '8M_cate_id_5', '8M_cate_id_6', '8M_cate_id_7', '8M_cate_id_8', '8M_cate_id_9', \n",
    "                                                                 '9M_cate_id_1', '9M_cate_id_10', '9M_cate_id_11', '9M_cate_id_12', '9M_cate_id_13', '9M_cate_id_14', '9M_cate_id_15', '9M_cate_id_16', '9M_cate_id_17', '9M_cate_id_18', '9M_cate_id_19', '9M_cate_id_2', '9M_cate_id_20', '9M_cate_id_21', '9M_cate_id_22', '9M_cate_id_23', '9M_cate_id_24', '9M_cate_id_25', '9M_cate_id_26', '9M_cate_id_27', '9M_cate_id_28', '9M_cate_id_29', '9M_cate_id_3', '9M_cate_id_30', '9M_cate_id_31', '9M_cate_id_32', '9M_cate_id_33', '9M_cate_id_34', '9M_cate_id_35', '9M_cate_id_36', '9M_cate_id_37', '9M_cate_id_38', '9M_cate_id_39', '9M_cate_id_4', '9M_cate_id_40', '9M_cate_id_41', '9M_cate_id_42', '9M_cate_id_43', '9M_cate_id_44', '9M_cate_id_5', '9M_cate_id_6', '9M_cate_id_7', '9M_cate_id_8', '9M_cate_id_9', \n",
    "                                                                 '10M_cate_id_1', '10M_cate_id_10', '10M_cate_id_11', '10M_cate_id_12', '10M_cate_id_13', '10M_cate_id_14', '10M_cate_id_15', '10M_cate_id_16', '10M_cate_id_17', '10M_cate_id_18', '10M_cate_id_19', '10M_cate_id_2', '10M_cate_id_20', '10M_cate_id_21', '10M_cate_id_22', '10M_cate_id_23', '10M_cate_id_24', '10M_cate_id_25', '10M_cate_id_26', '10M_cate_id_27', '10M_cate_id_28', '10M_cate_id_29', '10M_cate_id_3', '10M_cate_id_30', '10M_cate_id_31', '10M_cate_id_32', '10M_cate_id_33', '10M_cate_id_34', '10M_cate_id_35', '10M_cate_id_36', '10M_cate_id_37', '10M_cate_id_38', '10M_cate_id_39', '10M_cate_id_4', '10M_cate_id_40', '10M_cate_id_41', '10M_cate_id_42', '10M_cate_id_43', '10M_cate_id_44', '10M_cate_id_5', '10M_cate_id_6', '10M_cate_id_7', '10M_cate_id_8', '10M_cate_id_9']],how='left', on = \"uid\")\n",
    "train_data.rename(index=str, columns={'8M_cost_sum':'1M_cost_sum', '8M_cost_count':'1M_cost_count', '8M_cost_max':'1M_cost_max', '8M_cost_min':'1M_cost_min', '8M_cost_mean':'1M_cost_mean', \n",
    "                                      '9M_cost_sum':'2M_cost_sum', '9M_cost_count':'2M_cost_count', '9M_cost_max':'2M_cost_max', '9M_cost_min':'2M_cost_min', '9M_cost_mean':'2M_cost_mean', \n",
    "                                      '10M_cost_sum':'3M_cost_sum', '10M_cost_count':'3M_cost_count', '10M_cost_max':'3M_cost_max', '10M_cost_min':'3M_cost_min', '10M_cost_mean':'3M_cost_mean',\n",
    "                                      '9M_8M_cost':'cost_period_1', '10M_9M_cost':'cost_period_2', \n",
    "                                      '8M_cate_id_1':'1M_cate_id_1', '8M_cate_id_10':'1M_cate_id_10', '8M_cate_id_11':'1M_cate_id_11', '8M_cate_id_12':'1M_cate_id_12', '8M_cate_id_13':'1M_cate_id_13', '8M_cate_id_14':'1M_cate_id_14', '8M_cate_id_15':'1M_cate_id_15', '8M_cate_id_16':'1M_cate_id_16', '8M_cate_id_17':'1M_cate_id_17', '8M_cate_id_18':'1M_cate_id_18', '8M_cate_id_19':'1M_cate_id_19', '8M_cate_id_2':'1M_cate_id_2', '8M_cate_id_20':'1M_cate_id_20', '8M_cate_id_21':'1M_cate_id_21', '8M_cate_id_22':'1M_cate_id_22', '8M_cate_id_23':'1M_cate_id_23', '8M_cate_id_24':'1M_cate_id_24', '8M_cate_id_25':'1M_cate_id_25', '8M_cate_id_26':'1M_cate_id_26', '8M_cate_id_27':'1M_cate_id_27', '8M_cate_id_28':'1M_cate_id_28', '8M_cate_id_29':'1M_cate_id_29', '8M_cate_id_3':'1M_cate_id_3', '8M_cate_id_30':'1M_cate_id_30', '8M_cate_id_31':'1M_cate_id_31', '8M_cate_id_32':'1M_cate_id_32', '8M_cate_id_33':'1M_cate_id_33', '8M_cate_id_34':'1M_cate_id_34', '8M_cate_id_35':'1M_cate_id_35', '8M_cate_id_36':'1M_cate_id_36', '8M_cate_id_37':'1M_cate_id_37', '8M_cate_id_38':'1M_cate_id_38', '8M_cate_id_39':'1M_cate_id_39', '8M_cate_id_4':'1M_cate_id_4', '8M_cate_id_40':'1M_cate_id_40', '8M_cate_id_41':'1M_cate_id_41', '8M_cate_id_42':'1M_cate_id_42', '8M_cate_id_43':'1M_cate_id_43', '8M_cate_id_44':'1M_cate_id_44', '8M_cate_id_5':'1M_cate_id_5', '8M_cate_id_6':'1M_cate_id_6', '8M_cate_id_7':'1M_cate_id_7', '8M_cate_id_8':'1M_cate_id_8', '8M_cate_id_9':'1M_cate_id_9', \n",
    "                                      '9M_cate_id_1':'2M_cate_id_1', '9M_cate_id_10':'2M_cate_id_10', '9M_cate_id_11':'2M_cate_id_11', '9M_cate_id_12':'2M_cate_id_12', '9M_cate_id_13':'2M_cate_id_13', '9M_cate_id_14':'2M_cate_id_14', '9M_cate_id_15':'2M_cate_id_15', '9M_cate_id_16':'2M_cate_id_16', '9M_cate_id_17':'2M_cate_id_17', '9M_cate_id_18':'2M_cate_id_18', '9M_cate_id_19':'2M_cate_id_19', '9M_cate_id_2':'2M_cate_id_2', '9M_cate_id_20':'2M_cate_id_20', '9M_cate_id_21':'2M_cate_id_21', '9M_cate_id_22':'2M_cate_id_22', '9M_cate_id_23':'2M_cate_id_23', '9M_cate_id_24':'2M_cate_id_24', '9M_cate_id_25':'2M_cate_id_25', '9M_cate_id_26':'2M_cate_id_26', '9M_cate_id_27':'2M_cate_id_27', '9M_cate_id_28':'2M_cate_id_28', '9M_cate_id_29':'2M_cate_id_29', '9M_cate_id_3':'2M_cate_id_3', '9M_cate_id_30':'2M_cate_id_30', '9M_cate_id_31':'2M_cate_id_31', '9M_cate_id_32':'2M_cate_id_32', '9M_cate_id_33':'2M_cate_id_33', '9M_cate_id_34':'2M_cate_id_34', '9M_cate_id_35':'2M_cate_id_35', '9M_cate_id_36':'2M_cate_id_36', '9M_cate_id_37':'2M_cate_id_37', '9M_cate_id_38':'2M_cate_id_38', '9M_cate_id_39':'2M_cate_id_39', '9M_cate_id_4':'2M_cate_id_4', '9M_cate_id_40':'2M_cate_id_40', '9M_cate_id_41':'2M_cate_id_41', '9M_cate_id_42':'2M_cate_id_42', '9M_cate_id_43':'2M_cate_id_43', '9M_cate_id_44':'2M_cate_id_44', '9M_cate_id_5':'2M_cate_id_5', '9M_cate_id_6':'2M_cate_id_6', '9M_cate_id_7':'2M_cate_id_7', '9M_cate_id_8':'2M_cate_id_8', '9M_cate_id_9':'2M_cate_id_9', \n",
    "                                      '10M_cate_id_1':'3M_cate_id_1', '10M_cate_id_10':'3M_cate_id_10', '10M_cate_id_11':'3M_cate_id_11', '10M_cate_id_12':'3M_cate_id_12', '10M_cate_id_13':'3M_cate_id_13', '10M_cate_id_14':'3M_cate_id_14', '10M_cate_id_15':'3M_cate_id_15', '10M_cate_id_16':'3M_cate_id_16', '10M_cate_id_17':'3M_cate_id_17', '10M_cate_id_18':'3M_cate_id_18', '10M_cate_id_19':'3M_cate_id_19', '10M_cate_id_2':'3M_cate_id_2', '10M_cate_id_20':'3M_cate_id_20', '10M_cate_id_21':'3M_cate_id_21', '10M_cate_id_22':'3M_cate_id_22', '10M_cate_id_23':'3M_cate_id_23', '10M_cate_id_24':'3M_cate_id_24', '10M_cate_id_25':'3M_cate_id_25', '10M_cate_id_26':'3M_cate_id_26', '10M_cate_id_27':'3M_cate_id_27', '10M_cate_id_28':'3M_cate_id_28', '10M_cate_id_29':'3M_cate_id_29', '10M_cate_id_3':'3M_cate_id_3', '10M_cate_id_30':'3M_cate_id_30', '10M_cate_id_31':'3M_cate_id_31', '10M_cate_id_32':'3M_cate_id_32', '10M_cate_id_33':'3M_cate_id_33', '10M_cate_id_34':'3M_cate_id_34', '10M_cate_id_35':'3M_cate_id_35', '10M_cate_id_36':'3M_cate_id_36', '10M_cate_id_37':'3M_cate_id_37', '10M_cate_id_38':'3M_cate_id_38', '10M_cate_id_39':'3M_cate_id_39', '10M_cate_id_4':'3M_cate_id_4', '10M_cate_id_40':'3M_cate_id_40', '10M_cate_id_41':'3M_cate_id_41', '10M_cate_id_42':'3M_cate_id_42', '10M_cate_id_43':'3M_cate_id_43', '10M_cate_id_44':'3M_cate_id_44', '10M_cate_id_5':'3M_cate_id_5', '10M_cate_id_6':'3M_cate_id_6', '10M_cate_id_7':'3M_cate_id_7', '10M_cate_id_8':'3M_cate_id_8', '10M_cate_id_9':'3M_cate_id_9'},inplace=True)\n",
    "train_data.info()"
   ]
  },
  {
   "cell_type": "code",
   "execution_count": null,
   "metadata": {},
   "outputs": [
    {
     "name": "stdout",
     "output_type": "stream",
     "text": [
      "<class 'pandas.core.frame.DataFrame'>\n",
      "Index: 90993 entries, 0 to 90992\n",
      "Columns: 705 entries, uid to 3M_cate_id_9\n",
      "dtypes: datetime64[ns](1), float64(701), uint32(1), uint8(2)\n",
      "memory usage: 488.6+ MB\n"
     ]
    }
   ],
   "source": [
    "test_data=pd.merge(test_data, order_info_summary.loc[:,['uid', '9M_cost_sum', '9M_cost_count', '9M_cost_max', '9M_cost_min', '9M_cost_mean', \n",
    "                                                                '10M_cost_sum', '10M_cost_count', '10M_cost_max', '10M_cost_min', '10M_cost_mean', \n",
    "                                                                '11M_cost_sum', '11M_cost_count', '11M_cost_max', '11M_cost_min', '11M_cost_mean', \n",
    "                                                                '10M_9M_cost', '11M_10M_cost', \n",
    "                                                                '9M_cate_id_1', '9M_cate_id_10', '9M_cate_id_11', '9M_cate_id_12', '9M_cate_id_13', '9M_cate_id_14', '9M_cate_id_15', '9M_cate_id_16', '9M_cate_id_17', '9M_cate_id_18', '9M_cate_id_19', '9M_cate_id_2', '9M_cate_id_20', '9M_cate_id_21', '9M_cate_id_22', '9M_cate_id_23', '9M_cate_id_24', '9M_cate_id_25', '9M_cate_id_26', '9M_cate_id_27', '9M_cate_id_28', '9M_cate_id_29', '9M_cate_id_3', '9M_cate_id_30', '9M_cate_id_31', '9M_cate_id_32', '9M_cate_id_33', '9M_cate_id_34', '9M_cate_id_35', '9M_cate_id_36', '9M_cate_id_37', '9M_cate_id_38', '9M_cate_id_39', '9M_cate_id_4', '9M_cate_id_40', '9M_cate_id_41', '9M_cate_id_42', '9M_cate_id_43', '9M_cate_id_44', '9M_cate_id_5', '9M_cate_id_6', '9M_cate_id_7', '9M_cate_id_8', '9M_cate_id_9', \n",
    "                                                                '10M_cate_id_1', '10M_cate_id_10', '10M_cate_id_11', '10M_cate_id_12', '10M_cate_id_13', '10M_cate_id_14', '10M_cate_id_15', '10M_cate_id_16', '10M_cate_id_17', '10M_cate_id_18', '10M_cate_id_19', '10M_cate_id_2', '10M_cate_id_20', '10M_cate_id_21', '10M_cate_id_22', '10M_cate_id_23', '10M_cate_id_24', '10M_cate_id_25', '10M_cate_id_26', '10M_cate_id_27', '10M_cate_id_28', '10M_cate_id_29', '10M_cate_id_3', '10M_cate_id_30', '10M_cate_id_31', '10M_cate_id_32', '10M_cate_id_33', '10M_cate_id_34', '10M_cate_id_35', '10M_cate_id_36', '10M_cate_id_37', '10M_cate_id_38', '10M_cate_id_39', '10M_cate_id_4', '10M_cate_id_40', '10M_cate_id_41', '10M_cate_id_42', '10M_cate_id_43', '10M_cate_id_44', '10M_cate_id_5', '10M_cate_id_6', '10M_cate_id_7', '10M_cate_id_8', '10M_cate_id_9', \n",
    "                                                                '11M_cate_id_1', '11M_cate_id_10', '11M_cate_id_11', '11M_cate_id_12', '11M_cate_id_13', '11M_cate_id_14', '11M_cate_id_15', '11M_cate_id_16', '11M_cate_id_17', '11M_cate_id_18', '11M_cate_id_19', '11M_cate_id_2', '11M_cate_id_20', '11M_cate_id_21', '11M_cate_id_22', '11M_cate_id_23', '11M_cate_id_24', '11M_cate_id_25', '11M_cate_id_26', '11M_cate_id_27', '11M_cate_id_28', '11M_cate_id_29', '11M_cate_id_3', '11M_cate_id_30', '11M_cate_id_31', '11M_cate_id_32', '11M_cate_id_33', '11M_cate_id_34', '11M_cate_id_35', '11M_cate_id_36', '11M_cate_id_37', '11M_cate_id_38', '11M_cate_id_39', '11M_cate_id_4', '11M_cate_id_40', '11M_cate_id_41', '11M_cate_id_42', '11M_cate_id_43', '11M_cate_id_44', '11M_cate_id_5', '11M_cate_id_6', '11M_cate_id_7', '11M_cate_id_8', '11M_cate_id_9' ]],how='left', on = \"uid\")\n",
    "test_data.rename(index=str, columns={'9M_cost_sum':'1M_cost_sum', '9M_cost_count':'1M_cost_count', '9M_cost_max':'1M_cost_max', '9M_cost_min':'1M_cost_min', '9M_cost_mean':'1M_cost_mean', \n",
    "                                     '10M_cost_sum':'2M_cost_sum', '10M_cost_count':'2M_cost_count', '10M_cost_max':'2M_cost_max', '10M_cost_min':'2M_cost_min', '10M_cost_mean':'2M_cost_mean', \n",
    "                                     '11M_cost_sum':'3M_cost_sum', '11M_cost_count':'3M_cost_count', '11M_cost_max':'3M_cost_max', '11M_cost_min':'3M_cost_min', '11M_cost_mean':'3M_cost_mean', \n",
    "                                     '10M_9M_cost':'cost_period_1', '11M_10M_cost':'cost_period_2', \n",
    "                                     '9M_cate_id_1':'1M_cate_id_1', '9M_cate_id_10':'1M_cate_id_10', '9M_cate_id_11':'1M_cate_id_11', '9M_cate_id_12':'1M_cate_id_12', '9M_cate_id_13':'1M_cate_id_13', '9M_cate_id_14':'1M_cate_id_14', '9M_cate_id_15':'1M_cate_id_15', '9M_cate_id_16':'1M_cate_id_16', '9M_cate_id_17':'1M_cate_id_17', '9M_cate_id_18':'1M_cate_id_18', '9M_cate_id_19':'1M_cate_id_19', '9M_cate_id_2':'1M_cate_id_2', '9M_cate_id_20':'1M_cate_id_20', '9M_cate_id_21':'1M_cate_id_21', '9M_cate_id_22':'1M_cate_id_22', '9M_cate_id_23':'1M_cate_id_23', '9M_cate_id_24':'1M_cate_id_24', '9M_cate_id_25':'1M_cate_id_25', '9M_cate_id_26':'1M_cate_id_26', '9M_cate_id_27':'1M_cate_id_27', '9M_cate_id_28':'1M_cate_id_28', '9M_cate_id_29':'1M_cate_id_29', '9M_cate_id_3':'1M_cate_id_3', '9M_cate_id_30':'1M_cate_id_30', '9M_cate_id_31':'1M_cate_id_31', '9M_cate_id_32':'1M_cate_id_32', '9M_cate_id_33':'1M_cate_id_33', '9M_cate_id_34':'1M_cate_id_34', '9M_cate_id_35':'1M_cate_id_35', '9M_cate_id_36':'1M_cate_id_36', '9M_cate_id_37':'1M_cate_id_37', '9M_cate_id_38':'1M_cate_id_38', '9M_cate_id_39':'1M_cate_id_39', '9M_cate_id_4':'1M_cate_id_4', '9M_cate_id_40':'1M_cate_id_40', '9M_cate_id_41':'1M_cate_id_41', '9M_cate_id_42':'1M_cate_id_42', '9M_cate_id_43':'1M_cate_id_43', '9M_cate_id_44':'1M_cate_id_44', '9M_cate_id_5':'1M_cate_id_5', '9M_cate_id_6':'1M_cate_id_6', '9M_cate_id_7':'1M_cate_id_7', '9M_cate_id_8':'1M_cate_id_8', '9M_cate_id_9':'1M_cate_id_9', \n",
    "                                     '10M_cate_id_1':'2M_cate_id_1', '10M_cate_id_10':'2M_cate_id_10', '10M_cate_id_11':'2M_cate_id_11', '10M_cate_id_12':'2M_cate_id_12', '10M_cate_id_13':'2M_cate_id_13', '10M_cate_id_14':'2M_cate_id_14', '10M_cate_id_15':'2M_cate_id_15', '10M_cate_id_16':'2M_cate_id_16', '10M_cate_id_17':'2M_cate_id_17', '10M_cate_id_18':'2M_cate_id_18', '10M_cate_id_19':'2M_cate_id_19', '10M_cate_id_2':'2M_cate_id_2', '10M_cate_id_20':'2M_cate_id_20', '10M_cate_id_21':'2M_cate_id_21', '10M_cate_id_22':'2M_cate_id_22', '10M_cate_id_23':'2M_cate_id_23', '10M_cate_id_24':'2M_cate_id_24', '10M_cate_id_25':'2M_cate_id_25', '10M_cate_id_26':'2M_cate_id_26', '10M_cate_id_27':'2M_cate_id_27', '10M_cate_id_28':'2M_cate_id_28', '10M_cate_id_29':'2M_cate_id_29', '10M_cate_id_3':'2M_cate_id_3', '10M_cate_id_30':'2M_cate_id_30', '10M_cate_id_31':'2M_cate_id_31', '10M_cate_id_32':'2M_cate_id_32', '10M_cate_id_33':'2M_cate_id_33', '10M_cate_id_34':'2M_cate_id_34', '10M_cate_id_35':'2M_cate_id_35', '10M_cate_id_36':'2M_cate_id_36', '10M_cate_id_37':'2M_cate_id_37', '10M_cate_id_38':'2M_cate_id_38', '10M_cate_id_39':'2M_cate_id_39', '10M_cate_id_4':'2M_cate_id_4', '10M_cate_id_40':'2M_cate_id_40', '10M_cate_id_41':'2M_cate_id_41', '10M_cate_id_42':'2M_cate_id_42', '10M_cate_id_43':'2M_cate_id_43', '10M_cate_id_44':'2M_cate_id_44', '10M_cate_id_5':'2M_cate_id_5', '10M_cate_id_6':'2M_cate_id_6', '10M_cate_id_7':'2M_cate_id_7', '10M_cate_id_8':'2M_cate_id_8', '10M_cate_id_9':'2M_cate_id_9', \n",
    "                                     '11M_cate_id_1':'3M_cate_id_1', '11M_cate_id_10':'3M_cate_id_10', '11M_cate_id_11':'3M_cate_id_11', '11M_cate_id_12':'3M_cate_id_12', '11M_cate_id_13':'3M_cate_id_13', '11M_cate_id_14':'3M_cate_id_14', '11M_cate_id_15':'3M_cate_id_15', '11M_cate_id_16':'3M_cate_id_16', '11M_cate_id_17':'3M_cate_id_17', '11M_cate_id_18':'3M_cate_id_18', '11M_cate_id_19':'3M_cate_id_19', '11M_cate_id_2':'3M_cate_id_2', '11M_cate_id_20':'3M_cate_id_20', '11M_cate_id_21':'3M_cate_id_21', '11M_cate_id_22':'3M_cate_id_22', '11M_cate_id_23':'3M_cate_id_23', '11M_cate_id_24':'3M_cate_id_24', '11M_cate_id_25':'3M_cate_id_25', '11M_cate_id_26':'3M_cate_id_26', '11M_cate_id_27':'3M_cate_id_27', '11M_cate_id_28':'3M_cate_id_28', '11M_cate_id_29':'3M_cate_id_29', '11M_cate_id_3':'3M_cate_id_3', '11M_cate_id_30':'3M_cate_id_30', '11M_cate_id_31':'3M_cate_id_31', '11M_cate_id_32':'3M_cate_id_32', '11M_cate_id_33':'3M_cate_id_33', '11M_cate_id_34':'3M_cate_id_34', '11M_cate_id_35':'3M_cate_id_35', '11M_cate_id_36':'3M_cate_id_36', '11M_cate_id_37':'3M_cate_id_37', '11M_cate_id_38':'3M_cate_id_38', '11M_cate_id_39':'3M_cate_id_39', '11M_cate_id_4':'3M_cate_id_4', '11M_cate_id_40':'3M_cate_id_40', '11M_cate_id_41':'3M_cate_id_41', '11M_cate_id_42':'3M_cate_id_42', '11M_cate_id_43':'3M_cate_id_43', '11M_cate_id_44':'3M_cate_id_44', '11M_cate_id_5':'3M_cate_id_5', '11M_cate_id_6':'3M_cate_id_6', '11M_cate_id_7':'3M_cate_id_7', '11M_cate_id_8':'3M_cate_id_8', '11M_cate_id_9':'3M_cate_id_9'},inplace=True)\n",
    "test_data.info()"
   ]
  },
  {
   "cell_type": "code",
   "execution_count": null,
   "metadata": {},
   "outputs": [],
   "source": [
    "train_data.fillna(0.0,inplace=True)\n",
    "train_data.fillna(0,inplace=True)\n",
    "train_data['active_date']=((train_data['active_date']-pd.datetime(2015,12,1))/np.timedelta64(1, 's'))/86400\n",
    "train_data.to_csv(\"../feature/train_data_new.csv\",index=None,encoding='utf-8')\n",
    "test_data.fillna(0.0,inplace=True)\n",
    "test_data.fillna(0,inplace=True)\n",
    "test_data['active_date']=((test_data['active_date']-pd.datetime(2015,12,1))/np.timedelta64(1, 's'))/86400\n",
    "test_data.to_csv(\"../feature/test_data_new.csv\",index=None,encoding='utf-8')"
   ]
  },
  {
   "cell_type": "code",
   "execution_count": 2,
   "metadata": {},
   "outputs": [],
   "source": [
    "t_loan_info_summary_payback=\"../feature/mid/loan_info_summary_payback.csv\"\n",
    "t_train_data_new=\"../feature/train_data_new.csv\"\n",
    "t_test_data_new=\"../feature/test_data_new.csv\"\n"
   ]
  },
  {
   "cell_type": "code",
   "execution_count": 3,
   "metadata": {},
   "outputs": [],
   "source": [
    "train_data_new = pd.read_csv(t_train_data_new,encoding=\"utf-8\")\n",
    "test_data_new = pd.read_csv(t_test_data_new,encoding=\"utf-8\")\n",
    "loan_info_summary_payback = pd.read_csv(t_loan_info_summary_payback,encoding=\"utf-8\")"
   ]
  },
  {
   "cell_type": "code",
   "execution_count": 4,
   "metadata": {},
   "outputs": [
    {
     "name": "stdout",
     "output_type": "stream",
     "text": [
      "<class 'pandas.core.frame.DataFrame'>\n",
      "Index: 90993 entries, 0 to 90992\n",
      "Columns: 718 entries, uid to 3M_payback_mean\n",
      "dtypes: float64(715), int64(3)\n",
      "memory usage: 499.1+ MB\n"
     ]
    }
   ],
   "source": [
    "train_data_new=pd.merge(train_data_new, loan_info_summary_payback.loc[:,['uid', '8M_payback_sum', '8M_payback_max', '8M_payback_min', '8M_payback_mean', '9M_payback_sum', '9M_payback_max', '9M_payback_min', '9M_payback_mean', '10M_payback_sum', '10M_payback_max', '10M_payback_min', '10M_payback_mean']],how='left', on = \"uid\")\n",
    "train_data_new.rename(index=str, columns={'8M_payback_sum':'1M_payback_sum', '8M_payback_max':'1M_payback_max', '8M_payback_min':'1M_payback_min', '8M_payback_mean':'1M_payback_mean', '9M_payback_sum':'2M_payback_sum', '9M_payback_max':'2M_payback_max', '9M_payback_min':'2M_payback_min', '9M_payback_mean':'2M_payback_mean', '10M_payback_sum':'3M_payback_sum', '10M_payback_max':'3M_payback_max', '10M_payback_min':'3M_payback_min', '10M_payback_mean':'3M_payback_mean'},inplace=True)\n",
    "train_data_new.info()"
   ]
  },
  {
   "cell_type": "code",
   "execution_count": 6,
   "metadata": {},
   "outputs": [
    {
     "name": "stdout",
     "output_type": "stream",
     "text": [
      "<class 'pandas.core.frame.DataFrame'>\n",
      "Index: 90993 entries, 0 to 90992\n",
      "Columns: 717 entries, uid to 3M_payback_mean\n",
      "dtypes: float64(714), int64(3)\n",
      "memory usage: 498.5+ MB\n"
     ]
    }
   ],
   "source": [
    "test_data_new=pd.merge(test_data_new, loan_info_summary_payback.loc[:,['uid', '9M_payback_sum', '9M_payback_max', '9M_payback_min', '9M_payback_mean', '10M_payback_sum', '10M_payback_max', '10M_payback_min', '10M_payback_mean', '11M_payback_sum', '11M_payback_max', '11M_payback_min', '11M_payback_mean']],how='left', on = \"uid\")\n",
    "test_data_new.rename(index=str, columns={'9M_payback_sum':'1M_payback_sum', '9M_payback_max':'1M_payback_max', '9M_payback_min':'1M_payback_min', '9M_payback_mean':'1M_payback_mean', '10M_payback_sum':'2M_payback_sum', '10M_payback_max':'2M_payback_max', '10M_payback_min':'2M_payback_min', '10M_payback_mean':'2M_payback_mean', '11M_payback_sum':'3M_payback_sum', '11M_payback_max':'3M_payback_max', '11M_payback_min':'3M_payback_min', '11M_payback_mean':'3M_payback_mean'},inplace=True)\n",
    "test_data_new.info()"
   ]
  },
  {
   "cell_type": "code",
   "execution_count": 7,
   "metadata": {},
   "outputs": [],
   "source": [
    "train_data_new.fillna(0.0,inplace=True)\n",
    "train_data_new.fillna(0,inplace=True)\n",
    "train_data_new.to_csv(\"../feature/train_data_new_payback.csv\",index=None,encoding='utf-8')\n",
    "test_data_new.fillna(0.0,inplace=True)\n",
    "test_data_new.fillna(0,inplace=True)\n",
    "test_data_new.to_csv(\"../feature/test_data_new_payback.csv\",index=None,encoding='utf-8')"
   ]
  },
  {
   "cell_type": "code",
   "execution_count": 8,
   "metadata": {},
   "outputs": [
    {
     "data": {
      "text/html": [
       "<div>\n",
       "<style scoped>\n",
       "    .dataframe tbody tr th:only-of-type {\n",
       "        vertical-align: middle;\n",
       "    }\n",
       "\n",
       "    .dataframe tbody tr th {\n",
       "        vertical-align: top;\n",
       "    }\n",
       "\n",
       "    .dataframe thead th {\n",
       "        text-align: right;\n",
       "    }\n",
       "</style>\n",
       "<table border=\"1\" class=\"dataframe\">\n",
       "  <thead>\n",
       "    <tr style=\"text-align: right;\">\n",
       "      <th></th>\n",
       "      <th>uid</th>\n",
       "      <th>age</th>\n",
       "      <th>sex</th>\n",
       "      <th>active_date</th>\n",
       "      <th>limit</th>\n",
       "      <th>1M_loan_amount_sum</th>\n",
       "      <th>1M_plannum_sum</th>\n",
       "      <th>1M_loan_amount_count</th>\n",
       "      <th>1M_plannum_count</th>\n",
       "      <th>1M_loan_amount_max</th>\n",
       "      <th>...</th>\n",
       "      <th>1M_payback_min</th>\n",
       "      <th>1M_payback_mean</th>\n",
       "      <th>2M_payback_sum</th>\n",
       "      <th>2M_payback_max</th>\n",
       "      <th>2M_payback_min</th>\n",
       "      <th>2M_payback_mean</th>\n",
       "      <th>3M_payback_sum</th>\n",
       "      <th>3M_payback_max</th>\n",
       "      <th>3M_payback_min</th>\n",
       "      <th>3M_payback_mean</th>\n",
       "    </tr>\n",
       "  </thead>\n",
       "  <tbody>\n",
       "    <tr>\n",
       "      <th>0</th>\n",
       "      <td>26308</td>\n",
       "      <td>30</td>\n",
       "      <td>1</td>\n",
       "      <td>77.0</td>\n",
       "      <td>5.974677</td>\n",
       "      <td>9.267390</td>\n",
       "      <td>2.0</td>\n",
       "      <td>2.0</td>\n",
       "      <td>2.0</td>\n",
       "      <td>4.723017</td>\n",
       "      <td>...</td>\n",
       "      <td>4.544373</td>\n",
       "      <td>4.633695</td>\n",
       "      <td>30.339627</td>\n",
       "      <td>5.584137</td>\n",
       "      <td>1.287532</td>\n",
       "      <td>3.792453</td>\n",
       "      <td>22.323986</td>\n",
       "      <td>4.723017</td>\n",
       "      <td>4.292651</td>\n",
       "      <td>4.464797</td>\n",
       "    </tr>\n",
       "    <tr>\n",
       "      <th>1</th>\n",
       "      <td>78209</td>\n",
       "      <td>40</td>\n",
       "      <td>1</td>\n",
       "      <td>82.0</td>\n",
       "      <td>5.292154</td>\n",
       "      <td>0.000000</td>\n",
       "      <td>0.0</td>\n",
       "      <td>0.0</td>\n",
       "      <td>0.0</td>\n",
       "      <td>0.000000</td>\n",
       "      <td>...</td>\n",
       "      <td>0.000000</td>\n",
       "      <td>0.000000</td>\n",
       "      <td>0.000000</td>\n",
       "      <td>0.000000</td>\n",
       "      <td>0.000000</td>\n",
       "      <td>0.000000</td>\n",
       "      <td>0.000000</td>\n",
       "      <td>0.000000</td>\n",
       "      <td>0.000000</td>\n",
       "      <td>0.000000</td>\n",
       "    </tr>\n",
       "    <tr>\n",
       "      <th>2</th>\n",
       "      <td>51930</td>\n",
       "      <td>35</td>\n",
       "      <td>1</td>\n",
       "      <td>140.0</td>\n",
       "      <td>6.292055</td>\n",
       "      <td>6.405333</td>\n",
       "      <td>6.0</td>\n",
       "      <td>1.0</td>\n",
       "      <td>1.0</td>\n",
       "      <td>6.405333</td>\n",
       "      <td>...</td>\n",
       "      <td>1.067556</td>\n",
       "      <td>1.067556</td>\n",
       "      <td>0.000000</td>\n",
       "      <td>0.000000</td>\n",
       "      <td>0.000000</td>\n",
       "      <td>0.000000</td>\n",
       "      <td>0.000000</td>\n",
       "      <td>0.000000</td>\n",
       "      <td>0.000000</td>\n",
       "      <td>0.000000</td>\n",
       "    </tr>\n",
       "  </tbody>\n",
       "</table>\n",
       "<p>3 rows × 717 columns</p>\n",
       "</div>"
      ],
      "text/plain": [
       "     uid  age  sex  active_date     limit  1M_loan_amount_sum  1M_plannum_sum  \\\n",
       "0  26308   30    1         77.0  5.974677            9.267390             2.0   \n",
       "1  78209   40    1         82.0  5.292154            0.000000             0.0   \n",
       "2  51930   35    1        140.0  6.292055            6.405333             6.0   \n",
       "\n",
       "   1M_loan_amount_count  1M_plannum_count  1M_loan_amount_max  \\\n",
       "0                   2.0               2.0            4.723017   \n",
       "1                   0.0               0.0            0.000000   \n",
       "2                   1.0               1.0            6.405333   \n",
       "\n",
       "        ...         1M_payback_min  1M_payback_mean  2M_payback_sum  \\\n",
       "0       ...               4.544373         4.633695       30.339627   \n",
       "1       ...               0.000000         0.000000        0.000000   \n",
       "2       ...               1.067556         1.067556        0.000000   \n",
       "\n",
       "   2M_payback_max  2M_payback_min  2M_payback_mean  3M_payback_sum  \\\n",
       "0        5.584137        1.287532         3.792453       22.323986   \n",
       "1        0.000000        0.000000         0.000000        0.000000   \n",
       "2        0.000000        0.000000         0.000000        0.000000   \n",
       "\n",
       "   3M_payback_max  3M_payback_min  3M_payback_mean  \n",
       "0        4.723017        4.292651         4.464797  \n",
       "1        0.000000        0.000000         0.000000  \n",
       "2        0.000000        0.000000         0.000000  \n",
       "\n",
       "[3 rows x 717 columns]"
      ]
     },
     "execution_count": 8,
     "metadata": {},
     "output_type": "execute_result"
    }
   ],
   "source": [
    "test_data_new.head(3)"
   ]
  },
  {
   "cell_type": "code",
   "execution_count": 2,
   "metadata": {},
   "outputs": [],
   "source": [
    "# t_order_info_summary_RobustScaler=\"../feature/mid/order_info_summary_RobustScaler.csv\"\n",
    "t_train_data_new=\"../feature/train_data_new_payback.csv\"\n",
    "t_test_data_new=\"../feature/test_data_new_payback.csv\"\n"
   ]
  },
  {
   "cell_type": "code",
   "execution_count": 3,
   "metadata": {},
   "outputs": [],
   "source": [
    "train_data_new = pd.read_csv(t_train_data_new,encoding=\"utf-8\")\n",
    "test_data_new = pd.read_csv(t_test_data_new,encoding=\"utf-8\")\n"
   ]
  },
  {
   "cell_type": "code",
   "execution_count": null,
   "metadata": {},
   "outputs": [],
   "source": [
    "from sklearn.preprocessing import RobustScaler\n",
    "train_data_new.loc[:,[ '1M_cost_sum', '1M_cost_count', '1M_cost_max', '1M_cost_min', '1M_cost_mean', '2M_cost_sum', '2M_cost_count', '2M_cost_max', '2M_cost_min', '2M_cost_mean', '3M_cost_sum', '3M_cost_count', '3M_cost_max', '3M_cost_min', '3M_cost_mean', 'cost_period_1', 'cost_period_2' ]] = RobustScaler().fit_transform(train_data_new.loc[:,[ '1M_cost_sum', '1M_cost_count', '1M_cost_max', '1M_cost_min', '1M_cost_mean', '2M_cost_sum', '2M_cost_count', '2M_cost_max', '2M_cost_min', '2M_cost_mean', '3M_cost_sum', '3M_cost_count', '3M_cost_max', '3M_cost_min', '3M_cost_mean', 'cost_period_1', 'cost_period_2' ]])\n",
    "test_data_new.loc[:,[ '1M_cost_sum', '1M_cost_count', '1M_cost_max', '1M_cost_min', '1M_cost_mean', '2M_cost_sum', '2M_cost_count', '2M_cost_max', '2M_cost_min', '2M_cost_mean', '3M_cost_sum', '3M_cost_count', '3M_cost_max', '3M_cost_min', '3M_cost_mean', 'cost_period_1', 'cost_period_2' ]] = RobustScaler().fit_transform(test_data_new.loc[:,[ '1M_cost_sum', '1M_cost_count', '1M_cost_max', '1M_cost_min', '1M_cost_mean', '2M_cost_sum', '2M_cost_count', '2M_cost_max', '2M_cost_min', '2M_cost_mean', '3M_cost_sum', '3M_cost_count', '3M_cost_max', '3M_cost_min', '3M_cost_mean', 'cost_period_1', 'cost_period_2' ]])"
   ]
  },
  {
   "cell_type": "code",
   "execution_count": null,
   "metadata": {},
   "outputs": [],
   "source": [
    "train_data_new.fillna(0.0,inplace=True)\n",
    "train_data_new.fillna(0,inplace=True)\n",
    "train_data_new.to_csv(\"../feature/train_data_new_payback_RobustScaler.csv\",index=None,encoding='utf-8')\n",
    "test_data_new.fillna(0.0,inplace=True)\n",
    "test_data_new.fillna(0,inplace=True)\n",
    "test_data_new.to_csv(\"../feature/test_data_new_payback_RobustScaler.csv\",index=None,encoding='utf-8')"
   ]
  },
  {
   "cell_type": "code",
   "execution_count": null,
   "metadata": {},
   "outputs": [],
   "source": []
  }
 ],
 "metadata": {
  "kernelspec": {
   "display_name": "Python 3",
   "language": "python",
   "name": "python3"
  },
  "language_info": {
   "codemirror_mode": {
    "name": "ipython",
    "version": 3
   },
   "file_extension": ".py",
   "mimetype": "text/x-python",
   "name": "python",
   "nbconvert_exporter": "python",
   "pygments_lexer": "ipython3",
   "version": "3.5.2"
  }
 },
 "nbformat": 4,
 "nbformat_minor": 2
}
